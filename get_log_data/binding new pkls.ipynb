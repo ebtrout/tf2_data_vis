{
 "cells": [
  {
   "cell_type": "code",
   "execution_count": null,
   "id": "d423c95a",
   "metadata": {},
   "outputs": [],
   "source": [
    "import pandas as pd\n",
    "import joblib\n",
    "\n",
    "clean_log_data_new = joblib.load('../data/pkls/clean_log_data_new.pkl')"
   ]
  }
 ],
 "metadata": {
  "language_info": {
   "name": "python"
  }
 },
 "nbformat": 4,
 "nbformat_minor": 5
}
