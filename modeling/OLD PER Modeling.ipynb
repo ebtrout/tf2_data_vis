{
 "cells": [
  {
   "cell_type": "code",
   "execution_count": 1,
   "id": "191bd4ba",
   "metadata": {},
   "outputs": [],
   "source": [
    "### SETUP ###\n",
    "import pandas as pd\n",
    "import numpy as np\n",
    "from sklearn.model_selection import train_test_split\n",
    "from sklearn.metrics import accuracy_score\n",
    "import joblib\n",
    "from xgboost import XGBClassifier\n",
    "from sklearn.model_selection import GridSearchCV, StratifiedKFold\n",
    "import random\n",
    "import matplotlib.pyplot as plt\n",
    "\n",
    "pd.set_option('future.no_silent_downcasting', True)\n",
    "\n",
    "data = joblib.load(\"data/pkls/rgl_df_dict.pkl\")\n",
    "\n",
    "# Load necessary data\n",
    "\n",
    "players = data['players']\n",
    "teams = data['team_stats']\n",
    "\n",
    "\n",
    "info = data['info']"
   ]
  },
  {
   "cell_type": "markdown",
   "id": "862b5a3e",
   "metadata": {},
   "source": [
    "## Medic"
   ]
  },
  {
   "cell_type": "code",
   "execution_count": 95,
   "id": "b10c9535",
   "metadata": {},
   "outputs": [],
   "source": [
    "team_medic_stats = data['team_medic_stats']\n",
    "\n",
    "medic = players[players['primary_class'] == 'medic']\n",
    "medic = medic.sort_values(by = 'primary_class',ascending = False)\n",
    "\n",
    "medic = medic.groupby(['id','team']).first().reset_index()\n",
    "\n",
    "# Turn some columns into rates that arent rates yet\n",
    "cols_to_rate = ['medicstats.deaths_with_95_99_uber','medicstats.deaths_within_20s_after_uber']\n",
    "\n",
    "for col in cols_to_rate:\n",
    "    s = col + \"_rate\"\n",
    "    divisor = team_medic_stats['medic_deaths'].replace(0,np.nan)\n",
    "    team_medic_stats[s] = team_medic_stats[col].div(divisor).astype(float).round(4)\n",
    "\n",
    "cols = ['id','team','medicstats.avg_time_before_healing',\n",
    "       'medicstats.avg_time_before_using', 'medicstats.avg_time_to_build',\n",
    "       'medicstats.avg_uber_length', 'medicstats.biggest_advantage_lost',\n",
    "       'medicstats.deaths_with_95_99_uber_rate','drops_rate',\n",
    "       'medicstats.deaths_within_20s_after_uber_rate','round_losing_medic_death_rate']\n",
    "\n",
    "\n",
    "\n",
    "team_medic_stats = team_medic_stats[cols]\n",
    "\n",
    "medic = medic.replace(np.nan,0)\n",
    "\n",
    "team_medic_stats = team_medic_stats.replace(np.nan,0)\n",
    "\n",
    "medic = medic.merge(team_medic_stats,on = ['id','team'],how = \"left\")\n",
    "\n",
    "# Drop from corr mat\n",
    "drop_cols = ['total_time','ka','hr_pct','hr',\n",
    "             'hroi','hroi_real','dmg_pct','medkits',\n",
    "              'steamid', 'primary_class',\n",
    "             'primary_class_time','name','dmg_real',\n",
    "             \"offclass_time\",'heal','total_time',\n",
    "             'offclass_pct','dmg_real_pct','ka_pct',\n",
    "             'drops','deaths','sentries',\n",
    "             'round_losing_medic_death_rate','suicides']\n",
    "\n",
    "\n",
    "medic = medic.drop(drop_cols,axis = 1)\n",
    "\n",
    "# test = medic.corr()\n",
    "# for i in test.index:\n",
    "#     for j in test.columns:\n",
    "#         if test.loc[i,j] > .8 and test.loc[i,j] != 1:\n",
    "#             s = f'{i} x {j}: {test.loc[i,j].round(4)}'\n",
    "#             print(s)\n",
    "\n",
    "medic = medic.merge(\n",
    "    teams[['id', 'winner', 'team']].replace(np.nan, 0),\n",
    "    on=['id', 'team']\n",
    ")\n",
    "\n",
    "medic = medic.drop(['id', 'team'],axis = 1)\n",
    "medic = medic.apply(pd.to_numeric)"
   ]
  },
  {
   "cell_type": "markdown",
   "id": "8cee7f3c",
   "metadata": {},
   "source": [
    "## Data Manip for combat classes"
   ]
  },
  {
   "cell_type": "code",
   "execution_count": 122,
   "id": "c9ab1e86",
   "metadata": {},
   "outputs": [],
   "source": [
    "\n",
    "# Drop unnecessary / highly correlated columns\n",
    "drop_cols = ['primary_class_time', 'assists',\n",
    "       'cpc','deaths', 'dmg', 'dmg_real', 'drops', 'dt',\n",
    "       'dt_real', 'heal', 'hr','kills','medkits','sentries',\n",
    "       'ka','name','offclass_time','kapd','kpd','kill_pct','total_time','healps']\n",
    "\n",
    "\n",
    "# Only players who played scout,soldier,demo\n",
    "\n",
    "combat_classes = players.drop(drop_cols,axis = 1)\n",
    "combat_class_names = ['scout','soldier','demoman']\n",
    "combat_classes = combat_classes[combat_classes['primary_class'].isin(combat_class_names)]\n",
    "\n",
    "# Merge on winner\n",
    "combat_classes = combat_classes.merge(\n",
    "    teams[['id', 'winner', 'team']].replace(np.nan, 0),\n",
    "    on=['id', 'team']\n",
    ")\n",
    "\n",
    "# Reorder cols\n",
    "reorder_cols = ['id','steamid','team','primary_class','winner']\n",
    "combat_classes = combat_classes[ reorder_cols + [col for col in combat_classes.columns if col not in reorder_cols]]\n",
    "\n",
    " # Prepare X for modeling\n",
    "combat_classes = combat_classes.replace(np.nan,0)\n",
    "\n",
    "### ADD BACK LATER ####\n",
    "#combat_classes.drop(['id','steamid','team',],axis = 1,inplace = True)\n",
    "\n",
    "# cols_to_convert = combat_classes.columns.difference(['primary_class'])\n",
    "# combat_classes[cols_to_convert] = combat_classes[cols_to_convert].apply(pd.to_numeric)"
   ]
  },
  {
   "cell_type": "code",
   "execution_count": 97,
   "id": "aedc209f",
   "metadata": {},
   "outputs": [],
   "source": [
    "## Initialize Dictionaries ##\n",
    "\n",
    "classes = ['medic'] + combat_class_names \n",
    "\n",
    "xgb_dict = {class_name: None for class_name in classes}\n",
    "\n",
    "X_test_dict = {class_name: None for class_name in classes}\n",
    "\n",
    "y_test_dict = {class_name: None for class_name in classes}\n",
    "\n",
    "X_eval_dict = {class_name: None for class_name in classes}\n",
    "\n",
    "\n",
    "y_eval_dict = {class_name: None for class_name in classes}\n"
   ]
  },
  {
   "cell_type": "markdown",
   "id": "cd64968f",
   "metadata": {},
   "source": [
    "## Modeling"
   ]
  },
  {
   "cell_type": "code",
   "execution_count": 98,
   "id": "338360aa",
   "metadata": {},
   "outputs": [
    {
     "name": "stdout",
     "output_type": "stream",
     "text": [
      "medic\n",
      "scout\n",
      "soldier\n",
      "demoman\n"
     ]
    }
   ],
   "source": [
    "\n",
    "seed = 123\n",
    "\n",
    "for class_name in classes:\n",
    "    print(class_name)\n",
    "\n",
    "    # Last data manips before modeling\n",
    "    if class_name != 'medic':\n",
    "        X = combat_classes.copy()\n",
    "        X = X[X['primary_class'] == class_name]\n",
    "        y = X['winner']\n",
    "        X.drop(['primary_class','winner'],axis = 1,inplace = True)\n",
    "    elif class_name == 'medic':\n",
    "        X = medic.copy()\n",
    "        y = X['winner']\n",
    "        X.drop(['winner'],axis = 1,inplace = True)        \n",
    "\n",
    "    \n",
    "    # Split into test and eval\n",
    "    X_train, X_test, y_train, y_test = train_test_split(X, y, test_size=0.3)\n",
    "\n",
    "    X_test, X_eval, y_test, y_eval = train_test_split(X_test, y_test, test_size=0.3)\n",
    "\n",
    "    # Set seeds\n",
    "    random.seed(seed)\n",
    "    np.random.seed(seed)\n",
    "\n",
    "\n",
    "    # Define the base model\n",
    "    model = XGBClassifier(eval_metric='logloss', random_state=seed)\n",
    "\n",
    "    # Define parameter grid to search over\n",
    "    param_grid = {\n",
    "        'max_depth': [2,3,4,5,6,7],\n",
    "        'learning_rate': [0.1, 0.2],\n",
    "        'n_estimators': [100],\n",
    "        'subsample': [0.7, 1.0],\n",
    "        'colsample_bytree': [0.4,0.5,0.6,0.7]\n",
    "    }\n",
    "\n",
    "    # Define cross-validation strategy\n",
    "    cv = StratifiedKFold(n_splits=5, shuffle=True, random_state=seed)\n",
    "\n",
    "    # Set up GridSearchCV\n",
    "    grid_search = GridSearchCV(\n",
    "        estimator=model,\n",
    "        param_grid=param_grid,\n",
    "        scoring='accuracy',   # or other metrics like 'roc_auc' for binary\n",
    "        cv=cv,\n",
    "        verbose=0,\n",
    "        n_jobs=-1\n",
    "    )\n",
    "\n",
    "    grid_search.fit(X_train, y_train)\n",
    "\n",
    "    best_model = grid_search.best_estimator_\n",
    "\n",
    "    xgb_dict[class_name] = best_model\n",
    "\n",
    "    X_test_dict[class_name] = X_test\n",
    "\n",
    "    y_test_dict[class_name] = y_test\n",
    "\n",
    "    y_eval_dict[class_name] = y_eval\n",
    "\n",
    "    X_eval_dict[class_name] = X_eval\n"
   ]
  },
  {
   "cell_type": "markdown",
   "id": "109cca34",
   "metadata": {},
   "source": [
    "## Calculating PER Distributions"
   ]
  },
  {
   "cell_type": "code",
   "execution_count": 99,
   "id": "0df52716",
   "metadata": {},
   "outputs": [
    {
     "name": "stdout",
     "output_type": "stream",
     "text": [
      "1\n",
      "1\n",
      "1\n",
      "1\n"
     ]
    }
   ],
   "source": [
    "summary_dict = {class_name: None for class_name in classes}\n",
    "\n",
    "pred_prob_dict = {class_name: None for class_name in classes}\n",
    "\n",
    "beta_dict = {class_name: None for class_name in classes}\n",
    "\n",
    "\n",
    "from scipy.stats import beta\n",
    "\n",
    "for class_name in classes:\n",
    "    ## PREPROCESS ##\n",
    "\n",
    "\n",
    "    model = xgb_dict[class_name]\n",
    "\n",
    "    importance = pd.Series(model.feature_importances_,name = \"importance\")\n",
    "    feature_names = pd.Series(model.feature_names_in_,name = \"name\")\n",
    "    summary = pd.concat([feature_names,importance],axis = 1).sort_values(by = 'importance',ascending=False)\n",
    "\n",
    "    X_test = X_test_dict[class_name]\n",
    "    y_test = y_test_dict[class_name]\n",
    "\n",
    "    # Grab necessary vars\n",
    "    score = model.score(X_test,y_test)\n",
    "    probs = model.predict_proba(X_test)\n",
    "    probs = (probs[:,1])\n",
    "\n",
    "    # Assign values to dict \n",
    "    summary['score'] = score\n",
    "    summary_dict[class_name] = summary\n",
    "    pred_prob_dict[class_name] = probs\n",
    "\n",
    "\n",
    "    ## CALCULATE DISTRIBUTION ##\n",
    "    # Calculate Beta Dist\n",
    "    a, b, loc, scale = beta.fit(probs, floc=0, fscale=1)  # force within [0,1]\n",
    "    samples = beta.rvs(a, b, loc=loc, scale=scale, size=100000)\n",
    "\n",
    "    print(scale)\n",
    "    beta_params = {\n",
    "        \"a\": a,\n",
    "        \"b\": b,\n",
    "        \"loc\": loc,\n",
    "        \"scale\": scale,\n",
    "        \"samples\": samples\n",
    "    }\n",
    "\n",
    "    beta_dict[class_name] = beta_params\n",
    "\n"
   ]
  },
  {
   "cell_type": "markdown",
   "id": "51f910df",
   "metadata": {},
   "source": [
    "## Calculate PER on EVAL_set"
   ]
  },
  {
   "cell_type": "code",
   "execution_count": 100,
   "id": "ada3fc27",
   "metadata": {},
   "outputs": [],
   "source": [
    "PER_dict = {class_name:None for class_name in classes}\n",
    "\n",
    "for class_name in classes:\n",
    "    # Grab variables\n",
    "    X_eval = X_eval_dict[class_name]\n",
    "    y_eval = y_eval_dict[class_name]\n",
    "    a = beta_dict[class_name]['a']\n",
    "    b = beta_dict[class_name]['b']\n",
    "    loc = beta_dict[class_name]['loc']\n",
    "    scale = beta_dict[class_name]['scale']\n",
    "    model = xgb_dict[class_name]\n",
    "    \n",
    "    # Calculate Probs\n",
    "    probs = model.predict_proba(X_eval)\n",
    "    probs = probs[:,1]\n",
    "\n",
    "    #Calculate Quantiles\n",
    "    beta_quantile = beta.cdf(probs, a, b, loc=loc, scale=scale)\n",
    "\n",
    "    \n",
    "    probs = pd.Series(probs)\n",
    "    beta_quantile = pd.Series(beta_quantile)\n",
    "\n",
    "\n",
    "    probs_df = pd.concat([probs,beta_quantile],axis = 1)\n",
    "\n",
    "    probs_df.columns = ['pred_prob','beta_quantile']\n",
    "\n",
    "    probs_df['PER_beta'] = (probs_df['beta_quantile'] * 10).round(1)\n",
    "    PER_dict[class_name] = probs_df\n"
   ]
  },
  {
   "cell_type": "code",
   "execution_count": null,
   "id": "8d60c6f3",
   "metadata": {},
   "outputs": [],
   "source": [
    "a = X_eval_dict['demoman']\n",
    "\n",
    "per = PER_dict['demoman'][\"PER_beta\"].values\n",
    "\n",
    "a['PER'] = per\n",
    "\n",
    "a['winner'] = y_eval_dict['demoman'].values"
   ]
  },
  {
   "cell_type": "code",
   "execution_count": 180,
   "id": "f57805e2",
   "metadata": {},
   "outputs": [
    {
     "data": {
      "application/vnd.microsoft.datawrangler.viewer.v0+json": {
       "columns": [
        {
         "name": "index",
         "rawType": "int64",
         "type": "integer"
        },
        {
         "name": "winner",
         "rawType": "float64",
         "type": "float"
        }
       ],
       "ref": "7a69aa4c-db08-471b-866b-a329c260b575",
       "rows": [
        [
         "7063",
         "0.0"
        ],
        [
         "1436",
         "1.0"
        ],
        [
         "6775",
         "1.0"
        ],
        [
         "10989",
         "0.0"
        ],
        [
         "8658",
         "1.0"
        ],
        [
         "18588",
         "1.0"
        ],
        [
         "4269",
         "0.0"
        ],
        [
         "15134",
         "0.0"
        ],
        [
         "4928",
         "0.0"
        ],
        [
         "8309",
         "0.0"
        ],
        [
         "13944",
         "0.0"
        ],
        [
         "20095",
         "1.0"
        ],
        [
         "19079",
         "0.0"
        ],
        [
         "14309",
         "1.0"
        ],
        [
         "19052",
         "1.0"
        ],
        [
         "11133",
         "1.0"
        ],
        [
         "10381",
         "1.0"
        ],
        [
         "4134",
         "1.0"
        ],
        [
         "14831",
         "0.0"
        ],
        [
         "3018",
         "1.0"
        ],
        [
         "10880",
         "1.0"
        ],
        [
         "16205",
         "0.0"
        ],
        [
         "8994",
         "0.0"
        ],
        [
         "14786",
         "1.0"
        ],
        [
         "14690",
         "1.0"
        ],
        [
         "6546",
         "0.0"
        ],
        [
         "9040",
         "1.0"
        ],
        [
         "8033",
         "1.0"
        ],
        [
         "21450",
         "1.0"
        ],
        [
         "11946",
         "1.0"
        ],
        [
         "6214",
         "1.0"
        ],
        [
         "12466",
         "0.0"
        ],
        [
         "10022",
         "0.0"
        ],
        [
         "15745",
         "1.0"
        ],
        [
         "4831",
         "1.0"
        ],
        [
         "13212",
         "1.0"
        ],
        [
         "4981",
         "1.0"
        ],
        [
         "10117",
         "1.0"
        ],
        [
         "15013",
         "1.0"
        ],
        [
         "1624",
         "1.0"
        ],
        [
         "15926",
         "1.0"
        ],
        [
         "12927",
         "1.0"
        ],
        [
         "18799",
         "0.0"
        ],
        [
         "5573",
         "0.0"
        ],
        [
         "20369",
         "1.0"
        ],
        [
         "17546",
         "1.0"
        ],
        [
         "20723",
         "0.0"
        ],
        [
         "11163",
         "0.0"
        ],
        [
         "7085",
         "1.0"
        ],
        [
         "13774",
         "1.0"
        ]
       ],
       "shape": {
        "columns": 1,
        "rows": 404
       }
      },
      "text/plain": [
       "7063     0.0\n",
       "1436     1.0\n",
       "6775     1.0\n",
       "10989    0.0\n",
       "8658     1.0\n",
       "        ... \n",
       "3958     0.0\n",
       "9954     1.0\n",
       "20168    0.0\n",
       "19980    0.0\n",
       "15889    0.0\n",
       "Name: winner, Length: 404, dtype: float64"
      ]
     },
     "execution_count": 180,
     "metadata": {},
     "output_type": "execute_result"
    }
   ],
   "source": [
    "a['winner']"
   ]
  },
  {
   "cell_type": "code",
   "execution_count": 182,
   "id": "2ce5707e",
   "metadata": {},
   "outputs": [
    {
     "data": {
      "image/png": "[encoded data removed]",
      "text/plain": [
       "<Figure size 640x480 with 1 Axes>"
      ]
     },
     "metadata": {},
     "output_type": "display_data"
    },
    {
     "data": {
      "image/png": "[encoded data removed]",
      "text/plain": [
       "<Figure size 640x480 with 1 Axes>"
      ]
     },
     "metadata": {},
     "output_type": "display_data"
    }
   ],
   "source": [
    "plt.hist(a[a['winner'] == 1]['PER'])\n",
    "plt.show()\n",
    "\n",
    "plt.hist(a[a['winner'] == 0]['PER'])\n",
    "plt.show()"
   ]
  },
  {
   "cell_type": "code",
   "execution_count": 101,
   "id": "d5d0d5d2",
   "metadata": {},
   "outputs": [],
   "source": [
    "a = X_eval_dict['scout']\n",
    "\n",
    "a['winner'] = y_eval_dict['scout']"
   ]
  },
  {
   "cell_type": "code",
   "execution_count": 102,
   "id": "14599c90",
   "metadata": {},
   "outputs": [],
   "source": [
    "a['PER'] = PER_dict['scout']['PER_beta'].values"
   ]
  },
  {
   "cell_type": "code",
   "execution_count": 103,
   "id": "86c44940",
   "metadata": {},
   "outputs": [
    {
     "data": {
      "application/vnd.microsoft.datawrangler.viewer.v0+json": {
       "columns": [
        {
         "name": "winner",
         "rawType": "float64",
         "type": "float"
        },
        {
         "name": "PER_av",
         "rawType": "float64",
         "type": "float"
        }
       ],
       "ref": "5b4aad05-dd2e-420b-bc9b-722ff9b9fac7",
       "rows": [
        [
         "0.0",
         "1.3649315321753759"
        ],
        [
         "1.0",
         "1.5696541776582613"
        ]
       ],
       "shape": {
        "columns": 1,
        "rows": 2
       }
      },
      "text/html": [
       "<div>\n",
       "<style scoped>\n",
       "    .dataframe tbody tr th:only-of-type {\n",
       "        vertical-align: middle;\n",
       "    }\n",
       "\n",
       "    .dataframe tbody tr th {\n",
       "        vertical-align: top;\n",
       "    }\n",
       "\n",
       "    .dataframe thead th {\n",
       "        text-align: right;\n",
       "    }\n",
       "</style>\n",
       "<table border=\"1\" class=\"dataframe\">\n",
       "  <thead>\n",
       "    <tr style=\"text-align: right;\">\n",
       "      <th></th>\n",
       "      <th>PER_av</th>\n",
       "    </tr>\n",
       "    <tr>\n",
       "      <th>winner</th>\n",
       "      <th></th>\n",
       "    </tr>\n",
       "  </thead>\n",
       "  <tbody>\n",
       "    <tr>\n",
       "      <th>0.0</th>\n",
       "      <td>1.364932</td>\n",
       "    </tr>\n",
       "    <tr>\n",
       "      <th>1.0</th>\n",
       "      <td>1.569654</td>\n",
       "    </tr>\n",
       "  </tbody>\n",
       "</table>\n",
       "</div>"
      ],
      "text/plain": [
       "          PER_av\n",
       "winner          \n",
       "0.0     1.364932\n",
       "1.0     1.569654"
      ]
     },
     "execution_count": 103,
     "metadata": {},
     "output_type": "execute_result"
    }
   ],
   "source": [
    "a.groupby('winner').agg(PER_av = (\"hroi\",\"mean\"))"
   ]
  },
  {
   "cell_type": "code",
   "execution_count": 104,
   "id": "0a47f06a",
   "metadata": {},
   "outputs": [
    {
     "data": {
      "application/vnd.microsoft.datawrangler.viewer.v0+json": {
       "columns": [
        {
         "name": "index",
         "rawType": "int64",
         "type": "integer"
        },
        {
         "name": "dapd",
         "rawType": "int64",
         "type": "integer"
        },
        {
         "name": "dapm",
         "rawType": "int64",
         "type": "integer"
        },
        {
         "name": "medkits_hp",
         "rawType": "int64",
         "type": "integer"
        },
        {
         "name": "suicides",
         "rawType": "int64",
         "type": "integer"
        },
        {
         "name": "offclass_pct",
         "rawType": "float64",
         "type": "float"
        },
        {
         "name": "deaths_pct",
         "rawType": "float64",
         "type": "float"
        },
        {
         "name": "dmg_pct",
         "rawType": "float64",
         "type": "float"
        },
        {
         "name": "dmg_real_pct",
         "rawType": "float64",
         "type": "float"
        },
        {
         "name": "cpc_pct",
         "rawType": "float64",
         "type": "float"
        },
        {
         "name": "ka_pct",
         "rawType": "float64",
         "type": "float"
        },
        {
         "name": "assists_pct",
         "rawType": "float64",
         "type": "float"
        },
        {
         "name": "dt_pct",
         "rawType": "float64",
         "type": "float"
        },
        {
         "name": "dt_real_pct",
         "rawType": "float64",
         "type": "float"
        },
        {
         "name": "hr_pct",
         "rawType": "float64",
         "type": "float"
        },
        {
         "name": "hroi",
         "rawType": "float64",
         "type": "float"
        },
        {
         "name": "hroi_real",
         "rawType": "float64",
         "type": "float"
        },
        {
         "name": "winner",
         "rawType": "float64",
         "type": "float"
        },
        {
         "name": "PER",
         "rawType": "float64",
         "type": "float"
        }
       ],
       "ref": "abb7bc4d-d1ba-4da1-b011-d76533d893f5",
       "rows": [
        [
         "4630",
         "598",
         "266",
         "302",
         "0",
         "0.0255",
         "0.1628",
         "0.1844",
         "0.1625",
         "0.75",
         "0.2696",
         "0.3111",
         "0.1627",
         "0.2086",
         "0.1677",
         "1.5513153019636903",
         "0.16672841793256762",
         "1.0",
         "9.6"
        ],
        [
         "9220",
         "509",
         "317",
         "962",
         "0",
         "0.0",
         "0.1554",
         "0.2171",
         "0.1445",
         "0.3913",
         "0.197",
         "0.1646",
         "0.1602",
         "0.1615",
         "0.189",
         "1.4345697147753702",
         "0.07540702656383891",
         "0.0",
         "5.6"
        ],
        [
         "14042",
         "274",
         "164",
         "587",
         "0",
         "0.1123",
         "0.2188",
         "0.1635",
         "0.1698",
         "0.6818",
         "0.1635",
         "0.12",
         "0.1563",
         "0.2226",
         "0.0791",
         "2.614441416893733",
         "0.32515894641235243",
         "1.0",
         "6.6"
        ],
        [
         "1102",
         "339",
         "182",
         "666",
         "0",
         "0.1747",
         "0.2016",
         "0.1545",
         "0.2097",
         "0.6061",
         "0.173",
         "0.186",
         "0.1384",
         "0.1912",
         "0.1332",
         "1.3306682757580328",
         "0.1795142555438226",
         "1.0",
         "7.6"
        ],
        [
         "11686",
         "241",
         "146",
         "60",
         "0",
         "0.0",
         "0.1154",
         "0.1555",
         "0.0804",
         "0.0",
         "0.1818",
         "0.0",
         "0.1379",
         "0.1333",
         "0.1692",
         "0.8192090395480226",
         "0.020338983050847456",
         "0.0",
         "0.2"
        ],
        [
         "17731",
         "316",
         "179",
         "803",
         "0",
         "0.03",
         "0.1582",
         "0.1403",
         "0.1755",
         "0.76",
         "0.1728",
         "0.1771",
         "0.1567",
         "0.1639",
         "0.168",
         "1.0039330119259071",
         "0.12725196650596296",
         "1.0",
         "4.5"
        ],
        [
         "18301",
         "400",
         "199",
         "227",
         "0",
         "0.0",
         "0.1466",
         "0.1753",
         "0.1856",
         "0.6667",
         "0.2611",
         "0.2222",
         "0.1298",
         "0.0875",
         "0.2058",
         "1.1103493307215149",
         "0.10643160300359125",
         "0.0",
         "1.7"
        ],
        [
         "6029",
         "489",
         "254",
         "118",
         "0",
         "0.0875",
         "0.1571",
         "0.1813",
         "0.1423",
         "0.7895",
         "0.1615",
         "0.2826",
         "0.1525",
         "0.1617",
         "0.1467",
         "1.6689398636081836",
         "0.14042157470551767",
         "1.0",
         "8.3"
        ],
        [
         "1713",
         "406",
         "258",
         "467",
         "0",
         "0.2178",
         "0.1507",
         "0.1917",
         "0.2104",
         "1.0",
         "0.2738",
         "0.2069",
         "0.1371",
         "0.1512",
         "0.0904",
         "2.4935790061418204",
         "0.23283082077051925",
         "0.0",
         "0.6"
        ],
        [
         "3766",
         "576",
         "263",
         "305",
         "0",
         "0.0372",
         "0.1205",
         "0.1941",
         "0.19",
         "0.4615",
         "0.2676",
         "0.3125",
         "0.1651",
         "0.1528",
         "0.2741",
         "1.0228865430675065",
         "0.10086046305331323",
         "1.0",
         "7.3"
        ],
        [
         "11041",
         "414",
         "219",
         "299",
         "0",
         "0.0264",
         "0.1653",
         "0.1526",
         "0.1722",
         "0.2917",
         "0.2289",
         "0.2174",
         "0.1437",
         "0.1113",
         "0.3155",
         "0.7413330950679057",
         "0.07818084345961401",
         "1.0",
         "7.1"
        ],
        [
         "4934",
         "786",
         "273",
         "589",
         "0",
         "0.0604",
         "0.1077",
         "0.1777",
         "0.1148",
         "0.7222",
         "0.2727",
         "0.3793",
         "0.126",
         "0.104",
         "0.1274",
         "2.1210019267822737",
         "0.13140655105973026",
         "1.0",
         "9.0"
        ],
        [
         "11335",
         "355",
         "138",
         "307",
         "0",
         "0.057",
         "0.1463",
         "0.1331",
         "0.0855",
         "0.3333",
         "0.2",
         "0.2564",
         "0.1776",
         "0.165",
         "0.2153",
         "0.606827880512091",
         "0.025462304409672832",
         "0.0",
         "4.4"
        ],
        [
         "8651",
         "467",
         "288",
         "407",
         "0",
         "0.1027",
         "0.1469",
         "0.2183",
         "0.1146",
         "0.5",
         "0.2289",
         "0.2658",
         "0.1681",
         "0.145",
         "0.2332",
         "1.1319276414333448",
         "0.05023620232745708",
         "0.0",
         "1.5"
        ],
        [
         "7889",
         "524",
         "327",
         "53",
         "0",
         "0.0545",
         "0.1923",
         "0.1998",
         "0.1583",
         "0.3529",
         "0.2391",
         "0.25",
         "0.1772",
         "0.2228",
         "0.1952",
         "1.6118117502306983",
         "0.1494924638572747",
         "1.0",
         "9.6"
        ],
        [
         "1765",
         "392",
         "291",
         "740",
         "0",
         "0.0",
         "0.191",
         "0.2005",
         "0.1642",
         "0.6316",
         "0.1699",
         "0.1064",
         "0.1906",
         "0.177",
         "0.1581",
         "2.0829435609603992",
         "0.1771125662613034",
         "1.0",
         "8.6"
        ],
        [
         "4763",
         "718",
         "224",
         "532",
         "0",
         "0.0",
         "0.125",
         "0.1605",
         "0.1863",
         "0.625",
         "0.1983",
         "0.1333",
         "0.1221",
         "0.1246",
         "0.1187",
         "1.6366120218579234",
         "0.2272313296903461",
         "1.0",
         "9.6"
        ],
        [
         "5925",
         "269",
         "149",
         "461",
         "0",
         "0.1452",
         "0.178",
         "0.1071",
         "0.0923",
         "0.7368",
         "0.1466",
         "0.1268",
         "0.1233",
         "0.1876",
         "0.1354",
         "0.9780200761509172",
         "0.06992038767739703",
         "1.0",
         "5.3"
        ],
        [
         "1362",
         "375",
         "192",
         "258",
         "0",
         "0.0",
         "0.1341",
         "0.1649",
         "0.1473",
         "0.4286",
         "0.234",
         "0.3438",
         "0.1562",
         "0.1758",
         "0.231",
         "0.803425457376411",
         "0.057609964966913195",
         "0.0",
         "1.9"
        ],
        [
         "19067",
         "542",
         "318",
         "364",
         "0",
         "0.0",
         "0.1486",
         "0.1214",
         "0.2397",
         "0.9091",
         "0.2524",
         "0.1765",
         "0.159",
         "0.1209",
         "0.2201",
         "1.27992277992278",
         "0.11583011583011583",
         "1.0",
         "6.4"
        ],
        [
         "19401",
         "1335",
         "250",
         "216",
         "0",
         "0.0",
         "0.0833",
         "0.0701",
         "0.1335",
         "0.5556",
         "0.1786",
         "0.1111",
         "0.1344",
         "0.0499",
         "0.082",
         "2.8464818763326227",
         "0.3582089552238806",
         "1.0",
         "9.6"
        ],
        [
         "14766",
         "548",
         "237",
         "180",
         "0",
         "0.0569",
         "0.1455",
         "0.1836",
         "0.1614",
         "0.5789",
         "0.2422",
         "0.2",
         "0.1907",
         "0.17",
         "0.2676",
         "0.860533542565712",
         "0.07257748136524127",
         "1.0",
         "6.1"
        ],
        [
         "11409",
         "1246",
         "325",
         "174",
         "0",
         "0.0225",
         "0.125",
         "0.2384",
         "0.4568",
         "0.3462",
         "0.2831",
         "0.2881",
         "0.1301",
         "0.1333",
         "0.2775",
         "1.1930544161881322",
         "0.5362318840579711",
         "1.0",
         "9.6"
        ],
        [
         "6628",
         "407",
         "279",
         "167",
         "0",
         "0.0",
         "0.1818",
         "0.2158",
         "0.158",
         "0.4667",
         "0.2461",
         "0.3099",
         "0.201",
         "0.2142",
         "0.3386",
         "0.7887446726075165",
         "0.06547849670670283",
         "0.0",
         "4.5"
        ],
        [
         "8660",
         "418",
         "203",
         "365",
         "0",
         "0.282",
         "0.1417",
         "0.1444",
         "0.105",
         "0.6667",
         "0.1813",
         "0.194",
         "0.1225",
         "0.1194",
         "0.1191",
         "1.4712691194708558",
         "0.09218685407193054",
         "1.0",
         "5.3"
        ],
        [
         "9098",
         "260",
         "170",
         "621",
         "0",
         "0.0495",
         "0.1667",
         "0.118",
         "0.0865",
         "0.84",
         "0.1557",
         "0.1429",
         "0.1531",
         "0.1688",
         "0.116",
         "1.4383003492433062",
         "0.11059371362048893",
         "1.0",
         "5.4"
        ],
        [
         "10568",
         "550",
         "267",
         "558",
         "0",
         "0.0545",
         "0.1497",
         "0.2145",
         "0.248",
         "0.4615",
         "0.2883",
         "0.2679",
         "0.1847",
         "0.1407",
         "0.2116",
         "1.0923285198555956",
         "0.07328519855595668",
         "0.0",
         "2.7"
        ],
        [
         "10033",
         "238",
         "183",
         "210",
         "0",
         "0.0928",
         "0.1698",
         "0.1643",
         "0.2148",
         "0.0",
         "0.2667",
         "0.2857",
         "0.1437",
         "0.179",
         "0.1055",
         "1.6977848101265822",
         "0.12658227848101267",
         "0.0",
         "0.2"
        ],
        [
         "16530",
         "316",
         "185",
         "614",
         "0",
         "0.0116",
         "0.1438",
         "0.1414",
         "0.131",
         "0.2857",
         "0.1813",
         "0.1667",
         "0.1478",
         "0.1099",
         "0.2649",
         "0.8498978027593255",
         "0.07894736842105263",
         "0.0",
         "5.0"
        ],
        [
         "5329",
         "298",
         "243",
         "279",
         "0",
         "0.1613",
         "0.1803",
         "0.1524",
         "0.1903",
         "0.7222",
         "0.2011",
         "0.1642",
         "0.1472",
         "0.1685",
         "0.1137",
         "2.1594870108516937",
         "0.24958895100295955",
         "0.0",
         "3.6"
        ],
        [
         "14004",
         "393",
         "202",
         "25",
         "0",
         "0.0969",
         "0.129",
         "0.1692",
         "0.1706",
         "0.6667",
         "0.2419",
         "0.1",
         "0.1578",
         "0.1283",
         "0.3077",
         "0.7176738882554162",
         "0.0782212086659065",
         "0.0",
         "1.1"
        ],
        [
         "17918",
         "264",
         "229",
         "88",
         "0",
         "0.0",
         "0.3636",
         "0.1494",
         "0.1257",
         "0.5",
         "0.1449",
         "0.0952",
         "0.2054",
         "0.5007",
         "0.1308",
         "1.4989369241672572",
         "0.1693834160170092",
         "1.0",
         "8.6"
        ],
        [
         "13437",
         "320",
         "134",
         "877",
         "0",
         "0.1655",
         "0.1693",
         "0.1397",
         "0.1178",
         "0.8148",
         "0.1727",
         "0.2079",
         "0.1566",
         "0.2189",
         "0.18",
         "0.6273969245849415",
         "0.04913312503828953",
         "1.0",
         "4.9"
        ],
        [
         "12783",
         "603",
         "289",
         "499",
         "0",
         "0.0866",
         "0.1515",
         "0.2252",
         "0.3191",
         "0.4286",
         "0.31",
         "0.2785",
         "0.1886",
         "0.1788",
         "0.2216",
         "1.0923981900452489",
         "0.1248868778280543",
         "1.0",
         "6.2"
        ],
        [
         "4709",
         "545",
         "311",
         "380",
         "0",
         "0.0691",
         "0.1692",
         "0.1888",
         "0.1753",
         "0.65",
         "0.2214",
         "0.1731",
         "0.1577",
         "0.2461",
         "0.1703",
         "1.691483361534123",
         "0.140721940214326",
         "1.0",
         "8.4"
        ],
        [
         "2036",
         "468",
         "227",
         "63",
         "0",
         "0.0",
         "0.1412",
         "0.1563",
         "0.0881",
         "0.35",
         "0.1312",
         "0.1091",
         "0.1851",
         "0.2224",
         "0.3044",
         "0.7647298952238399",
         "0.05034698598448768",
         "1.0",
         "8.2"
        ],
        [
         "16001",
         "240",
         "145",
         "125",
         "0",
         "0.0",
         "0.2381",
         "0.1365",
         "0.1539",
         "0.3889",
         "0.1648",
         "0.1515",
         "0.1607",
         "0.216",
         "0.0587",
         "2.2143514259429624",
         "0.30358785648574055",
         "1.0",
         "8.2"
        ],
        [
         "18379",
         "536",
         "227",
         "732",
         "0",
         "0.1515",
         "0.1494",
         "0.1964",
         "0.1882",
         "0.4583",
         "0.2469",
         "0.2527",
         "0.1586",
         "0.1421",
         "0.1906",
         "1.018822752414761",
         "0.07752001981342359",
         "0.0",
         "5.0"
        ],
        [
         "10378",
         "439",
         "307",
         "846",
         "0",
         "0.0",
         "0.1949",
         "0.2278",
         "0.2993",
         "0.3846",
         "0.2825",
         "0.1481",
         "0.1413",
         "0.2193",
         "0.1178",
         "2.52863215803951",
         "0.3150787696924231",
         "1.0",
         "7.5"
        ],
        [
         "18392",
         "195",
         "151",
         "401",
         "0",
         "0.1235",
         "0.2072",
         "0.1403",
         "0.12",
         "0.5455",
         "0.1694",
         "0.2045",
         "0.1784",
         "0.1905",
         "0.1404",
         "1.1063620732006878",
         "0.07737656595431099",
         "0.0",
         "1.6"
        ],
        [
         "3903",
         "315",
         "225",
         "876",
         "0",
         "0.055",
         "0.1942",
         "0.1588",
         "0.1246",
         "0.6111",
         "0.1879",
         "0.193",
         "0.1417",
         "0.2337",
         "0.0975",
         "2.006049028971665",
         "0.14867876472461",
         "0.0",
         "7.0"
        ],
        [
         "16540",
         "265",
         "225",
         "62",
         "0",
         "0.1662",
         "0.1829",
         "0.1807",
         "0.2018",
         "0.5",
         "0.2069",
         "0.2667",
         "0.1484",
         "0.2043",
         "0.1214",
         "2.1169590643274856",
         "0.22169059011164274",
         "0.0",
         "1.0"
        ],
        [
         "9867",
         "403",
         "160",
         "365",
         "0",
         "0.0",
         "0.1525",
         "0.147",
         "0.0789",
         "0.6364",
         "0.1641",
         "0.1739",
         "0.1489",
         "0.1704",
         "0.2051",
         "0.7246680642907058",
         "0.04532295098332834",
         "1.0",
         "7.5"
        ],
        [
         "13572",
         "339",
         "187",
         "201",
         "0",
         "0.0188",
         "0.1679",
         "0.1826",
         "0.1589",
         "0.6923",
         "0.2381",
         "0.2373",
         "0.1347",
         "0.1885",
         "0.1689",
         "1.3133198789101916",
         "0.10881264715775311",
         "0.0",
         "2.1"
        ],
        [
         "7693",
         "356",
         "324",
         "381",
         "0",
         "0.009",
         "0.1823",
         "0.1955",
         "0.1529",
         "0.4",
         "0.2145",
         "0.2233",
         "0.2052",
         "0.1607",
         "0.2404",
         "1.335458409228901",
         "0.1064561829589152",
         "0.0",
         "5.7"
        ],
        [
         "9359",
         "355",
         "218",
         "339",
         "0",
         "0.1638",
         "0.1607",
         "0.1607",
         "0.1001",
         "0.7273",
         "0.173",
         "0.1719",
         "0.1209",
         "0.095",
         "0.1209",
         "1.8192668371696505",
         "0.13583404376243252",
         "0.0",
         "7.7"
        ],
        [
         "413",
         "1123",
         "429",
         "205",
         "0",
         "0.0",
         "0.1429",
         "0.2747",
         "0.2938",
         "0.3684",
         "0.3208",
         "0.375",
         "0.1965",
         "0.1423",
         "0.2441",
         "1.5506212609295904",
         "0.16129774505292221",
         "1.0",
         "9.5"
        ],
        [
         "7555",
         "491",
         "297",
         "474",
         "0",
         "0.0",
         "0.1622",
         "0.2222",
         "0.2052",
         "0.2222",
         "0.2181",
         "0.1667",
         "0.1586",
         "0.1563",
         "0.2185",
         "1.373240255962769",
         "0.1365910413030832",
         "1.0",
         "6.4"
        ],
        [
         "15905",
         "469",
         "172",
         "551",
         "0",
         "0.0257",
         "0.1778",
         "0.1722",
         "0.1962",
         "0.5714",
         "0.2097",
         "0.1719",
         "0.1704",
         "0.1459",
         "0.2374",
         "0.7406896551724138",
         "0.08541871921182266",
         "1.0",
         "8.9"
        ],
        [
         "20891",
         "210",
         "172",
         "92",
         "0",
         "0.1188",
         "0.24",
         "0.0421",
         "0.0405",
         "0.4444",
         "0.131",
         "0.2143",
         "0.1559",
         "0.1815",
         "0.116",
         "1.3446808510638297",
         "0.1276595744680851",
         "1.0",
         "9.2"
        ]
       ],
       "shape": {
        "columns": 18,
        "rows": 776
       }
      },
      "text/html": [
       "<div>\n",
       "<style scoped>\n",
       "    .dataframe tbody tr th:only-of-type {\n",
       "        vertical-align: middle;\n",
       "    }\n",
       "\n",
       "    .dataframe tbody tr th {\n",
       "        vertical-align: top;\n",
       "    }\n",
       "\n",
       "    .dataframe thead th {\n",
       "        text-align: right;\n",
       "    }\n",
       "</style>\n",
       "<table border=\"1\" class=\"dataframe\">\n",
       "  <thead>\n",
       "    <tr style=\"text-align: right;\">\n",
       "      <th></th>\n",
       "      <th>dapd</th>\n",
       "      <th>dapm</th>\n",
       "      <th>medkits_hp</th>\n",
       "      <th>suicides</th>\n",
       "      <th>offclass_pct</th>\n",
       "      <th>deaths_pct</th>\n",
       "      <th>dmg_pct</th>\n",
       "      <th>dmg_real_pct</th>\n",
       "      <th>cpc_pct</th>\n",
       "      <th>ka_pct</th>\n",
       "      <th>assists_pct</th>\n",
       "      <th>dt_pct</th>\n",
       "      <th>dt_real_pct</th>\n",
       "      <th>hr_pct</th>\n",
       "      <th>hroi</th>\n",
       "      <th>hroi_real</th>\n",
       "      <th>winner</th>\n",
       "      <th>PER</th>\n",
       "    </tr>\n",
       "  </thead>\n",
       "  <tbody>\n",
       "    <tr>\n",
       "      <th>4630</th>\n",
       "      <td>598</td>\n",
       "      <td>266</td>\n",
       "      <td>302</td>\n",
       "      <td>0</td>\n",
       "      <td>0.0255</td>\n",
       "      <td>0.1628</td>\n",
       "      <td>0.1844</td>\n",
       "      <td>0.1625</td>\n",
       "      <td>0.7500</td>\n",
       "      <td>0.2696</td>\n",
       "      <td>0.3111</td>\n",
       "      <td>0.1627</td>\n",
       "      <td>0.2086</td>\n",
       "      <td>0.1677</td>\n",
       "      <td>1.551315</td>\n",
       "      <td>0.166728</td>\n",
       "      <td>1.0</td>\n",
       "      <td>9.6</td>\n",
       "    </tr>\n",
       "    <tr>\n",
       "      <th>9220</th>\n",
       "      <td>509</td>\n",
       "      <td>317</td>\n",
       "      <td>962</td>\n",
       "      <td>0</td>\n",
       "      <td>0.0000</td>\n",
       "      <td>0.1554</td>\n",
       "      <td>0.2171</td>\n",
       "      <td>0.1445</td>\n",
       "      <td>0.3913</td>\n",
       "      <td>0.1970</td>\n",
       "      <td>0.1646</td>\n",
       "      <td>0.1602</td>\n",
       "      <td>0.1615</td>\n",
       "      <td>0.1890</td>\n",
       "      <td>1.434570</td>\n",
       "      <td>0.075407</td>\n",
       "      <td>0.0</td>\n",
       "      <td>5.6</td>\n",
       "    </tr>\n",
       "    <tr>\n",
       "      <th>14042</th>\n",
       "      <td>274</td>\n",
       "      <td>164</td>\n",
       "      <td>587</td>\n",
       "      <td>0</td>\n",
       "      <td>0.1123</td>\n",
       "      <td>0.2188</td>\n",
       "      <td>0.1635</td>\n",
       "      <td>0.1698</td>\n",
       "      <td>0.6818</td>\n",
       "      <td>0.1635</td>\n",
       "      <td>0.1200</td>\n",
       "      <td>0.1563</td>\n",
       "      <td>0.2226</td>\n",
       "      <td>0.0791</td>\n",
       "      <td>2.614441</td>\n",
       "      <td>0.325159</td>\n",
       "      <td>1.0</td>\n",
       "      <td>6.6</td>\n",
       "    </tr>\n",
       "    <tr>\n",
       "      <th>1102</th>\n",
       "      <td>339</td>\n",
       "      <td>182</td>\n",
       "      <td>666</td>\n",
       "      <td>0</td>\n",
       "      <td>0.1747</td>\n",
       "      <td>0.2016</td>\n",
       "      <td>0.1545</td>\n",
       "      <td>0.2097</td>\n",
       "      <td>0.6061</td>\n",
       "      <td>0.1730</td>\n",
       "      <td>0.1860</td>\n",
       "      <td>0.1384</td>\n",
       "      <td>0.1912</td>\n",
       "      <td>0.1332</td>\n",
       "      <td>1.330668</td>\n",
       "      <td>0.179514</td>\n",
       "      <td>1.0</td>\n",
       "      <td>7.6</td>\n",
       "    </tr>\n",
       "    <tr>\n",
       "      <th>11686</th>\n",
       "      <td>241</td>\n",
       "      <td>146</td>\n",
       "      <td>60</td>\n",
       "      <td>0</td>\n",
       "      <td>0.0000</td>\n",
       "      <td>0.1154</td>\n",
       "      <td>0.1555</td>\n",
       "      <td>0.0804</td>\n",
       "      <td>0.0000</td>\n",
       "      <td>0.1818</td>\n",
       "      <td>0.0000</td>\n",
       "      <td>0.1379</td>\n",
       "      <td>0.1333</td>\n",
       "      <td>0.1692</td>\n",
       "      <td>0.819209</td>\n",
       "      <td>0.020339</td>\n",
       "      <td>0.0</td>\n",
       "      <td>0.2</td>\n",
       "    </tr>\n",
       "    <tr>\n",
       "      <th>...</th>\n",
       "      <td>...</td>\n",
       "      <td>...</td>\n",
       "      <td>...</td>\n",
       "      <td>...</td>\n",
       "      <td>...</td>\n",
       "      <td>...</td>\n",
       "      <td>...</td>\n",
       "      <td>...</td>\n",
       "      <td>...</td>\n",
       "      <td>...</td>\n",
       "      <td>...</td>\n",
       "      <td>...</td>\n",
       "      <td>...</td>\n",
       "      <td>...</td>\n",
       "      <td>...</td>\n",
       "      <td>...</td>\n",
       "      <td>...</td>\n",
       "      <td>...</td>\n",
       "    </tr>\n",
       "    <tr>\n",
       "      <th>6472</th>\n",
       "      <td>334</td>\n",
       "      <td>260</td>\n",
       "      <td>421</td>\n",
       "      <td>0</td>\n",
       "      <td>0.0000</td>\n",
       "      <td>0.1613</td>\n",
       "      <td>0.1809</td>\n",
       "      <td>0.0721</td>\n",
       "      <td>0.5000</td>\n",
       "      <td>0.2105</td>\n",
       "      <td>0.3333</td>\n",
       "      <td>0.1582</td>\n",
       "      <td>0.1255</td>\n",
       "      <td>0.1598</td>\n",
       "      <td>1.908571</td>\n",
       "      <td>0.070857</td>\n",
       "      <td>0.0</td>\n",
       "      <td>1.6</td>\n",
       "    </tr>\n",
       "    <tr>\n",
       "      <th>6851</th>\n",
       "      <td>407</td>\n",
       "      <td>264</td>\n",
       "      <td>669</td>\n",
       "      <td>0</td>\n",
       "      <td>0.0152</td>\n",
       "      <td>0.1770</td>\n",
       "      <td>0.1601</td>\n",
       "      <td>0.1285</td>\n",
       "      <td>0.1500</td>\n",
       "      <td>0.1733</td>\n",
       "      <td>0.1857</td>\n",
       "      <td>0.1323</td>\n",
       "      <td>0.1694</td>\n",
       "      <td>0.1633</td>\n",
       "      <td>1.435387</td>\n",
       "      <td>0.100000</td>\n",
       "      <td>1.0</td>\n",
       "      <td>7.5</td>\n",
       "    </tr>\n",
       "    <tr>\n",
       "      <th>963</th>\n",
       "      <td>249</td>\n",
       "      <td>182</td>\n",
       "      <td>172</td>\n",
       "      <td>0</td>\n",
       "      <td>0.1730</td>\n",
       "      <td>0.2344</td>\n",
       "      <td>0.1413</td>\n",
       "      <td>0.1713</td>\n",
       "      <td>0.2857</td>\n",
       "      <td>0.1579</td>\n",
       "      <td>0.1622</td>\n",
       "      <td>0.1339</td>\n",
       "      <td>0.2629</td>\n",
       "      <td>0.1376</td>\n",
       "      <td>1.339305</td>\n",
       "      <td>0.207094</td>\n",
       "      <td>1.0</td>\n",
       "      <td>7.2</td>\n",
       "    </tr>\n",
       "    <tr>\n",
       "      <th>14310</th>\n",
       "      <td>296</td>\n",
       "      <td>203</td>\n",
       "      <td>663</td>\n",
       "      <td>0</td>\n",
       "      <td>0.0000</td>\n",
       "      <td>0.1364</td>\n",
       "      <td>0.1503</td>\n",
       "      <td>0.0830</td>\n",
       "      <td>0.6667</td>\n",
       "      <td>0.1980</td>\n",
       "      <td>0.2564</td>\n",
       "      <td>0.1084</td>\n",
       "      <td>0.1710</td>\n",
       "      <td>0.1369</td>\n",
       "      <td>1.852635</td>\n",
       "      <td>0.094076</td>\n",
       "      <td>0.0</td>\n",
       "      <td>1.6</td>\n",
       "    </tr>\n",
       "    <tr>\n",
       "      <th>18266</th>\n",
       "      <td>544</td>\n",
       "      <td>195</td>\n",
       "      <td>577</td>\n",
       "      <td>0</td>\n",
       "      <td>0.0922</td>\n",
       "      <td>0.1310</td>\n",
       "      <td>0.1939</td>\n",
       "      <td>0.2725</td>\n",
       "      <td>0.7059</td>\n",
       "      <td>0.2377</td>\n",
       "      <td>0.1512</td>\n",
       "      <td>0.1665</td>\n",
       "      <td>0.1218</td>\n",
       "      <td>0.2908</td>\n",
       "      <td>0.677795</td>\n",
       "      <td>0.076787</td>\n",
       "      <td>0.0</td>\n",
       "      <td>3.3</td>\n",
       "    </tr>\n",
       "  </tbody>\n",
       "</table>\n",
       "<p>776 rows × 18 columns</p>\n",
       "</div>"
      ],
      "text/plain": [
       "       dapd  dapm  medkits_hp  suicides  offclass_pct  deaths_pct  dmg_pct  \\\n",
       "4630    598   266         302         0        0.0255      0.1628   0.1844   \n",
       "9220    509   317         962         0        0.0000      0.1554   0.2171   \n",
       "14042   274   164         587         0        0.1123      0.2188   0.1635   \n",
       "1102    339   182         666         0        0.1747      0.2016   0.1545   \n",
       "11686   241   146          60         0        0.0000      0.1154   0.1555   \n",
       "...     ...   ...         ...       ...           ...         ...      ...   \n",
       "6472    334   260         421         0        0.0000      0.1613   0.1809   \n",
       "6851    407   264         669         0        0.0152      0.1770   0.1601   \n",
       "963     249   182         172         0        0.1730      0.2344   0.1413   \n",
       "14310   296   203         663         0        0.0000      0.1364   0.1503   \n",
       "18266   544   195         577         0        0.0922      0.1310   0.1939   \n",
       "\n",
       "       dmg_real_pct  cpc_pct  ka_pct  assists_pct  dt_pct  dt_real_pct  \\\n",
       "4630         0.1625   0.7500  0.2696       0.3111  0.1627       0.2086   \n",
       "9220         0.1445   0.3913  0.1970       0.1646  0.1602       0.1615   \n",
       "14042        0.1698   0.6818  0.1635       0.1200  0.1563       0.2226   \n",
       "1102         0.2097   0.6061  0.1730       0.1860  0.1384       0.1912   \n",
       "11686        0.0804   0.0000  0.1818       0.0000  0.1379       0.1333   \n",
       "...             ...      ...     ...          ...     ...          ...   \n",
       "6472         0.0721   0.5000  0.2105       0.3333  0.1582       0.1255   \n",
       "6851         0.1285   0.1500  0.1733       0.1857  0.1323       0.1694   \n",
       "963          0.1713   0.2857  0.1579       0.1622  0.1339       0.2629   \n",
       "14310        0.0830   0.6667  0.1980       0.2564  0.1084       0.1710   \n",
       "18266        0.2725   0.7059  0.2377       0.1512  0.1665       0.1218   \n",
       "\n",
       "       hr_pct      hroi  hroi_real  winner  PER  \n",
       "4630   0.1677  1.551315   0.166728     1.0  9.6  \n",
       "9220   0.1890  1.434570   0.075407     0.0  5.6  \n",
       "14042  0.0791  2.614441   0.325159     1.0  6.6  \n",
       "1102   0.1332  1.330668   0.179514     1.0  7.6  \n",
       "11686  0.1692  0.819209   0.020339     0.0  0.2  \n",
       "...       ...       ...        ...     ...  ...  \n",
       "6472   0.1598  1.908571   0.070857     0.0  1.6  \n",
       "6851   0.1633  1.435387   0.100000     1.0  7.5  \n",
       "963    0.1376  1.339305   0.207094     1.0  7.2  \n",
       "14310  0.1369  1.852635   0.094076     0.0  1.6  \n",
       "18266  0.2908  0.677795   0.076787     0.0  3.3  \n",
       "\n",
       "[776 rows x 18 columns]"
      ]
     },
     "execution_count": 104,
     "metadata": {},
     "output_type": "execute_result"
    }
   ],
   "source": [
    "a"
   ]
  },
  {
   "cell_type": "code",
   "execution_count": 105,
   "id": "cf0c6939",
   "metadata": {},
   "outputs": [
    {
     "data": {
      "application/vnd.microsoft.datawrangler.viewer.v0+json": {
       "columns": [
        {
         "name": "index",
         "rawType": "int64",
         "type": "integer"
        },
        {
         "name": "index",
         "rawType": "int64",
         "type": "integer"
        },
        {
         "name": "dapd",
         "rawType": "int64",
         "type": "integer"
        },
        {
         "name": "dapm",
         "rawType": "int64",
         "type": "integer"
        },
        {
         "name": "medkits_hp",
         "rawType": "int64",
         "type": "integer"
        },
        {
         "name": "suicides",
         "rawType": "int64",
         "type": "integer"
        },
        {
         "name": "offclass_pct",
         "rawType": "float64",
         "type": "float"
        },
        {
         "name": "deaths_pct",
         "rawType": "float64",
         "type": "float"
        },
        {
         "name": "dmg_pct",
         "rawType": "float64",
         "type": "float"
        },
        {
         "name": "dmg_real_pct",
         "rawType": "float64",
         "type": "float"
        },
        {
         "name": "cpc_pct",
         "rawType": "float64",
         "type": "float"
        },
        {
         "name": "ka_pct",
         "rawType": "float64",
         "type": "float"
        },
        {
         "name": "assists_pct",
         "rawType": "float64",
         "type": "float"
        },
        {
         "name": "dt_pct",
         "rawType": "float64",
         "type": "float"
        },
        {
         "name": "dt_real_pct",
         "rawType": "float64",
         "type": "float"
        },
        {
         "name": "hr_pct",
         "rawType": "float64",
         "type": "float"
        },
        {
         "name": "hroi",
         "rawType": "float64",
         "type": "float"
        },
        {
         "name": "hroi_real",
         "rawType": "float64",
         "type": "float"
        }
       ],
       "ref": "fe32cd37-8569-4efb-ba48-4b60f38dbd41",
       "rows": [
        [
         "3",
         "10989",
         "462",
         "272",
         "1132",
         "0",
         "0.0",
         "0.1466",
         "0.2279",
         "0.1492",
         "0.4211",
         "0.0987",
         "0.0566",
         "0.2137",
         "0.1238",
         "0.2974",
         "0.8667621776504298",
         "0.05378003085739475"
        ],
        [
         "5",
         "18588",
         "915",
         "350",
         "943",
         "0",
         "0.0",
         "0.1569",
         "0.2619",
         "0.2414",
         "0.35",
         "0.1596",
         "0.1667",
         "0.2459",
         "0.0904",
         "0.2851",
         "1.0762674504041145",
         "0.08008817046289493"
        ]
       ],
       "shape": {
        "columns": 17,
        "rows": 2
       }
      },
      "text/html": [
       "<div>\n",
       "<style scoped>\n",
       "    .dataframe tbody tr th:only-of-type {\n",
       "        vertical-align: middle;\n",
       "    }\n",
       "\n",
       "    .dataframe tbody tr th {\n",
       "        vertical-align: top;\n",
       "    }\n",
       "\n",
       "    .dataframe thead th {\n",
       "        text-align: right;\n",
       "    }\n",
       "</style>\n",
       "<table border=\"1\" class=\"dataframe\">\n",
       "  <thead>\n",
       "    <tr style=\"text-align: right;\">\n",
       "      <th></th>\n",
       "      <th>index</th>\n",
       "      <th>dapd</th>\n",
       "      <th>dapm</th>\n",
       "      <th>medkits_hp</th>\n",
       "      <th>suicides</th>\n",
       "      <th>offclass_pct</th>\n",
       "      <th>deaths_pct</th>\n",
       "      <th>dmg_pct</th>\n",
       "      <th>dmg_real_pct</th>\n",
       "      <th>cpc_pct</th>\n",
       "      <th>ka_pct</th>\n",
       "      <th>assists_pct</th>\n",
       "      <th>dt_pct</th>\n",
       "      <th>dt_real_pct</th>\n",
       "      <th>hr_pct</th>\n",
       "      <th>hroi</th>\n",
       "      <th>hroi_real</th>\n",
       "    </tr>\n",
       "  </thead>\n",
       "  <tbody>\n",
       "    <tr>\n",
       "      <th>3</th>\n",
       "      <td>10989</td>\n",
       "      <td>462</td>\n",
       "      <td>272</td>\n",
       "      <td>1132</td>\n",
       "      <td>0</td>\n",
       "      <td>0.0</td>\n",
       "      <td>0.1466</td>\n",
       "      <td>0.2279</td>\n",
       "      <td>0.1492</td>\n",
       "      <td>0.4211</td>\n",
       "      <td>0.0987</td>\n",
       "      <td>0.0566</td>\n",
       "      <td>0.2137</td>\n",
       "      <td>0.1238</td>\n",
       "      <td>0.2974</td>\n",
       "      <td>0.866762</td>\n",
       "      <td>0.053780</td>\n",
       "    </tr>\n",
       "    <tr>\n",
       "      <th>5</th>\n",
       "      <td>18588</td>\n",
       "      <td>915</td>\n",
       "      <td>350</td>\n",
       "      <td>943</td>\n",
       "      <td>0</td>\n",
       "      <td>0.0</td>\n",
       "      <td>0.1569</td>\n",
       "      <td>0.2619</td>\n",
       "      <td>0.2414</td>\n",
       "      <td>0.3500</td>\n",
       "      <td>0.1596</td>\n",
       "      <td>0.1667</td>\n",
       "      <td>0.2459</td>\n",
       "      <td>0.0904</td>\n",
       "      <td>0.2851</td>\n",
       "      <td>1.076267</td>\n",
       "      <td>0.080088</td>\n",
       "    </tr>\n",
       "  </tbody>\n",
       "</table>\n",
       "</div>"
      ],
      "text/plain": [
       "   index  dapd  dapm  medkits_hp  suicides  offclass_pct  deaths_pct  dmg_pct  \\\n",
       "3  10989   462   272        1132         0           0.0      0.1466   0.2279   \n",
       "5  18588   915   350         943         0           0.0      0.1569   0.2619   \n",
       "\n",
       "   dmg_real_pct  cpc_pct  ka_pct  assists_pct  dt_pct  dt_real_pct  hr_pct  \\\n",
       "3        0.1492   0.4211  0.0987       0.0566  0.2137       0.1238  0.2974   \n",
       "5        0.2414   0.3500  0.1596       0.1667  0.2459       0.0904  0.2851   \n",
       "\n",
       "       hroi  hroi_real  \n",
       "3  0.866762   0.053780  \n",
       "5  1.076267   0.080088  "
      ]
     },
     "execution_count": 105,
     "metadata": {},
     "output_type": "execute_result"
    }
   ],
   "source": [
    "X_eval_dict['demoman'].reset_index().loc[[3,5],:]"
   ]
  },
  {
   "cell_type": "code",
   "execution_count": 107,
   "id": "4e13dcee",
   "metadata": {},
   "outputs": [
    {
     "data": {
      "application/vnd.microsoft.datawrangler.viewer.v0+json": {
       "columns": [
        {
         "name": "index",
         "rawType": "int64",
         "type": "integer"
        },
        {
         "name": "pred_prob",
         "rawType": "float32",
         "type": "float"
        },
        {
         "name": "beta_quantile",
         "rawType": "float64",
         "type": "float"
        },
        {
         "name": "PER_beta",
         "rawType": "float64",
         "type": "float"
        }
       ],
       "ref": "f4094d66-1d09-4f50-a928-1efae2f26a47",
       "rows": [
        [
         "0",
         "0.20828511",
         "0.3085456094811495",
         "3.1"
        ],
        [
         "1",
         "0.48426053",
         "0.49629071010884857",
         "5.0"
        ],
        [
         "2",
         "0.8750396",
         "0.7733803242439454",
         "7.7"
        ],
        [
         "3",
         "0.012832548",
         "0.07609884876546907",
         "0.8"
        ],
        [
         "4",
         "0.7650292",
         "0.6823745459777699",
         "6.8"
        ],
        [
         "5",
         "0.9878749",
         "0.9308761841897397",
         "9.3"
        ],
        [
         "6",
         "0.82316214",
         "0.727685495570713",
         "7.3"
        ],
        [
         "7",
         "0.2732468",
         "0.35703845697326503",
         "3.6"
        ],
        [
         "8",
         "0.000841266",
         "0.01999890588430774",
         "0.2"
        ],
        [
         "9",
         "0.4976432",
         "0.5047535012606006",
         "5.0"
        ],
        [
         "10",
         "0.008189587",
         "0.061027565484132795",
         "0.6"
        ],
        [
         "11",
         "0.65873176",
         "0.6081895865071574",
         "6.1"
        ],
        [
         "12",
         "0.32969028",
         "0.3961603925100779",
         "4.0"
        ],
        [
         "13",
         "0.81131285",
         "0.7180459164188454",
         "7.2"
        ],
        [
         "14",
         "0.53970623",
         "0.5313587061758751",
         "5.3"
        ],
        [
         "15",
         "0.8321857",
         "0.7351960667061379",
         "7.4"
        ],
        [
         "16",
         "0.80709887",
         "0.7146740531485278",
         "7.1"
        ],
        [
         "17",
         "0.5123951",
         "0.514078342378911",
         "5.1"
        ],
        [
         "18",
         "0.08817016",
         "0.1980855634536616",
         "2.0"
        ],
        [
         "19",
         "0.7072414",
         "0.641050885514016",
         "6.4"
        ],
        [
         "20",
         "0.9821952",
         "0.9161441176701013",
         "9.2"
        ],
        [
         "21",
         "0.8150767",
         "0.7210819295665899",
         "7.2"
        ],
        [
         "22",
         "0.107138425",
         "0.2186514496097957",
         "2.2"
        ],
        [
         "23",
         "0.53406674",
         "0.5277867942377296",
         "5.3"
        ],
        [
         "24",
         "0.94511485",
         "0.8517584769209926",
         "8.5"
        ],
        [
         "25",
         "0.0073646437",
         "0.057927693093454954",
         "0.6"
        ],
        [
         "26",
         "0.94702923",
         "0.8544178501505362",
         "8.5"
        ],
        [
         "27",
         "0.6237034",
         "0.5851626567871144",
         "5.9"
        ],
        [
         "28",
         "0.8731068",
         "0.7715503905932989",
         "7.7"
        ],
        [
         "29",
         "0.24119101",
         "0.33368686167870604",
         "3.3"
        ],
        [
         "30",
         "0.9760223",
         "0.9025740426057728",
         "9.0"
        ],
        [
         "31",
         "0.078836985",
         "0.1872179399142532",
         "1.9"
        ],
        [
         "32",
         "0.0063860267",
         "0.05401231186637216",
         "0.5"
        ],
        [
         "33",
         "0.84545195",
         "0.7465367365181597",
         "7.5"
        ],
        [
         "34",
         "0.33459806",
         "0.3994680888211566",
         "4.0"
        ],
        [
         "35",
         "0.9624203",
         "0.8777241493980377",
         "8.8"
        ],
        [
         "36",
         "0.4715275",
         "0.4882298825572383",
         "4.9"
        ],
        [
         "37",
         "0.83425844",
         "0.73694362693369",
         "7.4"
        ],
        [
         "38",
         "0.7743225",
         "0.689318394130631",
         "6.9"
        ],
        [
         "39",
         "0.24284942",
         "0.3349200019392054",
         "3.3"
        ],
        [
         "40",
         "0.9913434",
         "0.9416349164806203",
         "9.4"
        ],
        [
         "41",
         "0.84658283",
         "0.7475213016371931",
         "7.5"
        ],
        [
         "42",
         "0.009694811",
         "0.066300795499947",
         "0.7"
        ],
        [
         "43",
         "0.31938756",
         "0.38917359480984026",
         "3.9"
        ],
        [
         "44",
         "0.98363054",
         "0.9196172801835492",
         "9.2"
        ],
        [
         "45",
         "0.77119297",
         "0.6869691372383621",
         "6.9"
        ],
        [
         "46",
         "0.023326628",
         "0.10214932455288664",
         "1.0"
        ],
        [
         "47",
         "0.008796188",
         "0.06320719259197703",
         "0.6"
        ],
        [
         "48",
         "0.8236018",
         "0.728047886137271",
         "7.3"
        ],
        [
         "49",
         "0.0943581",
         "0.20499904498063937",
         "2.0"
        ]
       ],
       "shape": {
        "columns": 3,
        "rows": 404
       }
      },
      "text/html": [
       "<div>\n",
       "<style scoped>\n",
       "    .dataframe tbody tr th:only-of-type {\n",
       "        vertical-align: middle;\n",
       "    }\n",
       "\n",
       "    .dataframe tbody tr th {\n",
       "        vertical-align: top;\n",
       "    }\n",
       "\n",
       "    .dataframe thead th {\n",
       "        text-align: right;\n",
       "    }\n",
       "</style>\n",
       "<table border=\"1\" class=\"dataframe\">\n",
       "  <thead>\n",
       "    <tr style=\"text-align: right;\">\n",
       "      <th></th>\n",
       "      <th>pred_prob</th>\n",
       "      <th>beta_quantile</th>\n",
       "      <th>PER_beta</th>\n",
       "    </tr>\n",
       "  </thead>\n",
       "  <tbody>\n",
       "    <tr>\n",
       "      <th>0</th>\n",
       "      <td>0.208285</td>\n",
       "      <td>0.308546</td>\n",
       "      <td>3.1</td>\n",
       "    </tr>\n",
       "    <tr>\n",
       "      <th>1</th>\n",
       "      <td>0.484261</td>\n",
       "      <td>0.496291</td>\n",
       "      <td>5.0</td>\n",
       "    </tr>\n",
       "    <tr>\n",
       "      <th>2</th>\n",
       "      <td>0.875040</td>\n",
       "      <td>0.773380</td>\n",
       "      <td>7.7</td>\n",
       "    </tr>\n",
       "    <tr>\n",
       "      <th>3</th>\n",
       "      <td>0.012833</td>\n",
       "      <td>0.076099</td>\n",
       "      <td>0.8</td>\n",
       "    </tr>\n",
       "    <tr>\n",
       "      <th>4</th>\n",
       "      <td>0.765029</td>\n",
       "      <td>0.682375</td>\n",
       "      <td>6.8</td>\n",
       "    </tr>\n",
       "    <tr>\n",
       "      <th>...</th>\n",
       "      <td>...</td>\n",
       "      <td>...</td>\n",
       "      <td>...</td>\n",
       "    </tr>\n",
       "    <tr>\n",
       "      <th>399</th>\n",
       "      <td>0.734560</td>\n",
       "      <td>0.660229</td>\n",
       "      <td>6.6</td>\n",
       "    </tr>\n",
       "    <tr>\n",
       "      <th>400</th>\n",
       "      <td>0.985500</td>\n",
       "      <td>0.924374</td>\n",
       "      <td>9.2</td>\n",
       "    </tr>\n",
       "    <tr>\n",
       "      <th>401</th>\n",
       "      <td>0.695551</td>\n",
       "      <td>0.633006</td>\n",
       "      <td>6.3</td>\n",
       "    </tr>\n",
       "    <tr>\n",
       "      <th>402</th>\n",
       "      <td>0.142838</td>\n",
       "      <td>0.253352</td>\n",
       "      <td>2.5</td>\n",
       "    </tr>\n",
       "    <tr>\n",
       "      <th>403</th>\n",
       "      <td>0.582468</td>\n",
       "      <td>0.558569</td>\n",
       "      <td>5.6</td>\n",
       "    </tr>\n",
       "  </tbody>\n",
       "</table>\n",
       "<p>404 rows × 3 columns</p>\n",
       "</div>"
      ],
      "text/plain": [
       "     pred_prob  beta_quantile  PER_beta\n",
       "0     0.208285       0.308546       3.1\n",
       "1     0.484261       0.496291       5.0\n",
       "2     0.875040       0.773380       7.7\n",
       "3     0.012833       0.076099       0.8\n",
       "4     0.765029       0.682375       6.8\n",
       "..         ...            ...       ...\n",
       "399   0.734560       0.660229       6.6\n",
       "400   0.985500       0.924374       9.2\n",
       "401   0.695551       0.633006       6.3\n",
       "402   0.142838       0.253352       2.5\n",
       "403   0.582468       0.558569       5.6\n",
       "\n",
       "[404 rows x 3 columns]"
      ]
     },
     "execution_count": 107,
     "metadata": {},
     "output_type": "execute_result"
    }
   ],
   "source": [
    "PER_dict['demoman']"
   ]
  },
  {
   "cell_type": "code",
   "execution_count": 10,
   "id": "f68b3005",
   "metadata": {},
   "outputs": [
    {
     "data": {
      "image/png": "[encoded data removed]",
      "text/plain": [
       "<Figure size 640x480 with 1 Axes>"
      ]
     },
     "metadata": {},
     "output_type": "display_data"
    }
   ],
   "source": [
    "from scipy.stats import beta\n",
    "a, b, loc, scale = beta.fit(probs, floc=0, fscale=1)  # force within [0,1]\n",
    "\n",
    "x = np.linspace(0, 1, 100)\n",
    "pdf = beta.pdf(x, a, b, loc=loc, scale=scale)\n",
    "\n",
    "plt.plot(x, pdf, label=f'Beta fit (a={a:.2f}, b={b:.2f})')\n",
    "plt.hist(probs, bins=40, density=True, alpha=0.5)\n",
    "plt.legend()\n",
    "plt.show()\n"
   ]
  }
 ],
 "metadata": {
  "kernelspec": {
   "display_name": "Python 3",
   "language": "python",
   "name": "python3"
  },
  "language_info": {
   "codemirror_mode": {
    "name": "ipython",
    "version": 3
   },
   "file_extension": ".py",
   "mimetype": "text/x-python",
   "name": "python",
   "nbconvert_exporter": "python",
   "pygments_lexer": "ipython3",
   "version": "3.13.3"
  }
 },
 "nbformat": 4,
 "nbformat_minor": 5
}
