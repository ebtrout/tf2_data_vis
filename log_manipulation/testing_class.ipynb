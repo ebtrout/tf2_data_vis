{
 "cells": [
  {
   "cell_type": "code",
   "execution_count": null,
   "id": "d316851a",
   "metadata": {},
   "outputs": [],
   "source": [
    "import importlib\n",
    "import log\n",
    "import joblib\n",
    "import create_datasets\n",
    "import team_cols\n",
    "import player_cols\n",
    "import pandas as pd\n",
    "import advanced_med_stats\n",
    "importlib.reload(log)\n",
    "importlib.reload(create_datasets)\n",
    "importlib.reload(team_cols)\n",
    "importlib.reload(player_cols)\n",
    "importlib.reload(advanced_med_stats)\n",
    "\n",
    "pd.set_option('future.no_silent_downcasting', True)\n",
    "\n",
    "\n",
    "from log import log\n",
    "\n",
    "data = joblib.load('../data/pkls/testinglog.pkl')\n"
   ]
  },
  {
   "cell_type": "code",
   "execution_count": 11,
   "id": "7072830a",
   "metadata": {},
   "outputs": [
    {
     "data": {
      "application/vnd.microsoft.datawrangler.viewer.v0+json": {
       "columns": [
        {
         "name": "index",
         "rawType": "int64",
         "type": "integer"
        },
        {
         "name": "team",
         "rawType": "object",
         "type": "string"
        },
        {
         "name": "medicstats.advantages_lost",
         "rawType": "object",
         "type": "unknown"
        },
        {
         "name": "medicstats.avg_time_before_healing",
         "rawType": "object",
         "type": "unknown"
        },
        {
         "name": "medicstats.avg_time_before_using",
         "rawType": "object",
         "type": "unknown"
        },
        {
         "name": "medicstats.avg_time_to_build",
         "rawType": "object",
         "type": "unknown"
        },
        {
         "name": "medicstats.avg_uber_length",
         "rawType": "object",
         "type": "unknown"
        },
        {
         "name": "medicstats.biggest_advantage_lost",
         "rawType": "object",
         "type": "unknown"
        },
        {
         "name": "medicstats.deaths_with_95_99_uber",
         "rawType": "object",
         "type": "unknown"
        },
        {
         "name": "medicstats.deaths_within_20s_after_uber",
         "rawType": "object",
         "type": "unknown"
        },
        {
         "name": "ubers",
         "rawType": "object",
         "type": "unknown"
        },
        {
         "name": "drops",
         "rawType": "float64",
         "type": "float"
        },
        {
         "name": "medicstats.deaths_with_95_99_uber_rate",
         "rawType": "float64",
         "type": "float"
        },
        {
         "name": "medicstats.deaths_within_20s_after_uber_rate",
         "rawType": "float64",
         "type": "float"
        },
        {
         "name": "drops_rate",
         "rawType": "float64",
         "type": "float"
        },
        {
         "name": "medic_deaths",
         "rawType": "object",
         "type": "unknown"
        },
        {
         "name": "exchanges_initiated",
         "rawType": "float64",
         "type": "float"
        },
        {
         "name": "drops_forced",
         "rawType": "float64",
         "type": "float"
        },
        {
         "name": "successful_ubers",
         "rawType": "int64",
         "type": "integer"
        },
        {
         "name": "medic_deaths_forced",
         "rawType": "int64",
         "type": "integer"
        },
        {
         "name": "exchanges_not_initiated",
         "rawType": "int64",
         "type": "integer"
        },
        {
         "name": "successful_uber_rate",
         "rawType": "float64",
         "type": "float"
        },
        {
         "name": "forced_medic_death_rate",
         "rawType": "float64",
         "type": "float"
        },
        {
         "name": "forced_drop_rate",
         "rawType": "float64",
         "type": "float"
        },
        {
         "name": "medic_deaths_capitalized",
         "rawType": "int64",
         "type": "integer"
        },
        {
         "name": "round_losing_medic_deaths",
         "rawType": "int64",
         "type": "integer"
        },
        {
         "name": "round_losing_medic_death_rate",
         "rawType": "float64",
         "type": "float"
        },
        {
         "name": "medic_death_capitalization_rate",
         "rawType": "float64",
         "type": "float"
        }
       ],
       "ref": "1330219c-90b4-4056-b23e-66e8c4f63460",
       "rows": [
        [
         "0",
         "Blue",
         "1",
         "2.0285714285714285",
         "25.307692307692307",
         "55.714285714285715",
         "6.384615384615383",
         "36",
         null,
         "3",
         "13",
         null,
         null,
         "0.2308",
         null,
         "8",
         "0.0769",
         null,
         "5",
         "5",
         "6",
         "0.3846",
         "0.125",
         null,
         "7",
         "1",
         "0.125",
         "0.5385"
        ],
        [
         "1",
         "Red",
         null,
         "1.32",
         "19.428571428571427",
         "49.733333333333334",
         "7.181818181818182",
         null,
         null,
         "4",
         "14",
         null,
         null,
         "0.2857",
         null,
         "13",
         "0.4286",
         null,
         "6",
         "1",
         "1",
         "0.4286",
         "0.3846",
         null,
         "4",
         "1",
         "0.0769",
         "0.5"
        ]
       ],
       "shape": {
        "columns": 27,
        "rows": 2
       }
      },
      "text/html": [
       "<div>\n",
       "<style scoped>\n",
       "    .dataframe tbody tr th:only-of-type {\n",
       "        vertical-align: middle;\n",
       "    }\n",
       "\n",
       "    .dataframe tbody tr th {\n",
       "        vertical-align: top;\n",
       "    }\n",
       "\n",
       "    .dataframe thead th {\n",
       "        text-align: right;\n",
       "    }\n",
       "</style>\n",
       "<table border=\"1\" class=\"dataframe\">\n",
       "  <thead>\n",
       "    <tr style=\"text-align: right;\">\n",
       "      <th></th>\n",
       "      <th>team</th>\n",
       "      <th>medicstats.advantages_lost</th>\n",
       "      <th>medicstats.avg_time_before_healing</th>\n",
       "      <th>medicstats.avg_time_before_using</th>\n",
       "      <th>medicstats.avg_time_to_build</th>\n",
       "      <th>medicstats.avg_uber_length</th>\n",
       "      <th>medicstats.biggest_advantage_lost</th>\n",
       "      <th>medicstats.deaths_with_95_99_uber</th>\n",
       "      <th>medicstats.deaths_within_20s_after_uber</th>\n",
       "      <th>ubers</th>\n",
       "      <th>...</th>\n",
       "      <th>successful_ubers</th>\n",
       "      <th>medic_deaths_forced</th>\n",
       "      <th>exchanges_not_initiated</th>\n",
       "      <th>successful_uber_rate</th>\n",
       "      <th>forced_medic_death_rate</th>\n",
       "      <th>forced_drop_rate</th>\n",
       "      <th>medic_deaths_capitalized</th>\n",
       "      <th>round_losing_medic_deaths</th>\n",
       "      <th>round_losing_medic_death_rate</th>\n",
       "      <th>medic_death_capitalization_rate</th>\n",
       "    </tr>\n",
       "  </thead>\n",
       "  <tbody>\n",
       "    <tr>\n",
       "      <th>0</th>\n",
       "      <td>Blue</td>\n",
       "      <td>1</td>\n",
       "      <td>2.028571</td>\n",
       "      <td>25.307692</td>\n",
       "      <td>55.714286</td>\n",
       "      <td>6.384615</td>\n",
       "      <td>36</td>\n",
       "      <td>NaN</td>\n",
       "      <td>3</td>\n",
       "      <td>13</td>\n",
       "      <td>...</td>\n",
       "      <td>5</td>\n",
       "      <td>5</td>\n",
       "      <td>6</td>\n",
       "      <td>0.3846</td>\n",
       "      <td>0.1250</td>\n",
       "      <td>NaN</td>\n",
       "      <td>7</td>\n",
       "      <td>1</td>\n",
       "      <td>0.1250</td>\n",
       "      <td>0.5385</td>\n",
       "    </tr>\n",
       "    <tr>\n",
       "      <th>1</th>\n",
       "      <td>Red</td>\n",
       "      <td>NaN</td>\n",
       "      <td>1.32</td>\n",
       "      <td>19.428571</td>\n",
       "      <td>49.733333</td>\n",
       "      <td>7.181818</td>\n",
       "      <td>NaN</td>\n",
       "      <td>NaN</td>\n",
       "      <td>4</td>\n",
       "      <td>14</td>\n",
       "      <td>...</td>\n",
       "      <td>6</td>\n",
       "      <td>1</td>\n",
       "      <td>1</td>\n",
       "      <td>0.4286</td>\n",
       "      <td>0.3846</td>\n",
       "      <td>NaN</td>\n",
       "      <td>4</td>\n",
       "      <td>1</td>\n",
       "      <td>0.0769</td>\n",
       "      <td>0.5000</td>\n",
       "    </tr>\n",
       "  </tbody>\n",
       "</table>\n",
       "<p>2 rows × 27 columns</p>\n",
       "</div>"
      ],
      "text/plain": [
       "   team medicstats.advantages_lost medicstats.avg_time_before_healing  \\\n",
       "0  Blue                          1                           2.028571   \n",
       "1   Red                        NaN                               1.32   \n",
       "\n",
       "  medicstats.avg_time_before_using medicstats.avg_time_to_build  \\\n",
       "0                        25.307692                    55.714286   \n",
       "1                        19.428571                    49.733333   \n",
       "\n",
       "  medicstats.avg_uber_length medicstats.biggest_advantage_lost  \\\n",
       "0                   6.384615                                36   \n",
       "1                   7.181818                               NaN   \n",
       "\n",
       "  medicstats.deaths_with_95_99_uber medicstats.deaths_within_20s_after_uber  \\\n",
       "0                               NaN                                       3   \n",
       "1                               NaN                                       4   \n",
       "\n",
       "  ubers  ...  successful_ubers  medic_deaths_forced  exchanges_not_initiated  \\\n",
       "0    13  ...                 5                    5                        6   \n",
       "1    14  ...                 6                    1                        1   \n",
       "\n",
       "   successful_uber_rate forced_medic_death_rate  forced_drop_rate  \\\n",
       "0                0.3846                  0.1250               NaN   \n",
       "1                0.4286                  0.3846               NaN   \n",
       "\n",
       "   medic_deaths_capitalized  round_losing_medic_deaths  \\\n",
       "0                         7                          1   \n",
       "1                         4                          1   \n",
       "\n",
       "   round_losing_medic_death_rate  medic_death_capitalization_rate  \n",
       "0                         0.1250                           0.5385  \n",
       "1                         0.0769                           0.5000  \n",
       "\n",
       "[2 rows x 27 columns]"
      ]
     },
     "execution_count": 11,
     "metadata": {},
     "output_type": "execute_result"
    }
   ],
   "source": [
    "testing = log(log = data,id = \"10\")\n",
    "testing.team_medic_stats"
   ]
  },
  {
   "cell_type": "code",
   "execution_count": 28,
   "id": "b9f95eaa",
   "metadata": {},
   "outputs": [],
   "source": [
    "rounds = testing.rounds\n",
    "\n",
    "team_medic_stats = testing.team_medic_stats\n",
    "\n",
    "players = testing.players\n",
    "\n",
    "num_rounds = len(rounds)\n",
    "\n",
    "team_medic_stats['advantages_lost_per_round'] = team_medic_stats['medicstats.advantages_lost'].div(num_rounds).astype(float).round(4)\n",
    "\n",
    "medic_time = players[players['primary_class'] =='medic'][['team','primary_class_time']]\n",
    "\n",
    "team_medic_stats = team_medic_stats.merge(medic_time)\n",
    "\n",
    "team_medic_stats['mins'] = team_medic_stats['primary_class_time'].div(60)\n",
    "\n",
    "team_medic_stats['uberspm'] = team_medic_stats['ubers'].div(team_medic_stats['mins']).astype(float).round(4)\n",
    "\n",
    "team_medic_stats.drop(['mins','primary_class_time'],axis = 1,inplace = True)"
   ]
  },
  {
   "cell_type": "code",
   "execution_count": 29,
   "id": "389e4457",
   "metadata": {},
   "outputs": [
    {
     "data": {
      "application/vnd.microsoft.datawrangler.viewer.v0+json": {
       "columns": [
        {
         "name": "index",
         "rawType": "int64",
         "type": "integer"
        },
        {
         "name": "team",
         "rawType": "object",
         "type": "string"
        },
        {
         "name": "medicstats.advantages_lost",
         "rawType": "object",
         "type": "unknown"
        },
        {
         "name": "medicstats.avg_time_before_healing",
         "rawType": "object",
         "type": "unknown"
        },
        {
         "name": "medicstats.avg_time_before_using",
         "rawType": "object",
         "type": "unknown"
        },
        {
         "name": "medicstats.avg_time_to_build",
         "rawType": "object",
         "type": "unknown"
        },
        {
         "name": "medicstats.avg_uber_length",
         "rawType": "object",
         "type": "unknown"
        },
        {
         "name": "medicstats.biggest_advantage_lost",
         "rawType": "object",
         "type": "unknown"
        },
        {
         "name": "medicstats.deaths_with_95_99_uber",
         "rawType": "object",
         "type": "unknown"
        },
        {
         "name": "medicstats.deaths_within_20s_after_uber",
         "rawType": "object",
         "type": "unknown"
        },
        {
         "name": "ubers",
         "rawType": "object",
         "type": "unknown"
        },
        {
         "name": "drops",
         "rawType": "float64",
         "type": "float"
        },
        {
         "name": "medicstats.deaths_with_95_99_uber_rate",
         "rawType": "float64",
         "type": "float"
        },
        {
         "name": "medicstats.deaths_within_20s_after_uber_rate",
         "rawType": "float64",
         "type": "float"
        },
        {
         "name": "drops_rate",
         "rawType": "float64",
         "type": "float"
        },
        {
         "name": "medic_deaths",
         "rawType": "object",
         "type": "unknown"
        },
        {
         "name": "exchanges_initiated",
         "rawType": "float64",
         "type": "float"
        },
        {
         "name": "drops_forced",
         "rawType": "float64",
         "type": "float"
        },
        {
         "name": "successful_ubers",
         "rawType": "int64",
         "type": "integer"
        },
        {
         "name": "medic_deaths_forced",
         "rawType": "int64",
         "type": "integer"
        },
        {
         "name": "exchanges_not_initiated",
         "rawType": "int64",
         "type": "integer"
        },
        {
         "name": "successful_uber_rate",
         "rawType": "float64",
         "type": "float"
        },
        {
         "name": "forced_medic_death_rate",
         "rawType": "float64",
         "type": "float"
        },
        {
         "name": "forced_drop_rate",
         "rawType": "float64",
         "type": "float"
        },
        {
         "name": "medic_deaths_capitalized",
         "rawType": "int64",
         "type": "integer"
        },
        {
         "name": "round_losing_medic_deaths",
         "rawType": "int64",
         "type": "integer"
        },
        {
         "name": "round_losing_medic_death_rate",
         "rawType": "float64",
         "type": "float"
        },
        {
         "name": "medic_death_capitalization_rate",
         "rawType": "float64",
         "type": "float"
        },
        {
         "name": "advantages_lost_per_round",
         "rawType": "float64",
         "type": "float"
        },
        {
         "name": "uberspm",
         "rawType": "float64",
         "type": "float"
        }
       ],
       "ref": "043b65fc-6c6f-4766-a51b-4abcfdf1fa71",
       "rows": [
        [
         "0",
         "Blue",
         "1",
         "2.0285714285714285",
         "25.307692307692307",
         "55.714285714285715",
         "6.384615384615383",
         "36",
         null,
         "3",
         "13",
         null,
         null,
         "0.2308",
         null,
         "8",
         "0.0769",
         null,
         "5",
         "5",
         "6",
         "0.3846",
         "0.125",
         null,
         "7",
         "1",
         "0.125",
         "0.5385",
         "0.1111",
         "0.4514"
        ],
        [
         "1",
         "Red",
         null,
         "1.32",
         "19.428571428571427",
         "49.733333333333334",
         "7.181818181818182",
         null,
         null,
         "4",
         "14",
         null,
         null,
         "0.2857",
         null,
         "13",
         "0.4286",
         null,
         "6",
         "1",
         "1",
         "0.4286",
         "0.3846",
         null,
         "4",
         "1",
         "0.0769",
         "0.5",
         null,
         "0.4861"
        ]
       ],
       "shape": {
        "columns": 29,
        "rows": 2
       }
      },
      "text/html": [
       "<div>\n",
       "<style scoped>\n",
       "    .dataframe tbody tr th:only-of-type {\n",
       "        vertical-align: middle;\n",
       "    }\n",
       "\n",
       "    .dataframe tbody tr th {\n",
       "        vertical-align: top;\n",
       "    }\n",
       "\n",
       "    .dataframe thead th {\n",
       "        text-align: right;\n",
       "    }\n",
       "</style>\n",
       "<table border=\"1\" class=\"dataframe\">\n",
       "  <thead>\n",
       "    <tr style=\"text-align: right;\">\n",
       "      <th></th>\n",
       "      <th>team</th>\n",
       "      <th>medicstats.advantages_lost</th>\n",
       "      <th>medicstats.avg_time_before_healing</th>\n",
       "      <th>medicstats.avg_time_before_using</th>\n",
       "      <th>medicstats.avg_time_to_build</th>\n",
       "      <th>medicstats.avg_uber_length</th>\n",
       "      <th>medicstats.biggest_advantage_lost</th>\n",
       "      <th>medicstats.deaths_with_95_99_uber</th>\n",
       "      <th>medicstats.deaths_within_20s_after_uber</th>\n",
       "      <th>ubers</th>\n",
       "      <th>...</th>\n",
       "      <th>exchanges_not_initiated</th>\n",
       "      <th>successful_uber_rate</th>\n",
       "      <th>forced_medic_death_rate</th>\n",
       "      <th>forced_drop_rate</th>\n",
       "      <th>medic_deaths_capitalized</th>\n",
       "      <th>round_losing_medic_deaths</th>\n",
       "      <th>round_losing_medic_death_rate</th>\n",
       "      <th>medic_death_capitalization_rate</th>\n",
       "      <th>advantages_lost_per_round</th>\n",
       "      <th>uberspm</th>\n",
       "    </tr>\n",
       "  </thead>\n",
       "  <tbody>\n",
       "    <tr>\n",
       "      <th>0</th>\n",
       "      <td>Blue</td>\n",
       "      <td>1</td>\n",
       "      <td>2.028571</td>\n",
       "      <td>25.307692</td>\n",
       "      <td>55.714286</td>\n",
       "      <td>6.384615</td>\n",
       "      <td>36</td>\n",
       "      <td>NaN</td>\n",
       "      <td>3</td>\n",
       "      <td>13</td>\n",
       "      <td>...</td>\n",
       "      <td>6</td>\n",
       "      <td>0.3846</td>\n",
       "      <td>0.1250</td>\n",
       "      <td>NaN</td>\n",
       "      <td>7</td>\n",
       "      <td>1</td>\n",
       "      <td>0.1250</td>\n",
       "      <td>0.5385</td>\n",
       "      <td>0.1111</td>\n",
       "      <td>0.4514</td>\n",
       "    </tr>\n",
       "    <tr>\n",
       "      <th>1</th>\n",
       "      <td>Red</td>\n",
       "      <td>NaN</td>\n",
       "      <td>1.32</td>\n",
       "      <td>19.428571</td>\n",
       "      <td>49.733333</td>\n",
       "      <td>7.181818</td>\n",
       "      <td>NaN</td>\n",
       "      <td>NaN</td>\n",
       "      <td>4</td>\n",
       "      <td>14</td>\n",
       "      <td>...</td>\n",
       "      <td>1</td>\n",
       "      <td>0.4286</td>\n",
       "      <td>0.3846</td>\n",
       "      <td>NaN</td>\n",
       "      <td>4</td>\n",
       "      <td>1</td>\n",
       "      <td>0.0769</td>\n",
       "      <td>0.5000</td>\n",
       "      <td>NaN</td>\n",
       "      <td>0.4861</td>\n",
       "    </tr>\n",
       "  </tbody>\n",
       "</table>\n",
       "<p>2 rows × 29 columns</p>\n",
       "</div>"
      ],
      "text/plain": [
       "   team medicstats.advantages_lost medicstats.avg_time_before_healing  \\\n",
       "0  Blue                          1                           2.028571   \n",
       "1   Red                        NaN                               1.32   \n",
       "\n",
       "  medicstats.avg_time_before_using medicstats.avg_time_to_build  \\\n",
       "0                        25.307692                    55.714286   \n",
       "1                        19.428571                    49.733333   \n",
       "\n",
       "  medicstats.avg_uber_length medicstats.biggest_advantage_lost  \\\n",
       "0                   6.384615                                36   \n",
       "1                   7.181818                               NaN   \n",
       "\n",
       "  medicstats.deaths_with_95_99_uber medicstats.deaths_within_20s_after_uber  \\\n",
       "0                               NaN                                       3   \n",
       "1                               NaN                                       4   \n",
       "\n",
       "  ubers  ...  exchanges_not_initiated  successful_uber_rate  \\\n",
       "0    13  ...                        6                0.3846   \n",
       "1    14  ...                        1                0.4286   \n",
       "\n",
       "   forced_medic_death_rate  forced_drop_rate medic_deaths_capitalized  \\\n",
       "0                   0.1250               NaN                        7   \n",
       "1                   0.3846               NaN                        4   \n",
       "\n",
       "   round_losing_medic_deaths  round_losing_medic_death_rate  \\\n",
       "0                          1                         0.1250   \n",
       "1                          1                         0.0769   \n",
       "\n",
       "   medic_death_capitalization_rate  advantages_lost_per_round  uberspm  \n",
       "0                           0.5385                     0.1111   0.4514  \n",
       "1                           0.5000                        NaN   0.4861  \n",
       "\n",
       "[2 rows x 29 columns]"
      ]
     },
     "execution_count": 29,
     "metadata": {},
     "output_type": "execute_result"
    }
   ],
   "source": [
    "team_medic_stats"
   ]
  }
 ],
 "metadata": {
  "kernelspec": {
   "display_name": "Python 3",
   "language": "python",
   "name": "python3"
  },
  "language_info": {
   "codemirror_mode": {
    "name": "ipython",
    "version": 3
   },
   "file_extension": ".py",
   "mimetype": "text/x-python",
   "name": "python",
   "nbconvert_exporter": "python",
   "pygments_lexer": "ipython3",
   "version": "3.13.3"
  }
 },
 "nbformat": 4,
 "nbformat_minor": 5
}
