{
 "cells": [
  {
   "cell_type": "code",
   "execution_count": 3,
   "id": "8fdd984c",
   "metadata": {},
   "outputs": [],
   "source": [
    "import joblib\n",
    "import pandas as pd\n",
    "from better_profanity import profanity\n",
    "import numpy as np\n",
    "\n",
    "players = pd.read_csv(\"data/players.csv\")\n",
    "\n",
    "player_rounds = pd.read_csv(\"data/player_rounds.csv\")\n",
    "\n",
    "valid_ids = pd.read_csv(\"data/valid_ids.csv\")\n",
    "\n",
    "push_stats = pd.read_csv(\"data/push_stats.csv\")\n",
    "\n",
    "teams = pd.read_csv(\"data/teams.csv\")\n",
    "\n",
    "healspread = pd.read_csv(\"data/healspread.csv\")\n",
    "\n",
    "info = pd.read_csv(\"data/info.csv\")\n",
    "\n",
    "round_events = pd.read_csv('data/round_events.csv')\n",
    "\n",
    "model_ready_data = joblib.load(\"data/pkls/model_ready_data_dict.pkl\")\n",
    "X = model_ready_data['X']"
   ]
  },
  {
   "cell_type": "code",
   "execution_count": 8,
   "id": "b5e94052",
   "metadata": {},
   "outputs": [],
   "source": [
    "import pandas as pd\n",
    "\n",
    "data = pd.read_csv('testing/log_ids.csv')"
   ]
  },
  {
   "cell_type": "code",
   "execution_count": null,
   "id": "58b46583",
   "metadata": {},
   "outputs": [],
   "source": [
    "import pandas as pd\n",
    "import re\n",
    "import string\n",
    "\n",
    "str_list = ['ugc', 'etf2l', 'rgl', 'scrim', 'lan','invite']\n",
    "include_pattern = r'\\b(?:' + '|'.join(re.escape(s) for s in str_list) + r')\\b'\n",
    "exclude_pattern = r'\\bpug\\b'\n",
    "\n",
    "# Preprocess the 'title' column\n",
    "data['title_clean'] = (\n",
    "    data['title']\n",
    "    .str.lower()\n",
    "    .str.translate(str.maketrans('', '', string.punctuation))\n",
    ")\n",
    "\n",
    "# Apply both include and exclude filters\n",
    "filtered_df = data[\n",
    "    data['title_clean'].str.contains(include_pattern, regex=True, na=False) &\n",
    "    ~data['title_clean'].str.contains(exclude_pattern, regex=True, na=False)\n",
    "]\n",
    "\n",
    "filtered_df.drop_duplicates()"
   ]
  },
  {
   "cell_type": "code",
   "execution_count": null,
   "id": "1b930541",
   "metadata": {},
   "outputs": [
    {
     "data": {
      "application/vnd.microsoft.datawrangler.viewer.v0+json": {
       "columns": [
        {
         "name": "index",
         "rawType": "int64",
         "type": "integer"
        },
        {
         "name": "Unnamed: 0",
         "rawType": "int64",
         "type": "integer"
        },
        {
         "name": "id",
         "rawType": "int64",
         "type": "integer"
        },
        {
         "name": "title",
         "rawType": "object",
         "type": "string"
        },
        {
         "name": "map",
         "rawType": "object",
         "type": "unknown"
        },
        {
         "name": "date",
         "rawType": "object",
         "type": "string"
        },
        {
         "name": "views",
         "rawType": "int64",
         "type": "integer"
        },
        {
         "name": "players",
         "rawType": "float64",
         "type": "float"
        },
        {
         "name": "title_clean",
         "rawType": "object",
         "type": "string"
        }
       ],
       "ref": "3c1a3c6d-014d-4d24-9f76-7b74dfd125ea",
       "rows": [
        [
         "1266",
         "140",
         "3906305",
         "scrim",
         "Granary, Bagel",
         "2025-08-04 19:15:06",
         "30",
         "12.0",
         "scrim"
        ],
        [
         "1580",
         "743",
         "3905701",
         "\t RGL Invite S9 Upper Round 1 FROYO vs A",
         "cp_sunshine",
         "2025-08-03 19:11:28",
         "120",
         "12.0",
         "\t rgl invite s9 upper round 1 froyo vs a"
        ],
        [
         "1585",
         "753",
         "3905691",
         "RGL Invite S9 Upper Round 1 FROYO vs ANG",
         "cp_process_f11",
         "2025-08-03 19:06:15",
         "83",
         "12.0",
         "rgl invite s9 upper round 1 froyo vs ang"
        ],
        [
         "2287",
         "27",
         "3904416",
         "scrim",
         "Reckoner, Gullywash",
         "2025-08-01 20:27:57",
         "22",
         "12.0",
         "scrim"
        ],
        [
         "2476",
         "333",
         "3904109",
         "HLG vs Infinite RGL 6s IM S18 Losers Sem",
         null,
         "2025-08-01 04:02:42",
         "40",
         "12.0",
         "hlg vs infinite rgl 6s im s18 losers sem"
        ],
        [
         "2478",
         "335",
         "3904107",
         "Cuake vs Mao RGL 6s IM S18 Upper Finals",
         null,
         "2025-08-01 03:55:15",
         "42",
         "12.0",
         "cuake vs mao rgl 6s im s18 upper finals"
        ],
        [
         "2811",
         "866",
         "3903576",
         "rgl the crazy war",
         "gran snake gully",
         "2025-07-31 06:09:05",
         "93",
         "12.0",
         "rgl the crazy war"
        ],
        [
         "2859",
         "930",
         "3903512",
         "HLG vs boimb RGL 6s IM s18 Losers R1",
         null,
         "2025-07-31 02:48:23",
         "9",
         "12.0",
         "hlg vs boimb rgl 6s im s18 losers r1"
        ],
        [
         "5290",
         "236",
         "3899203",
         "RGL Match #32295: WRLD vs cl_",
         "cp_snakewater_final1",
         "2025-07-24 03:59:54",
         "107",
         "12.0",
         "rgl match 32295 wrld vs cl"
        ],
        [
         "5300",
         "252",
         "3899187",
         "RGL Match #32295: WRLD vs cl_",
         "cp_process_f12",
         "2025-07-24 03:22:28",
         "107",
         "12.0",
         "rgl match 32295 wrld vs cl"
        ],
        [
         "6381",
         "48",
         "3897380",
         "Legacy vs Froyo Winners R1 @RGL LAN",
         null,
         "2025-07-21 01:19:28",
         "478",
         "12.0",
         "legacy vs froyo winners r1 rgl lan"
        ],
        [
         "6383",
         "52",
         "3897376",
         "mama's vs GC Winners R1 @RGL LAN",
         null,
         "2025-07-21 01:17:05",
         "170",
         "12.0",
         "mamas vs gc winners r1 rgl lan"
        ],
        [
         "6385",
         "60",
         "3897368",
         "Froyo vs GC Losers R1 @RGL LAN",
         null,
         "2025-07-21 01:10:44",
         "159",
         "12.0",
         "froyo vs gc losers r1 rgl lan"
        ],
        [
         "6386",
         "62",
         "3897366",
         "RGL Lan Losers Finals: Legacy vs Froyo",
         null,
         "2025-07-21 01:06:56",
         "243",
         "12.0",
         "rgl lan losers finals legacy vs froyo"
        ],
        [
         "6387",
         "64",
         "3897364",
         "RGL Lan Winners Finals: mama's vs Legacy",
         null,
         "2025-07-21 01:05:16",
         "224",
         "12.0",
         "rgl lan winners finals mamas vs legacy"
        ],
        [
         "6388",
         "69",
         "3897359",
         "RGL Lan Grand Finals: mama's vs Legacy",
         null,
         "2025-07-21 01:02:00",
         "335",
         "12.0",
         "rgl lan grand finals mamas vs legacy"
        ],
        [
         "6393",
         "83",
         "3897345",
         "RGL.gg Philly LAN 2025: mama vs LEGACY",
         "cp_metalworks_f5",
         "2025-07-21 00:53:02",
         "414",
         "12.0",
         "rglgg philly lan 2025 mama vs legacy"
        ],
        [
         "6394",
         "86",
         "3897342",
         "RGL.gg Philly LAN 2025: BLU vs RED",
         "cp_snakewater_final1",
         "2025-07-21 01:15:22",
         "64",
         "12.0",
         "rglgg philly lan 2025 blu vs red"
        ],
        [
         "6399",
         "104",
         "3897324",
         "RGL.gg Philly LAN 2025: BLU vs RED",
         "cp_sunshine",
         "2025-07-21 00:19:31",
         "56",
         "12.0",
         "rglgg philly lan 2025 blu vs red"
        ],
        [
         "6404",
         "114",
         "3897314",
         "RGL.gg Philly LAN 2025: BLU vs LEGACY",
         "cp_metalworks_f5",
         "2025-07-21 00:08:23",
         "466",
         "12.0",
         "rglgg philly lan 2025 blu vs legacy"
        ],
        [
         "6412",
         "125",
         "3897303",
         "RGL.gg Philly LAN 2025: BLU vs sdr",
         "cp_snakewater_final1",
         "2025-07-20 23:23:29",
         "37",
         "12.0",
         "rglgg philly lan 2025 blu vs sdr"
        ],
        [
         "6416",
         "131",
         "3897297",
         "RGL.gg Philly LAN 2025: BLU vs RED",
         "cp_sultry_b8a",
         "2025-07-20 23:42:41",
         "71",
         "13.0",
         "rglgg philly lan 2025 blu vs red"
        ],
        [
         "6420",
         "136",
         "3897292",
         "RGL.gg Philly LAN 2025: mama vs legacy",
         "cp_gullywash_f9",
         "2025-07-20 23:02:28",
         "391",
         "12.0",
         "rglgg philly lan 2025 mama vs legacy"
        ],
        [
         "6424",
         "143",
         "3897285",
         "RGL.gg Philly LAN 2025: BLU vs RED",
         "cp_process_f12",
         "2025-07-20 22:39:34",
         "39",
         "12.0",
         "rglgg philly lan 2025 blu vs red"
        ],
        [
         "6430",
         "150",
         "3897278",
         "RGL.gg Philly LAN 2025: BLU vs RED",
         "cp_sultry_b8a",
         "2025-07-20 22:04:25",
         "43",
         "12.0",
         "rglgg philly lan 2025 blu vs red"
        ],
        [
         "6437",
         "159",
         "3897269",
         "Division 1 RGL LAN Grand Finals",
         null,
         "2025-07-20 21:34:14",
         "70",
         "12.0",
         "division 1 rgl lan grand finals"
        ],
        [
         "6440",
         "163",
         "3897265",
         "RGL.gg Philly LAN 2025: mama vs LEGACY",
         "cp_sunshine",
         "2025-07-20 21:53:03",
         "353",
         "12.0",
         "rglgg philly lan 2025 mama vs legacy"
        ],
        [
         "6445",
         "169",
         "3897259",
         "RGL.gg Philly LAN 2025: BLU vs RED",
         "cp_sunshine",
         "2025-07-20 21:45:32",
         "51",
         "12.0",
         "rglgg philly lan 2025 blu vs red"
        ],
        [
         "6457",
         "184",
         "3897244",
         "RGL.gg Philly LAN 2025: BLU vs :3",
         "cp_snakewater_final1",
         "2025-07-20 21:20:34",
         "51",
         "12.0",
         "rglgg philly lan 2025 blu vs 3"
        ],
        [
         "6471",
         "206",
         "3897222",
         "RGL.gg Philly LAN 2025: mama vs LEGACY",
         "koth_bagel_rc11",
         "2025-07-20 20:46:03",
         "392",
         "12.0",
         "rglgg philly lan 2025 mama vs legacy"
        ],
        [
         "6476",
         "216",
         "3897212",
         "RGL.gg Philly LAN 2025: BLU vs RED",
         "cp_snakewater_final1",
         "2025-07-20 20:39:08",
         "43",
         "12.0",
         "rglgg philly lan 2025 blu vs red"
        ],
        [
         "6495",
         "245",
         "3897183",
         "RGL.gg Philly LAN 2025: BLU vs RED",
         "cp_process_f12",
         "2025-07-20 20:15:50",
         "22",
         "12.0",
         "rglgg philly lan 2025 blu vs red"
        ],
        [
         "6496",
         "246",
         "3897182",
         "RGL.gg Philly LAN 2025: BLU vs sRED",
         "koth_bagel_rc11",
         "2025-07-20 23:02:00",
         "88",
         "12.0",
         "rglgg philly lan 2025 blu vs sred"
        ],
        [
         "6502",
         "254",
         "3897174",
         "RGL.gg Philly LAN 2025: BLU vs RED",
         "koth_bagel_rc11",
         "2025-07-20 20:17:40",
         "102",
         "12.0",
         "rglgg philly lan 2025 blu vs red"
        ],
        [
         "6506",
         "265",
         "3897163",
         "RGL.gg Philly LAN 2025: BLU vs RED",
         "cp_process_f12",
         "2025-07-20 19:49:24",
         "47",
         "12.0",
         "rglgg philly lan 2025 blu vs red"
        ],
        [
         "6513",
         "276",
         "3897152",
         "RGL.gg Philly LAN 2025: BLU vs 4MOM",
         "cp_sunshine",
         "2025-07-20 19:27:00",
         "83",
         "12.0",
         "rglgg philly lan 2025 blu vs 4mom"
        ],
        [
         "6520",
         "291",
         "3897137",
         "scrim",
         "proc/gully",
         "2025-07-20 19:07:30",
         "41",
         "12.0",
         "scrim"
        ],
        [
         "6526",
         "307",
         "3897121",
         "RGL Lan Open GF",
         "Snakewater, Sunshine",
         "2025-07-20 18:52:48",
         "72",
         "12.0",
         "rgl lan open gf"
        ],
        [
         "6545",
         "345",
         "3897083",
         "RGL.gg Philly LAN 2025: BLU vs Fire^",
         "cp_sunshine",
         "2025-07-20 18:45:56",
         "81",
         "12.0",
         "rglgg philly lan 2025 blu vs fire"
        ],
        [
         "6547",
         "347",
         "3897081",
         "RGL.gg Philly LAN 2025: BLU vs 4MOM",
         "cp_gullywash_f9",
         "2025-07-20 18:38:25",
         "77",
         "12.0",
         "rglgg philly lan 2025 blu vs 4mom"
        ],
        [
         "6555",
         "359",
         "3897069",
         "RGL.gg Philly LAN 2025: BLU vs LEGACY",
         "cp_snakewater_final1",
         "2025-07-20 18:57:06",
         "1138",
         "12.0",
         "rglgg philly lan 2025 blu vs legacy"
        ],
        [
         "6556",
         "360",
         "3897068",
         "RGL.gg Philly LAN 2025: BLU vs RED",
         "cp_metalworks_f5",
         "2025-07-20 19:13:41",
         "184",
         "12.0",
         "rglgg philly lan 2025 blu vs red"
        ],
        [
         "6560",
         "368",
         "3897060",
         "RGL.gg Philly LAN 2025: BLU vs Fire^",
         "cp_snakewater_final1",
         "2025-07-20 17:55:32",
         "112",
         "12.0",
         "rglgg philly lan 2025 blu vs fire"
        ],
        [
         "6566",
         "383",
         "3897045",
         "RGL.gg Philly LAN 2025: BLU vs LEGACY",
         "cp_sunshine",
         "2025-07-20 17:24:17",
         "702",
         "12.0",
         "rglgg philly lan 2025 blu vs legacy"
        ],
        [
         "6567",
         "384",
         "3897044",
         "RGL.gg Philly LAN 2025: BLU vs RED",
         "cp_sunshine",
         "2025-07-20 17:15:15",
         "64",
         "12.0",
         "rglgg philly lan 2025 blu vs red"
        ],
        [
         "6654",
         "520",
         "3896908",
         "LAN Downunder 2025: BLU vs RED",
         "cp_gullywash_f9",
         "2025-07-20 11:15:26",
         "194",
         "12.0",
         "lan downunder 2025 blu vs red"
        ],
        [
         "6662",
         "530",
         "3896898",
         "LAN Downunder 2025: BLU vs RED",
         "cp_sunshine",
         "2025-07-20 10:41:28",
         "159",
         "12.0",
         "lan downunder 2025 blu vs red"
        ],
        [
         "6669",
         "537",
         "3896891",
         "LAN Downunder 2025: BLU vs RED",
         "koth_bagel_rc10",
         "2025-07-20 10:08:40",
         "196",
         "12.0",
         "lan downunder 2025 blu vs red"
        ],
        [
         "6676",
         "544",
         "3896884",
         "LAN Downunder 2025: WILLY vs RED",
         "koth_bagel_rc10",
         "2025-07-20 09:01:14",
         "88",
         "12.0",
         "lan downunder 2025 willy vs red"
        ],
        [
         "6679",
         "548",
         "3896880",
         "LAN Downunder 2025: smzgay vs RED",
         "cp_sunshine",
         "2025-07-20 08:28:39",
         "68",
         "12.0",
         "lan downunder 2025 smzgay vs red"
        ]
       ],
       "shape": {
        "columns": 8,
        "rows": 25191
       }
      },
      "text/html": [
       "<div>\n",
       "<style scoped>\n",
       "    .dataframe tbody tr th:only-of-type {\n",
       "        vertical-align: middle;\n",
       "    }\n",
       "\n",
       "    .dataframe tbody tr th {\n",
       "        vertical-align: top;\n",
       "    }\n",
       "\n",
       "    .dataframe thead th {\n",
       "        text-align: right;\n",
       "    }\n",
       "</style>\n",
       "<table border=\"1\" class=\"dataframe\">\n",
       "  <thead>\n",
       "    <tr style=\"text-align: right;\">\n",
       "      <th></th>\n",
       "      <th>Unnamed: 0</th>\n",
       "      <th>id</th>\n",
       "      <th>title</th>\n",
       "      <th>map</th>\n",
       "      <th>date</th>\n",
       "      <th>views</th>\n",
       "      <th>players</th>\n",
       "      <th>title_clean</th>\n",
       "    </tr>\n",
       "  </thead>\n",
       "  <tbody>\n",
       "    <tr>\n",
       "      <th>1266</th>\n",
       "      <td>140</td>\n",
       "      <td>3906305</td>\n",
       "      <td>scrim</td>\n",
       "      <td>Granary, Bagel</td>\n",
       "      <td>2025-08-04 19:15:06</td>\n",
       "      <td>30</td>\n",
       "      <td>12.0</td>\n",
       "      <td>scrim</td>\n",
       "    </tr>\n",
       "    <tr>\n",
       "      <th>1580</th>\n",
       "      <td>743</td>\n",
       "      <td>3905701</td>\n",
       "      <td>\\t RGL Invite S9 Upper Round 1 FROYO vs A</td>\n",
       "      <td>cp_sunshine</td>\n",
       "      <td>2025-08-03 19:11:28</td>\n",
       "      <td>120</td>\n",
       "      <td>12.0</td>\n",
       "      <td>\\t rgl invite s9 upper round 1 froyo vs a</td>\n",
       "    </tr>\n",
       "    <tr>\n",
       "      <th>1585</th>\n",
       "      <td>753</td>\n",
       "      <td>3905691</td>\n",
       "      <td>RGL Invite S9 Upper Round 1 FROYO vs ANG</td>\n",
       "      <td>cp_process_f11</td>\n",
       "      <td>2025-08-03 19:06:15</td>\n",
       "      <td>83</td>\n",
       "      <td>12.0</td>\n",
       "      <td>rgl invite s9 upper round 1 froyo vs ang</td>\n",
       "    </tr>\n",
       "    <tr>\n",
       "      <th>2287</th>\n",
       "      <td>27</td>\n",
       "      <td>3904416</td>\n",
       "      <td>scrim</td>\n",
       "      <td>Reckoner, Gullywash</td>\n",
       "      <td>2025-08-01 20:27:57</td>\n",
       "      <td>22</td>\n",
       "      <td>12.0</td>\n",
       "      <td>scrim</td>\n",
       "    </tr>\n",
       "    <tr>\n",
       "      <th>2476</th>\n",
       "      <td>333</td>\n",
       "      <td>3904109</td>\n",
       "      <td>HLG vs Infinite RGL 6s IM S18 Losers Sem</td>\n",
       "      <td>NaN</td>\n",
       "      <td>2025-08-01 04:02:42</td>\n",
       "      <td>40</td>\n",
       "      <td>12.0</td>\n",
       "      <td>hlg vs infinite rgl 6s im s18 losers sem</td>\n",
       "    </tr>\n",
       "    <tr>\n",
       "      <th>...</th>\n",
       "      <td>...</td>\n",
       "      <td>...</td>\n",
       "      <td>...</td>\n",
       "      <td>...</td>\n",
       "      <td>...</td>\n",
       "      <td>...</td>\n",
       "      <td>...</td>\n",
       "      <td>...</td>\n",
       "    </tr>\n",
       "    <tr>\n",
       "      <th>1383009</th>\n",
       "      <td>830</td>\n",
       "      <td>1459236</td>\n",
       "      <td>UGC 6v6 Match: allay vs meta</td>\n",
       "      <td>cp_process_final</td>\n",
       "      <td>2016-07-07 00:50:13</td>\n",
       "      <td>233</td>\n",
       "      <td>12.0</td>\n",
       "      <td>ugc 6v6 match allay vs meta</td>\n",
       "    </tr>\n",
       "    <tr>\n",
       "      <th>1383011</th>\n",
       "      <td>833</td>\n",
       "      <td>1459233</td>\n",
       "      <td>UGC 6v6 Match: red vs aq</td>\n",
       "      <td>cp_process_final</td>\n",
       "      <td>2016-07-07 01:07:04</td>\n",
       "      <td>104</td>\n",
       "      <td>12.0</td>\n",
       "      <td>ugc 6v6 match red vs aq</td>\n",
       "    </tr>\n",
       "    <tr>\n",
       "      <th>1383022</th>\n",
       "      <td>853</td>\n",
       "      <td>1459213</td>\n",
       "      <td>UGC 6v6 Match: leke vs memes</td>\n",
       "      <td>cp_process_final</td>\n",
       "      <td>2016-07-07 00:37:44</td>\n",
       "      <td>154</td>\n",
       "      <td>12.0</td>\n",
       "      <td>ugc 6v6 match leke vs memes</td>\n",
       "    </tr>\n",
       "    <tr>\n",
       "      <th>1383029</th>\n",
       "      <td>863</td>\n",
       "      <td>1459203</td>\n",
       "      <td>UGC 6v6 Match: RED vs memes</td>\n",
       "      <td>cp_process_final</td>\n",
       "      <td>2016-07-07 00:07:39</td>\n",
       "      <td>137</td>\n",
       "      <td>12.0</td>\n",
       "      <td>ugc 6v6 match red vs memes</td>\n",
       "    </tr>\n",
       "    <tr>\n",
       "      <th>1383031</th>\n",
       "      <td>865</td>\n",
       "      <td>1459201</td>\n",
       "      <td>UGC 6v6 Match: RED vs CHESS</td>\n",
       "      <td>cp_process_final</td>\n",
       "      <td>2016-07-07 00:09:17</td>\n",
       "      <td>59</td>\n",
       "      <td>12.0</td>\n",
       "      <td>ugc 6v6 match red vs chess</td>\n",
       "    </tr>\n",
       "  </tbody>\n",
       "</table>\n",
       "<p>25191 rows × 8 columns</p>\n",
       "</div>"
      ],
      "text/plain": [
       "         Unnamed: 0       id                                      title  \\\n",
       "1266            140  3906305                                      scrim   \n",
       "1580            743  3905701  \\t RGL Invite S9 Upper Round 1 FROYO vs A   \n",
       "1585            753  3905691   RGL Invite S9 Upper Round 1 FROYO vs ANG   \n",
       "2287             27  3904416                                      scrim   \n",
       "2476            333  3904109   HLG vs Infinite RGL 6s IM S18 Losers Sem   \n",
       "...             ...      ...                                        ...   \n",
       "1383009         830  1459236               UGC 6v6 Match: allay vs meta   \n",
       "1383011         833  1459233                   UGC 6v6 Match: red vs aq   \n",
       "1383022         853  1459213               UGC 6v6 Match: leke vs memes   \n",
       "1383029         863  1459203                UGC 6v6 Match: RED vs memes   \n",
       "1383031         865  1459201                UGC 6v6 Match: RED vs CHESS   \n",
       "\n",
       "                         map                 date  views  players  \\\n",
       "1266          Granary, Bagel  2025-08-04 19:15:06     30     12.0   \n",
       "1580             cp_sunshine  2025-08-03 19:11:28    120     12.0   \n",
       "1585          cp_process_f11  2025-08-03 19:06:15     83     12.0   \n",
       "2287     Reckoner, Gullywash  2025-08-01 20:27:57     22     12.0   \n",
       "2476                     NaN  2025-08-01 04:02:42     40     12.0   \n",
       "...                      ...                  ...    ...      ...   \n",
       "1383009     cp_process_final  2016-07-07 00:50:13    233     12.0   \n",
       "1383011     cp_process_final  2016-07-07 01:07:04    104     12.0   \n",
       "1383022     cp_process_final  2016-07-07 00:37:44    154     12.0   \n",
       "1383029     cp_process_final  2016-07-07 00:07:39    137     12.0   \n",
       "1383031     cp_process_final  2016-07-07 00:09:17     59     12.0   \n",
       "\n",
       "                                       title_clean  \n",
       "1266                                         scrim  \n",
       "1580     \\t rgl invite s9 upper round 1 froyo vs a  \n",
       "1585      rgl invite s9 upper round 1 froyo vs ang  \n",
       "2287                                         scrim  \n",
       "2476      hlg vs infinite rgl 6s im s18 losers sem  \n",
       "...                                            ...  \n",
       "1383009                ugc 6v6 match allay vs meta  \n",
       "1383011                    ugc 6v6 match red vs aq  \n",
       "1383022                ugc 6v6 match leke vs memes  \n",
       "1383029                 ugc 6v6 match red vs memes  \n",
       "1383031                 ugc 6v6 match red vs chess  \n",
       "\n",
       "[25191 rows x 8 columns]"
      ]
     },
     "execution_count": 17,
     "metadata": {},
     "output_type": "execute_result"
    }
   ],
   "source": []
  },
  {
   "cell_type": "code",
   "execution_count": 11,
   "id": "51fbce24",
   "metadata": {},
   "outputs": [],
   "source": [
    "import pandas as pd\n",
    "from collections import Counter\n",
    "\n",
    "# Adjust chunk size as needed\n",
    "token_counts = Counter()\n",
    "\n",
    "for row in filtered_df[\"map\"]:\n",
    "    tokens = str(row).lower().split(\"_\")\n",
    "    token_counts.update(tokens)\n",
    "\n",
    "# Convert to DataFrame if needed\n",
    "df_counts = pd.DataFrame(token_counts.items(), columns=[\"token\", \"count\"])\n",
    "df_counts = df_counts.sort_values(by=\"count\", ascending=False)\n"
   ]
  },
  {
   "cell_type": "code",
   "execution_count": 12,
   "id": "35fee615",
   "metadata": {},
   "outputs": [
    {
     "data": {
      "application/vnd.microsoft.datawrangler.viewer.v0+json": {
       "columns": [
        {
         "name": "index",
         "rawType": "int64",
         "type": "integer"
        },
        {
         "name": "token",
         "rawType": "object",
         "type": "string"
        },
        {
         "name": "count",
         "rawType": "int64",
         "type": "integer"
        }
       ],
       "ref": "7dba4e2f-848d-4219-848e-6f44c0d931f2",
       "rows": [
        [
         "1",
         "cp",
         "19695"
        ],
        [
         "9",
         "final1",
         "6173"
        ],
        [
         "3",
         "process",
         "4911"
        ],
        [
         "24",
         "final",
         "4404"
        ],
        [
         "8",
         "snakewater",
         "3643"
        ],
        [
         "15",
         "gullywash",
         "3631"
        ],
        [
         "17",
         "koth",
         "3012"
        ],
        [
         "2",
         "sunshine",
         "2805"
        ],
        [
         "23",
         "product",
         "2110"
        ],
        [
         "27",
         "rc8",
         "1790"
        ],
        [
         "11",
         "metalworks",
         "1387"
        ],
        [
         "204",
         "badlands",
         "1077"
        ],
        [
         "276",
         "reckoner",
         "695"
        ],
        [
         "25",
         "granary",
         "654"
        ],
        [
         "26",
         "pro",
         "575"
        ],
        [
         "18",
         "bagel",
         "523"
        ],
        [
         "274",
         "prolands",
         "446"
        ],
        [
         "6",
         "nan",
         "444"
        ],
        [
         "850",
         "rc9",
         "364"
        ],
        [
         "895",
         "u14",
         "360"
        ],
        [
         "128",
         "clearcut",
         "333"
        ],
        [
         "556",
         "rcx",
         "326"
        ],
        [
         "10",
         "f12",
         "299"
        ],
        [
         "87",
         "b5",
         "225"
        ],
        [
         "359",
         "villa",
         "209"
        ],
        [
         "928",
         "b3",
         "207"
        ],
        [
         "913",
         "b2a",
         "191"
        ],
        [
         "16",
         "f9",
         "185"
        ],
        [
         "896",
         "u13",
         "176"
        ],
        [
         "488",
         "f7",
         "168"
        ],
        [
         "267",
         "b15d",
         "161"
        ],
        [
         "277",
         "rc2",
         "144"
        ],
        [
         "853",
         "b3b",
         "143"
        ],
        [
         "4",
         "f11",
         "140"
        ],
        [
         "382",
         "rc5",
         "126"
        ],
        [
         "919",
         "b4",
         "123"
        ],
        [
         "899",
         "cardinal",
         "121"
        ],
        [
         "900",
         "rc1a",
         "119"
        ],
        [
         "809",
         "rc1",
         "117"
        ],
        [
         "769",
         "b15c",
         "111"
        ],
        [
         "954",
         "u10",
         "110"
        ],
        [
         "543",
         "rc2a",
         "109"
        ],
        [
         "212",
         "rc6",
         "105"
        ],
        [
         "361",
         "rc7",
         "105"
        ],
        [
         "12",
         "f5",
         "102"
        ],
        [
         "885",
         "b2b",
         "99"
        ],
        [
         "471",
         "f9a",
         "93"
        ],
        [
         "767",
         "rc3",
         "93"
        ],
        [
         "721",
         "b18",
         "91"
        ],
        [
         "971",
         "forge",
         "83"
        ]
       ],
       "shape": {
        "columns": 2,
        "rows": 984
       }
      },
      "text/html": [
       "<div>\n",
       "<style scoped>\n",
       "    .dataframe tbody tr th:only-of-type {\n",
       "        vertical-align: middle;\n",
       "    }\n",
       "\n",
       "    .dataframe tbody tr th {\n",
       "        vertical-align: top;\n",
       "    }\n",
       "\n",
       "    .dataframe thead th {\n",
       "        text-align: right;\n",
       "    }\n",
       "</style>\n",
       "<table border=\"1\" class=\"dataframe\">\n",
       "  <thead>\n",
       "    <tr style=\"text-align: right;\">\n",
       "      <th></th>\n",
       "      <th>token</th>\n",
       "      <th>count</th>\n",
       "    </tr>\n",
       "  </thead>\n",
       "  <tbody>\n",
       "    <tr>\n",
       "      <th>1</th>\n",
       "      <td>cp</td>\n",
       "      <td>19695</td>\n",
       "    </tr>\n",
       "    <tr>\n",
       "      <th>9</th>\n",
       "      <td>final1</td>\n",
       "      <td>6173</td>\n",
       "    </tr>\n",
       "    <tr>\n",
       "      <th>3</th>\n",
       "      <td>process</td>\n",
       "      <td>4911</td>\n",
       "    </tr>\n",
       "    <tr>\n",
       "      <th>24</th>\n",
       "      <td>final</td>\n",
       "      <td>4404</td>\n",
       "    </tr>\n",
       "    <tr>\n",
       "      <th>8</th>\n",
       "      <td>snakewater</td>\n",
       "      <td>3643</td>\n",
       "    </tr>\n",
       "    <tr>\n",
       "      <th>...</th>\n",
       "      <td>...</td>\n",
       "      <td>...</td>\n",
       "    </tr>\n",
       "    <tr>\n",
       "      <th>947</th>\n",
       "      <td>eksdee</td>\n",
       "      <td>1</td>\n",
       "    </tr>\n",
       "    <tr>\n",
       "      <th>948</th>\n",
       "      <td>bad + gully</td>\n",
       "      <td>1</td>\n",
       "    </tr>\n",
       "    <tr>\n",
       "      <th>964</th>\n",
       "      <td>gorge</td>\n",
       "      <td>1</td>\n",
       "    </tr>\n",
       "    <tr>\n",
       "      <th>963</th>\n",
       "      <td>a013a</td>\n",
       "      <td>1</td>\n",
       "    </tr>\n",
       "    <tr>\n",
       "      <th>962</th>\n",
       "      <td>product?</td>\n",
       "      <td>1</td>\n",
       "    </tr>\n",
       "  </tbody>\n",
       "</table>\n",
       "<p>984 rows × 2 columns</p>\n",
       "</div>"
      ],
      "text/plain": [
       "           token  count\n",
       "1             cp  19695\n",
       "9         final1   6173\n",
       "3        process   4911\n",
       "24         final   4404\n",
       "8     snakewater   3643\n",
       "..           ...    ...\n",
       "947       eksdee      1\n",
       "948  bad + gully      1\n",
       "964        gorge      1\n",
       "963        a013a      1\n",
       "962     product?      1\n",
       "\n",
       "[984 rows x 2 columns]"
      ]
     },
     "execution_count": 12,
     "metadata": {},
     "output_type": "execute_result"
    }
   ],
   "source": [
    "df_counts"
   ]
  },
  {
   "cell_type": "code",
   "execution_count": 13,
   "id": "02725baf",
   "metadata": {},
   "outputs": [],
   "source": [
    "map = df_counts[df_counts['token'].str.len() > 3]\n",
    "\n",
    "map = map[map['token'].str.split(\" \").str.len() <= 1]\n",
    "\n",
    "df_counts_clean = map[map['token'].str.fullmatch(r'[a-zA-Z]+')]\n",
    "\n",
    "df_counts_clean = df_counts_clean[~df_counts_clean['token'].str.contains('final')]\n",
    "\n",
    "df_counts_clean = df_counts_clean[~df_counts_clean['token'].str.contains('koth')]\n",
    "\n",
    "df_counts_clean = df_counts_clean[~df_counts_clean['token'].str.contains('cp')]\n",
    "\n"
   ]
  },
  {
   "cell_type": "code",
   "execution_count": 15,
   "id": "afc0775f",
   "metadata": {},
   "outputs": [
    {
     "data": {
      "application/vnd.microsoft.datawrangler.viewer.v0+json": {
       "columns": [
        {
         "name": "index",
         "rawType": "int64",
         "type": "integer"
        },
        {
         "name": "token",
         "rawType": "object",
         "type": "string"
        }
       ],
       "ref": "27be3ee2-bd7c-4909-b44d-5c321377fb3f",
       "rows": [
        [
         "3",
         "process"
        ],
        [
         "8",
         "snakewater"
        ],
        [
         "15",
         "gullywash"
        ],
        [
         "2",
         "sunshine"
        ],
        [
         "23",
         "product"
        ],
        [
         "11",
         "metalworks"
        ],
        [
         "204",
         "badlands"
        ],
        [
         "276",
         "reckoner"
        ],
        [
         "25",
         "granary"
        ],
        [
         "18",
         "bagel"
        ],
        [
         "274",
         "prolands"
        ],
        [
         "128",
         "clearcut"
        ],
        [
         "359",
         "villa"
        ],
        [
         "899",
         "cardinal"
        ]
       ],
       "shape": {
        "columns": 1,
        "rows": 14
       }
      },
      "text/plain": [
       "3         process\n",
       "8      snakewater\n",
       "15      gullywash\n",
       "2        sunshine\n",
       "23        product\n",
       "11     metalworks\n",
       "204      badlands\n",
       "276      reckoner\n",
       "25        granary\n",
       "18          bagel\n",
       "274      prolands\n",
       "128      clearcut\n",
       "359         villa\n",
       "899      cardinal\n",
       "Name: token, dtype: object"
      ]
     },
     "execution_count": 15,
     "metadata": {},
     "output_type": "execute_result"
    }
   ],
   "source": [
    "df_counts_clean[df_counts_clean['count'] > 100]['token']"
   ]
  },
  {
   "cell_type": "code",
   "execution_count": 4,
   "id": "1828eebf",
   "metadata": {},
   "outputs": [
    {
     "data": {
      "application/vnd.microsoft.datawrangler.viewer.v0+json": {
       "columns": [
        {
         "name": "index",
         "rawType": "int64",
         "type": "integer"
        },
        {
         "name": "token",
         "rawType": "object",
         "type": "string"
        },
        {
         "name": "count",
         "rawType": "int64",
         "type": "integer"
        }
       ],
       "ref": "41bf675a-1f96-4072-92d6-a98ccb59d9a0",
       "rows": [
        [
         "3",
         "process",
         "4901"
        ],
        [
         "8",
         "snakewater",
         "3639"
        ],
        [
         "15",
         "gullywash",
         "3627"
        ],
        [
         "2",
         "sunshine",
         "2799"
        ],
        [
         "23",
         "product",
         "2106"
        ],
        [
         "11",
         "metalworks",
         "1383"
        ],
        [
         "203",
         "badlands",
         "1076"
        ],
        [
         "274",
         "reckoner",
         "694"
        ],
        [
         "25",
         "granary",
         "654"
        ],
        [
         "18",
         "bagel",
         "521"
        ],
        [
         "272",
         "prolands",
         "446"
        ],
        [
         "127",
         "clearcut",
         "332"
        ],
        [
         "357",
         "villa",
         "209"
        ],
        [
         "896",
         "cardinal",
         "121"
        ],
        [
         "968",
         "forge",
         "83"
        ],
        [
         "866",
         "kalinka",
         "76"
        ],
        [
         "13",
         "sultry",
         "69"
        ],
        [
         "858",
         "propaganda",
         "39"
        ],
        [
         "730",
         "logjam",
         "21"
        ],
        [
         "56",
         "snake",
         "12"
        ],
        [
         "496",
         "lakeside",
         "10"
        ],
        [
         "915",
         "ramjam",
         "10"
        ],
        [
         "713",
         "ashville",
         "8"
        ],
        [
         "80",
         "viaduct",
         "7"
        ],
        [
         "539",
         "mannbase",
         "7"
        ],
        [
         "599",
         "gully",
         "7"
        ],
        [
         "427",
         "produ",
         "6"
        ],
        [
         "585",
         "event",
         "6"
        ],
        [
         "536",
         "scrim",
         "6"
        ],
        [
         "836",
         "snek",
         "5"
        ],
        [
         "979",
         "steel",
         "5"
        ],
        [
         "487",
         "freight",
         "4"
        ],
        [
         "922",
         "warmfrost",
         "4"
        ],
        [
         "875",
         "cherokee",
         "4"
        ],
        [
         "85",
         "entropy",
         "4"
        ],
        [
         "79",
         "metal",
         "3"
        ],
        [
         "805",
         "fall",
         "3"
        ],
        [
         "574",
         "arenares",
         "3"
        ],
        [
         "586",
         "harvest",
         "2"
        ],
        [
         "863",
         "tungsten",
         "2"
        ],
        [
         "849",
         "coalplant",
         "2"
        ],
        [
         "965",
         "testc",
         "2"
        ],
        [
         "954",
         "cliff",
         "2"
        ],
        [
         "963",
         "depot",
         "2"
        ],
        [
         "955",
         "base",
         "2"
        ],
        [
         "801",
         "trolltown",
         "2"
        ],
        [
         "844",
         "nuke",
         "2"
        ],
        [
         "752",
         "multiple",
         "2"
        ],
        [
         "429",
         "sunsh",
         "2"
        ],
        [
         "927",
         "stallone",
         "2"
        ]
       ],
       "shape": {
        "columns": 2,
        "rows": 109
       }
      },
      "text/html": [
       "<div>\n",
       "<style scoped>\n",
       "    .dataframe tbody tr th:only-of-type {\n",
       "        vertical-align: middle;\n",
       "    }\n",
       "\n",
       "    .dataframe tbody tr th {\n",
       "        vertical-align: top;\n",
       "    }\n",
       "\n",
       "    .dataframe thead th {\n",
       "        text-align: right;\n",
       "    }\n",
       "</style>\n",
       "<table border=\"1\" class=\"dataframe\">\n",
       "  <thead>\n",
       "    <tr style=\"text-align: right;\">\n",
       "      <th></th>\n",
       "      <th>token</th>\n",
       "      <th>count</th>\n",
       "    </tr>\n",
       "  </thead>\n",
       "  <tbody>\n",
       "    <tr>\n",
       "      <th>3</th>\n",
       "      <td>process</td>\n",
       "      <td>4901</td>\n",
       "    </tr>\n",
       "    <tr>\n",
       "      <th>8</th>\n",
       "      <td>snakewater</td>\n",
       "      <td>3639</td>\n",
       "    </tr>\n",
       "    <tr>\n",
       "      <th>15</th>\n",
       "      <td>gullywash</td>\n",
       "      <td>3627</td>\n",
       "    </tr>\n",
       "    <tr>\n",
       "      <th>2</th>\n",
       "      <td>sunshine</td>\n",
       "      <td>2799</td>\n",
       "    </tr>\n",
       "    <tr>\n",
       "      <th>23</th>\n",
       "      <td>product</td>\n",
       "      <td>2106</td>\n",
       "    </tr>\n",
       "    <tr>\n",
       "      <th>...</th>\n",
       "      <td>...</td>\n",
       "      <td>...</td>\n",
       "    </tr>\n",
       "    <tr>\n",
       "      <th>950</th>\n",
       "      <td>probed</td>\n",
       "      <td>1</td>\n",
       "    </tr>\n",
       "    <tr>\n",
       "      <th>977</th>\n",
       "      <td>dustbowl</td>\n",
       "      <td>1</td>\n",
       "    </tr>\n",
       "    <tr>\n",
       "      <th>972</th>\n",
       "      <td>atacama</td>\n",
       "      <td>1</td>\n",
       "    </tr>\n",
       "    <tr>\n",
       "      <th>970</th>\n",
       "      <td>abyss</td>\n",
       "      <td>1</td>\n",
       "    </tr>\n",
       "    <tr>\n",
       "      <th>969</th>\n",
       "      <td>yukon</td>\n",
       "      <td>1</td>\n",
       "    </tr>\n",
       "  </tbody>\n",
       "</table>\n",
       "<p>109 rows × 2 columns</p>\n",
       "</div>"
      ],
      "text/plain": [
       "          token  count\n",
       "3       process   4901\n",
       "8    snakewater   3639\n",
       "15    gullywash   3627\n",
       "2      sunshine   2799\n",
       "23      product   2106\n",
       "..          ...    ...\n",
       "950      probed      1\n",
       "977    dustbowl      1\n",
       "972     atacama      1\n",
       "970       abyss      1\n",
       "969       yukon      1\n",
       "\n",
       "[109 rows x 2 columns]"
      ]
     },
     "execution_count": 4,
     "metadata": {},
     "output_type": "execute_result"
    }
   ],
   "source": [
    "df_counts_clean"
   ]
  },
  {
   "cell_type": "code",
   "execution_count": 39,
   "id": "5291d7ea",
   "metadata": {},
   "outputs": [
    {
     "data": {
      "application/vnd.microsoft.datawrangler.viewer.v0+json": {
       "columns": [
        {
         "name": "index",
         "rawType": "int64",
         "type": "integer"
        },
        {
         "name": "Unnamed: 0",
         "rawType": "int64",
         "type": "integer"
        },
        {
         "name": "id",
         "rawType": "int64",
         "type": "integer"
        },
        {
         "name": "title",
         "rawType": "object",
         "type": "string"
        },
        {
         "name": "map",
         "rawType": "object",
         "type": "unknown"
        },
        {
         "name": "date",
         "rawType": "object",
         "type": "string"
        },
        {
         "name": "views",
         "rawType": "int64",
         "type": "integer"
        },
        {
         "name": "players",
         "rawType": "float64",
         "type": "float"
        }
       ],
       "ref": "8441d080-98c1-4e0d-baac-40284cd5ae08",
       "rows": [
        [
         "17322",
         "99",
         "3879299",
         "Ñeri Fortress 2 | UGC 6v6 Match | By: BL",
         "cp_sunshine",
         "2025-06-21 05:32:22",
         "51",
         "12.0"
        ],
        [
         "17330",
         "111",
         "3879287",
         "Ñeri Fortress 2 | UGC 6v6 Match | By: va",
         "cp_sultry_b8a",
         "2025-06-21 04:45:53",
         "41",
         "12.0"
        ],
        [
         "17336",
         "122",
         "3879276",
         "Ñeri Fortress 2 | UGC 6v6 Match | By: Di",
         "cp_snakewater_final1",
         "2025-06-21 04:05:59",
         "37",
         "12.0"
        ],
        [
         "17707",
         "712",
         "3878682",
         "Ñeri Fortress 2 | UGC 6v6 Match | By: BL",
         "cp_gullywash_f9",
         "2025-06-20 05:18:44",
         "40",
         "12.0"
        ],
        [
         "19036",
         "555",
         "3876836",
         "Ñeri Fortress 2 | UGC 6v6 Match | By: BL",
         "cp_snakewater_final1",
         "2025-06-17 05:18:13",
         "42",
         "12.0"
        ],
        [
         "20379",
         "893",
         "3874496",
         "Ñeri Fortress 2 | UGC 6v6 Match | By: BL",
         "cp_sunshine",
         "2025-06-14 00:41:09",
         "67",
         "12.0"
        ],
        [
         "20387",
         "906",
         "3874483",
         "Ñeri Fortress 2 | UGC 6v6 Match | By: BL",
         "koth_bagel_rc10",
         "2025-06-14 00:24:32",
         "53",
         "12.0"
        ],
        [
         "20650",
         "344",
         "3874046",
         "Ñeri Fortress 2 | UGC 6v6 Match | By: BL",
         "cp_process_f12",
         "2025-06-13 03:32:08",
         "61",
         "12.0"
        ],
        [
         "20682",
         "381",
         "3874009",
         "Ñeri Fortress 2 | UGC 6v6 Match | By: BL",
         "cp_snakewater_final1",
         "2025-06-13 02:46:33",
         "65",
         "13.0"
        ],
        [
         "20752",
         "459",
         "3873931",
         "Ñeri Fortress 2 | UGC 6v6 Match | By: BL",
         "cp_process_f12",
         "2025-06-13 01:49:32",
         "38",
         "12.0"
        ],
        [
         "21179",
         "997",
         "3873393",
         "Ñeri Fortress 2 | UGC 6v6 Match | By: ti",
         "koth_bagel_rc10",
         "2025-06-12 02:16:46",
         "103",
         "12.0"
        ],
        [
         "21220",
         "43",
         "3873347",
         "Ñeri Fortress 2 | UGC 6v6 Match | By: T4",
         "cp_sunshine",
         "2025-06-12 01:35:49",
         "85",
         "12.0"
        ],
        [
         "21256",
         "86",
         "3873304",
         "Ñeri Fortress 2 | UGC 6v6 Match | By: BL",
         "cp_sunshine",
         "2025-06-12 00:46:56",
         "44",
         "12.0"
        ],
        [
         "21544",
         "529",
         "3872860",
         "Ñeri Fortress 2 | UGC 6v6 Match | By: wB",
         "cp_sunshine",
         "2025-06-11 05:19:36",
         "45",
         "12.0"
        ],
        [
         "21553",
         "543",
         "3872846",
         "Ñeri Fortress 2 | UGC 6v6 Match | By: BL",
         "cp_process_f12",
         "2025-06-11 04:31:40",
         "56",
         "12.0"
        ],
        [
         "21561",
         "561",
         "3872828",
         "Ñeri Fortress 2 | UGC 6v6 Match | By: BL",
         "cp_process_f12",
         "2025-06-11 03:45:50",
         "55",
         "12.0"
        ],
        [
         "22009",
         "176",
         "3872213",
         "Ñeri Fortress 2 | UGC 6v6 Match | By: BL",
         "cp_metalworks_f5",
         "2025-06-10 06:10:29",
         "58",
         "13.0"
        ],
        [
         "22018",
         "190",
         "3872199",
         "Ñeri Fortress 2 | UGC 6v6 Match | By: BL",
         "cp_process_f12",
         "2025-06-10 05:08:46",
         "41",
         "13.0"
        ],
        [
         "22146",
         "491",
         "3871898",
         "Ñeri Fortress 2 | UGC 6v6 Match | By: BL",
         "koth_product_final",
         "2025-06-10 00:21:30",
         "59",
         "12.0"
        ],
        [
         "22152",
         "501",
         "3871888",
         "Ñeri Fortress 2 | UGC 6v6 Match | By: BL",
         "koth_bagel_rc10",
         "2025-06-09 23:50:29",
         "44",
         "12.0"
        ],
        [
         "22166",
         "519",
         "3871870",
         "Ñeri Fortress 2 | UGC 6v6 Match | By: BL",
         "cp_sunshine",
         "2025-06-09 23:08:32",
         "53",
         "12.0"
        ],
        [
         "22176",
         "535",
         "3871854",
         "Ñeri Fortress 2 | UGC 6v6 Match | By: BL",
         "cp_process_f12",
         "2025-06-09 22:35:24",
         "47",
         "12.0"
        ],
        [
         "22469",
         "958",
         "3871431",
         "Ñeri Fortress 2 | UGC 6v6 Match | By: BL",
         "cp_sunshine",
         "2025-06-09 03:50:06",
         "59",
         "12.0"
        ],
        [
         "22484",
         "975",
         "3871414",
         "Ñeri Fortress 2 | UGC 6v6 Match | By: tc",
         "koth_bagel_rc10",
         "2025-06-09 03:08:47",
         "118",
         "12.0"
        ],
        [
         "22534",
         "113",
         "3871276",
         "Ñeri Fortress 2 | UGC 6v6 Match | By: BL",
         "cp_metalworks_f5",
         "2025-06-09 01:19:24",
         "84",
         "12.0"
        ],
        [
         "22545",
         "149",
         "3871240",
         "Ñeri Fortress 2 | UGC 6v6 Match | By: BL",
         "cp_snakewater_final1",
         "2025-06-09 00:28:14",
         "41",
         "12.0"
        ],
        [
         "22552",
         "162",
         "3871227",
         "Ñeri Fortress 2 | UGC 6v6 Match | By: MI",
         "cp_process_f12",
         "2025-06-08 23:50:49",
         "62",
         "12.0"
        ],
        [
         "22845",
         "608",
         "3870781",
         "Ñeri Fortress 2 | UGC 6v6 Match | By: BL",
         "cp_snakewater_final1",
         "2025-06-08 07:08:16",
         "75",
         "13.0"
        ],
        [
         "22850",
         "614",
         "3870775",
         "Ñeri Fortress 2 | UGC 6v6 Match | By: BL",
         "cp_process_f12",
         "2025-06-08 06:25:03",
         "43",
         "12.0"
        ],
        [
         "22858",
         "625",
         "3870764",
         "Ñeri Fortress 2 | UGC 6v6 Match | By: sa",
         "cp_gullywash_f9",
         "2025-06-08 05:51:23",
         "56",
         "12.0"
        ],
        [
         "22871",
         "640",
         "3870749",
         "Ñeri Fortress 2 | UGC 6v6 Match | By: BL",
         "cp_sunshine",
         "2025-06-08 05:02:37",
         "60",
         "13.0"
        ],
        [
         "22883",
         "654",
         "3870735",
         "Ñeri Fortress 2 | UGC 6v6 Match | By: BL",
         "cp_process_f12",
         "2025-06-08 04:14:15",
         "48",
         "12.0"
        ],
        [
         "22974",
         "900",
         "3870489",
         "Ñeri Fortress 2 | UGC 6v6 Match | By: BL",
         "cp_process_f12",
         "2025-06-07 22:24:16",
         "42",
         "12.0"
        ],
        [
         "23222",
         "298",
         "3870091",
         "Ñeri Fortress 2 | UGC 6v6 Match | By: BL",
         "cp_process_f12",
         "2025-06-07 06:22:28",
         "24",
         "12.0"
        ],
        [
         "23254",
         "348",
         "3870041",
         "Ñeri Fortress 2 | UGC 6v6 Match | By: BL",
         "cp_gullywash_f9",
         "2025-06-07 03:56:09",
         "29",
         "12.0"
        ],
        [
         "23281",
         "385",
         "3870004",
         "Ñeri Fortress 2 | UGC 6v6 Match | By: :x",
         "cp_process_f12",
         "2025-06-07 03:07:55",
         "48",
         "12.0"
        ],
        [
         "23304",
         "416",
         "3869973",
         "Ñeri Fortress 2 | UGC 6v6 Match | By: BB",
         "cp_snakewater_final1",
         "2025-06-07 02:19:45",
         "49",
         "12.0"
        ],
        [
         "23333",
         "468",
         "3869921",
         "Ñeri Fortress 2 | UGC 6v6 Match | By: BL",
         "cp_process_f12",
         "2025-06-07 01:30:57",
         "33",
         "12.0"
        ],
        [
         "23606",
         "915",
         "3869474",
         "Ñeri Fortress 2 | UGC 6v6 Match | By: BL",
         "cp_process_f12",
         "2025-06-06 05:17:26",
         "52",
         "12.0"
        ],
        [
         "23615",
         "928",
         "3869461",
         "Ñeri Fortress 2 | UGC 6v6 Match | By: BL",
         "koth_product_final",
         "2025-06-06 04:23:39",
         "39",
         "12.0"
        ],
        [
         "23619",
         "935",
         "3869454",
         "Ñeri Fortress 2 | UGC 6v6 Match | By: BL",
         "cp_gullywash_f9",
         "2025-06-06 03:54:43",
         "37",
         "12.0"
        ],
        [
         "23629",
         "950",
         "3869439",
         "Ñeri Fortress 2 | UGC 6v6 Match | By: BL",
         "cp_metalworks_f5",
         "2025-06-06 03:25:12",
         "33",
         "13.0"
        ],
        [
         "23657",
         "983",
         "3869405",
         "Ñeri Fortress 2 | UGC 6v6 Match | By: ca",
         "cp_sunshine",
         "2025-06-06 02:40:01",
         "39",
         "12.0"
        ],
        [
         "23734",
         "74",
         "3869314",
         "Ñeri Fortress 2 | UGC 6v6 Match | By: te",
         "cp_snakewater_final1",
         "2025-06-06 01:18:31",
         "51",
         "12.0"
        ],
        [
         "23754",
         "101",
         "3869287",
         "Ñeri Fortress 2 | UGC 6v6 Match | By: Nt",
         "koth_bagel_rc10",
         "2025-06-06 00:17:53",
         "41",
         "12.0"
        ],
        [
         "23757",
         "112",
         "3869276",
         "Ñeri Fortress 2 | UGC 6v6 Match | By: TO",
         "cp_process_f12",
         "2025-06-05 23:22:33",
         "50",
         "12.0"
        ],
        [
         "24021",
         "529",
         "3868859",
         "Ñeri Fortress 2 | UGC 6v6 Match | By: BL",
         "cp_sunshine",
         "2025-06-05 04:51:26",
         "50",
         "12.0"
        ],
        [
         "24032",
         "546",
         "3868842",
         "Ñeri Fortress 2 | UGC 6v6 Match | By: BL",
         "cp_process_f12",
         "2025-06-05 04:04:30",
         "41",
         "12.0"
        ],
        [
         "24441",
         "115",
         "3868272",
         "Ñeri Fortress 2 | UGC 6v6 Match | By: BL",
         "cp_gullywash_f9",
         "2025-06-04 04:49:33",
         "40",
         "12.0"
        ],
        [
         "24447",
         "122",
         "3868265",
         "Ñeri Fortress 2 | UGC 6v6 Match | By: BL",
         "cp_snakewater_final1",
         "2025-06-04 03:59:19",
         "53",
         "12.0"
        ]
       ],
       "shape": {
        "columns": 7,
        "rows": 32354
       }
      },
      "text/html": [
       "<div>\n",
       "<style scoped>\n",
       "    .dataframe tbody tr th:only-of-type {\n",
       "        vertical-align: middle;\n",
       "    }\n",
       "\n",
       "    .dataframe tbody tr th {\n",
       "        vertical-align: top;\n",
       "    }\n",
       "\n",
       "    .dataframe thead th {\n",
       "        text-align: right;\n",
       "    }\n",
       "</style>\n",
       "<table border=\"1\" class=\"dataframe\">\n",
       "  <thead>\n",
       "    <tr style=\"text-align: right;\">\n",
       "      <th></th>\n",
       "      <th>Unnamed: 0</th>\n",
       "      <th>id</th>\n",
       "      <th>title</th>\n",
       "      <th>map</th>\n",
       "      <th>date</th>\n",
       "      <th>views</th>\n",
       "      <th>players</th>\n",
       "    </tr>\n",
       "  </thead>\n",
       "  <tbody>\n",
       "    <tr>\n",
       "      <th>17322</th>\n",
       "      <td>99</td>\n",
       "      <td>3879299</td>\n",
       "      <td>Ñeri Fortress 2 | UGC 6v6 Match | By: BL</td>\n",
       "      <td>cp_sunshine</td>\n",
       "      <td>2025-06-21 05:32:22</td>\n",
       "      <td>51</td>\n",
       "      <td>12.0</td>\n",
       "    </tr>\n",
       "    <tr>\n",
       "      <th>17330</th>\n",
       "      <td>111</td>\n",
       "      <td>3879287</td>\n",
       "      <td>Ñeri Fortress 2 | UGC 6v6 Match | By: va</td>\n",
       "      <td>cp_sultry_b8a</td>\n",
       "      <td>2025-06-21 04:45:53</td>\n",
       "      <td>41</td>\n",
       "      <td>12.0</td>\n",
       "    </tr>\n",
       "    <tr>\n",
       "      <th>17336</th>\n",
       "      <td>122</td>\n",
       "      <td>3879276</td>\n",
       "      <td>Ñeri Fortress 2 | UGC 6v6 Match | By: Di</td>\n",
       "      <td>cp_snakewater_final1</td>\n",
       "      <td>2025-06-21 04:05:59</td>\n",
       "      <td>37</td>\n",
       "      <td>12.0</td>\n",
       "    </tr>\n",
       "    <tr>\n",
       "      <th>17707</th>\n",
       "      <td>712</td>\n",
       "      <td>3878682</td>\n",
       "      <td>Ñeri Fortress 2 | UGC 6v6 Match | By: BL</td>\n",
       "      <td>cp_gullywash_f9</td>\n",
       "      <td>2025-06-20 05:18:44</td>\n",
       "      <td>40</td>\n",
       "      <td>12.0</td>\n",
       "    </tr>\n",
       "    <tr>\n",
       "      <th>19036</th>\n",
       "      <td>555</td>\n",
       "      <td>3876836</td>\n",
       "      <td>Ñeri Fortress 2 | UGC 6v6 Match | By: BL</td>\n",
       "      <td>cp_snakewater_final1</td>\n",
       "      <td>2025-06-17 05:18:13</td>\n",
       "      <td>42</td>\n",
       "      <td>12.0</td>\n",
       "    </tr>\n",
       "    <tr>\n",
       "      <th>...</th>\n",
       "      <td>...</td>\n",
       "      <td>...</td>\n",
       "      <td>...</td>\n",
       "      <td>...</td>\n",
       "      <td>...</td>\n",
       "      <td>...</td>\n",
       "      <td>...</td>\n",
       "    </tr>\n",
       "    <tr>\n",
       "      <th>1368807</th>\n",
       "      <td>686</td>\n",
       "      <td>1488475</td>\n",
       "      <td>Clan Knightmare: RED vs BLU</td>\n",
       "      <td>cp_snakewater_u8</td>\n",
       "      <td>2016-08-08 02:55:51</td>\n",
       "      <td>144</td>\n",
       "      <td>12.0</td>\n",
       "    </tr>\n",
       "    <tr>\n",
       "      <th>1375694</th>\n",
       "      <td>904</td>\n",
       "      <td>1474207</td>\n",
       "      <td>serveme.tf - IRELAN vs RED</td>\n",
       "      <td>cp_process_final</td>\n",
       "      <td>2016-07-23 19:45:05</td>\n",
       "      <td>291</td>\n",
       "      <td>12.0</td>\n",
       "    </tr>\n",
       "    <tr>\n",
       "      <th>1381032</th>\n",
       "      <td>227</td>\n",
       "      <td>1463848</td>\n",
       "      <td>serveme.tf - LAN vs VU</td>\n",
       "      <td>cp_process_final</td>\n",
       "      <td>2016-07-12 18:48:14</td>\n",
       "      <td>86</td>\n",
       "      <td>12.0</td>\n",
       "    </tr>\n",
       "    <tr>\n",
       "      <th>1382630</th>\n",
       "      <td>134</td>\n",
       "      <td>1459934</td>\n",
       "      <td>[9~V] Clan Server: yrRED vs BLU</td>\n",
       "      <td>cp_process_final</td>\n",
       "      <td>2016-07-07 17:15:16</td>\n",
       "      <td>139</td>\n",
       "      <td>12.0</td>\n",
       "    </tr>\n",
       "    <tr>\n",
       "      <th>1382686</th>\n",
       "      <td>293</td>\n",
       "      <td>1459775</td>\n",
       "      <td>[9~V] Clan Server: RED vs BLU</td>\n",
       "      <td>cp_process_final</td>\n",
       "      <td>2016-07-07 12:59:32</td>\n",
       "      <td>132</td>\n",
       "      <td>13.0</td>\n",
       "    </tr>\n",
       "  </tbody>\n",
       "</table>\n",
       "<p>32354 rows × 7 columns</p>\n",
       "</div>"
      ],
      "text/plain": [
       "         Unnamed: 0       id                                     title  \\\n",
       "17322            99  3879299  Ñeri Fortress 2 | UGC 6v6 Match | By: BL   \n",
       "17330           111  3879287  Ñeri Fortress 2 | UGC 6v6 Match | By: va   \n",
       "17336           122  3879276  Ñeri Fortress 2 | UGC 6v6 Match | By: Di   \n",
       "17707           712  3878682  Ñeri Fortress 2 | UGC 6v6 Match | By: BL   \n",
       "19036           555  3876836  Ñeri Fortress 2 | UGC 6v6 Match | By: BL   \n",
       "...             ...      ...                                       ...   \n",
       "1368807         686  1488475               Clan Knightmare: RED vs BLU   \n",
       "1375694         904  1474207                serveme.tf - IRELAN vs RED   \n",
       "1381032         227  1463848                    serveme.tf - LAN vs VU   \n",
       "1382630         134  1459934           [9~V] Clan Server: yrRED vs BLU   \n",
       "1382686         293  1459775             [9~V] Clan Server: RED vs BLU   \n",
       "\n",
       "                          map                 date  views  players  \n",
       "17322             cp_sunshine  2025-06-21 05:32:22     51     12.0  \n",
       "17330           cp_sultry_b8a  2025-06-21 04:45:53     41     12.0  \n",
       "17336    cp_snakewater_final1  2025-06-21 04:05:59     37     12.0  \n",
       "17707         cp_gullywash_f9  2025-06-20 05:18:44     40     12.0  \n",
       "19036    cp_snakewater_final1  2025-06-17 05:18:13     42     12.0  \n",
       "...                       ...                  ...    ...      ...  \n",
       "1368807      cp_snakewater_u8  2016-08-08 02:55:51    144     12.0  \n",
       "1375694      cp_process_final  2016-07-23 19:45:05    291     12.0  \n",
       "1381032      cp_process_final  2016-07-12 18:48:14     86     12.0  \n",
       "1382630      cp_process_final  2016-07-07 17:15:16    139     12.0  \n",
       "1382686      cp_process_final  2016-07-07 12:59:32    132     13.0  \n",
       "\n",
       "[32354 rows x 7 columns]"
      ]
     },
     "execution_count": 39,
     "metadata": {},
     "output_type": "execute_result"
    }
   ],
   "source": [
    "big"
   ]
  },
  {
   "cell_type": "code",
   "execution_count": 40,
   "id": "33823cca",
   "metadata": {},
   "outputs": [],
   "source": [
    "drop_str = ['4v4','highlander']\n",
    "\n",
    "big_df = big.copy()\n",
    "\n",
    "for i,s in enumerate(drop_str):\n",
    "    if i == 0:\n",
    "        big_df = big[~big['title'].str.lower().str.contains(s)]\n",
    "    elif i != 0:\n",
    "        big_df = big_df[~big_df['title'].str.lower().str.contains(s)]\n",
    "\n"
   ]
  },
  {
   "cell_type": "code",
   "execution_count": 41,
   "id": "c01248a2",
   "metadata": {},
   "outputs": [
    {
     "data": {
      "application/vnd.microsoft.datawrangler.viewer.v0+json": {
       "columns": [
        {
         "name": "index",
         "rawType": "int64",
         "type": "integer"
        },
        {
         "name": "Unnamed: 0",
         "rawType": "int64",
         "type": "integer"
        },
        {
         "name": "id",
         "rawType": "int64",
         "type": "integer"
        },
        {
         "name": "title",
         "rawType": "object",
         "type": "string"
        },
        {
         "name": "map",
         "rawType": "object",
         "type": "unknown"
        },
        {
         "name": "date",
         "rawType": "object",
         "type": "string"
        },
        {
         "name": "views",
         "rawType": "int64",
         "type": "integer"
        },
        {
         "name": "players",
         "rawType": "float64",
         "type": "float"
        }
       ],
       "ref": "6428cf48-bfdc-47a7-bfa0-648a0e95f0d1",
       "rows": [
        [
         "17322",
         "99",
         "3879299",
         "Ñeri Fortress 2 | UGC 6v6 Match | By: BL",
         "cp_sunshine",
         "2025-06-21 05:32:22",
         "51",
         "12.0"
        ],
        [
         "17330",
         "111",
         "3879287",
         "Ñeri Fortress 2 | UGC 6v6 Match | By: va",
         "cp_sultry_b8a",
         "2025-06-21 04:45:53",
         "41",
         "12.0"
        ],
        [
         "17336",
         "122",
         "3879276",
         "Ñeri Fortress 2 | UGC 6v6 Match | By: Di",
         "cp_snakewater_final1",
         "2025-06-21 04:05:59",
         "37",
         "12.0"
        ],
        [
         "17707",
         "712",
         "3878682",
         "Ñeri Fortress 2 | UGC 6v6 Match | By: BL",
         "cp_gullywash_f9",
         "2025-06-20 05:18:44",
         "40",
         "12.0"
        ],
        [
         "19036",
         "555",
         "3876836",
         "Ñeri Fortress 2 | UGC 6v6 Match | By: BL",
         "cp_snakewater_final1",
         "2025-06-17 05:18:13",
         "42",
         "12.0"
        ],
        [
         "20379",
         "893",
         "3874496",
         "Ñeri Fortress 2 | UGC 6v6 Match | By: BL",
         "cp_sunshine",
         "2025-06-14 00:41:09",
         "67",
         "12.0"
        ],
        [
         "20387",
         "906",
         "3874483",
         "Ñeri Fortress 2 | UGC 6v6 Match | By: BL",
         "koth_bagel_rc10",
         "2025-06-14 00:24:32",
         "53",
         "12.0"
        ],
        [
         "20650",
         "344",
         "3874046",
         "Ñeri Fortress 2 | UGC 6v6 Match | By: BL",
         "cp_process_f12",
         "2025-06-13 03:32:08",
         "61",
         "12.0"
        ],
        [
         "20682",
         "381",
         "3874009",
         "Ñeri Fortress 2 | UGC 6v6 Match | By: BL",
         "cp_snakewater_final1",
         "2025-06-13 02:46:33",
         "65",
         "13.0"
        ],
        [
         "20752",
         "459",
         "3873931",
         "Ñeri Fortress 2 | UGC 6v6 Match | By: BL",
         "cp_process_f12",
         "2025-06-13 01:49:32",
         "38",
         "12.0"
        ],
        [
         "21179",
         "997",
         "3873393",
         "Ñeri Fortress 2 | UGC 6v6 Match | By: ti",
         "koth_bagel_rc10",
         "2025-06-12 02:16:46",
         "103",
         "12.0"
        ],
        [
         "21220",
         "43",
         "3873347",
         "Ñeri Fortress 2 | UGC 6v6 Match | By: T4",
         "cp_sunshine",
         "2025-06-12 01:35:49",
         "85",
         "12.0"
        ],
        [
         "21256",
         "86",
         "3873304",
         "Ñeri Fortress 2 | UGC 6v6 Match | By: BL",
         "cp_sunshine",
         "2025-06-12 00:46:56",
         "44",
         "12.0"
        ],
        [
         "21544",
         "529",
         "3872860",
         "Ñeri Fortress 2 | UGC 6v6 Match | By: wB",
         "cp_sunshine",
         "2025-06-11 05:19:36",
         "45",
         "12.0"
        ],
        [
         "21553",
         "543",
         "3872846",
         "Ñeri Fortress 2 | UGC 6v6 Match | By: BL",
         "cp_process_f12",
         "2025-06-11 04:31:40",
         "56",
         "12.0"
        ],
        [
         "21561",
         "561",
         "3872828",
         "Ñeri Fortress 2 | UGC 6v6 Match | By: BL",
         "cp_process_f12",
         "2025-06-11 03:45:50",
         "55",
         "12.0"
        ],
        [
         "22009",
         "176",
         "3872213",
         "Ñeri Fortress 2 | UGC 6v6 Match | By: BL",
         "cp_metalworks_f5",
         "2025-06-10 06:10:29",
         "58",
         "13.0"
        ],
        [
         "22018",
         "190",
         "3872199",
         "Ñeri Fortress 2 | UGC 6v6 Match | By: BL",
         "cp_process_f12",
         "2025-06-10 05:08:46",
         "41",
         "13.0"
        ],
        [
         "22146",
         "491",
         "3871898",
         "Ñeri Fortress 2 | UGC 6v6 Match | By: BL",
         "koth_product_final",
         "2025-06-10 00:21:30",
         "59",
         "12.0"
        ],
        [
         "22152",
         "501",
         "3871888",
         "Ñeri Fortress 2 | UGC 6v6 Match | By: BL",
         "koth_bagel_rc10",
         "2025-06-09 23:50:29",
         "44",
         "12.0"
        ],
        [
         "22166",
         "519",
         "3871870",
         "Ñeri Fortress 2 | UGC 6v6 Match | By: BL",
         "cp_sunshine",
         "2025-06-09 23:08:32",
         "53",
         "12.0"
        ],
        [
         "22176",
         "535",
         "3871854",
         "Ñeri Fortress 2 | UGC 6v6 Match | By: BL",
         "cp_process_f12",
         "2025-06-09 22:35:24",
         "47",
         "12.0"
        ],
        [
         "22469",
         "958",
         "3871431",
         "Ñeri Fortress 2 | UGC 6v6 Match | By: BL",
         "cp_sunshine",
         "2025-06-09 03:50:06",
         "59",
         "12.0"
        ],
        [
         "22484",
         "975",
         "3871414",
         "Ñeri Fortress 2 | UGC 6v6 Match | By: tc",
         "koth_bagel_rc10",
         "2025-06-09 03:08:47",
         "118",
         "12.0"
        ],
        [
         "22534",
         "113",
         "3871276",
         "Ñeri Fortress 2 | UGC 6v6 Match | By: BL",
         "cp_metalworks_f5",
         "2025-06-09 01:19:24",
         "84",
         "12.0"
        ],
        [
         "22545",
         "149",
         "3871240",
         "Ñeri Fortress 2 | UGC 6v6 Match | By: BL",
         "cp_snakewater_final1",
         "2025-06-09 00:28:14",
         "41",
         "12.0"
        ],
        [
         "22552",
         "162",
         "3871227",
         "Ñeri Fortress 2 | UGC 6v6 Match | By: MI",
         "cp_process_f12",
         "2025-06-08 23:50:49",
         "62",
         "12.0"
        ],
        [
         "22845",
         "608",
         "3870781",
         "Ñeri Fortress 2 | UGC 6v6 Match | By: BL",
         "cp_snakewater_final1",
         "2025-06-08 07:08:16",
         "75",
         "13.0"
        ],
        [
         "22850",
         "614",
         "3870775",
         "Ñeri Fortress 2 | UGC 6v6 Match | By: BL",
         "cp_process_f12",
         "2025-06-08 06:25:03",
         "43",
         "12.0"
        ],
        [
         "22858",
         "625",
         "3870764",
         "Ñeri Fortress 2 | UGC 6v6 Match | By: sa",
         "cp_gullywash_f9",
         "2025-06-08 05:51:23",
         "56",
         "12.0"
        ],
        [
         "22871",
         "640",
         "3870749",
         "Ñeri Fortress 2 | UGC 6v6 Match | By: BL",
         "cp_sunshine",
         "2025-06-08 05:02:37",
         "60",
         "13.0"
        ],
        [
         "22883",
         "654",
         "3870735",
         "Ñeri Fortress 2 | UGC 6v6 Match | By: BL",
         "cp_process_f12",
         "2025-06-08 04:14:15",
         "48",
         "12.0"
        ],
        [
         "22974",
         "900",
         "3870489",
         "Ñeri Fortress 2 | UGC 6v6 Match | By: BL",
         "cp_process_f12",
         "2025-06-07 22:24:16",
         "42",
         "12.0"
        ],
        [
         "23222",
         "298",
         "3870091",
         "Ñeri Fortress 2 | UGC 6v6 Match | By: BL",
         "cp_process_f12",
         "2025-06-07 06:22:28",
         "24",
         "12.0"
        ],
        [
         "23254",
         "348",
         "3870041",
         "Ñeri Fortress 2 | UGC 6v6 Match | By: BL",
         "cp_gullywash_f9",
         "2025-06-07 03:56:09",
         "29",
         "12.0"
        ],
        [
         "23281",
         "385",
         "3870004",
         "Ñeri Fortress 2 | UGC 6v6 Match | By: :x",
         "cp_process_f12",
         "2025-06-07 03:07:55",
         "48",
         "12.0"
        ],
        [
         "23304",
         "416",
         "3869973",
         "Ñeri Fortress 2 | UGC 6v6 Match | By: BB",
         "cp_snakewater_final1",
         "2025-06-07 02:19:45",
         "49",
         "12.0"
        ],
        [
         "23333",
         "468",
         "3869921",
         "Ñeri Fortress 2 | UGC 6v6 Match | By: BL",
         "cp_process_f12",
         "2025-06-07 01:30:57",
         "33",
         "12.0"
        ],
        [
         "23606",
         "915",
         "3869474",
         "Ñeri Fortress 2 | UGC 6v6 Match | By: BL",
         "cp_process_f12",
         "2025-06-06 05:17:26",
         "52",
         "12.0"
        ],
        [
         "23615",
         "928",
         "3869461",
         "Ñeri Fortress 2 | UGC 6v6 Match | By: BL",
         "koth_product_final",
         "2025-06-06 04:23:39",
         "39",
         "12.0"
        ],
        [
         "23619",
         "935",
         "3869454",
         "Ñeri Fortress 2 | UGC 6v6 Match | By: BL",
         "cp_gullywash_f9",
         "2025-06-06 03:54:43",
         "37",
         "12.0"
        ],
        [
         "23629",
         "950",
         "3869439",
         "Ñeri Fortress 2 | UGC 6v6 Match | By: BL",
         "cp_metalworks_f5",
         "2025-06-06 03:25:12",
         "33",
         "13.0"
        ],
        [
         "23657",
         "983",
         "3869405",
         "Ñeri Fortress 2 | UGC 6v6 Match | By: ca",
         "cp_sunshine",
         "2025-06-06 02:40:01",
         "39",
         "12.0"
        ],
        [
         "23734",
         "74",
         "3869314",
         "Ñeri Fortress 2 | UGC 6v6 Match | By: te",
         "cp_snakewater_final1",
         "2025-06-06 01:18:31",
         "51",
         "12.0"
        ],
        [
         "23754",
         "101",
         "3869287",
         "Ñeri Fortress 2 | UGC 6v6 Match | By: Nt",
         "koth_bagel_rc10",
         "2025-06-06 00:17:53",
         "41",
         "12.0"
        ],
        [
         "23757",
         "112",
         "3869276",
         "Ñeri Fortress 2 | UGC 6v6 Match | By: TO",
         "cp_process_f12",
         "2025-06-05 23:22:33",
         "50",
         "12.0"
        ],
        [
         "24021",
         "529",
         "3868859",
         "Ñeri Fortress 2 | UGC 6v6 Match | By: BL",
         "cp_sunshine",
         "2025-06-05 04:51:26",
         "50",
         "12.0"
        ],
        [
         "24032",
         "546",
         "3868842",
         "Ñeri Fortress 2 | UGC 6v6 Match | By: BL",
         "cp_process_f12",
         "2025-06-05 04:04:30",
         "41",
         "12.0"
        ],
        [
         "24441",
         "115",
         "3868272",
         "Ñeri Fortress 2 | UGC 6v6 Match | By: BL",
         "cp_gullywash_f9",
         "2025-06-04 04:49:33",
         "40",
         "12.0"
        ],
        [
         "24447",
         "122",
         "3868265",
         "Ñeri Fortress 2 | UGC 6v6 Match | By: BL",
         "cp_snakewater_final1",
         "2025-06-04 03:59:19",
         "53",
         "12.0"
        ]
       ],
       "shape": {
        "columns": 7,
        "rows": 27153
       }
      },
      "text/html": [
       "<div>\n",
       "<style scoped>\n",
       "    .dataframe tbody tr th:only-of-type {\n",
       "        vertical-align: middle;\n",
       "    }\n",
       "\n",
       "    .dataframe tbody tr th {\n",
       "        vertical-align: top;\n",
       "    }\n",
       "\n",
       "    .dataframe thead th {\n",
       "        text-align: right;\n",
       "    }\n",
       "</style>\n",
       "<table border=\"1\" class=\"dataframe\">\n",
       "  <thead>\n",
       "    <tr style=\"text-align: right;\">\n",
       "      <th></th>\n",
       "      <th>Unnamed: 0</th>\n",
       "      <th>id</th>\n",
       "      <th>title</th>\n",
       "      <th>map</th>\n",
       "      <th>date</th>\n",
       "      <th>views</th>\n",
       "      <th>players</th>\n",
       "    </tr>\n",
       "  </thead>\n",
       "  <tbody>\n",
       "    <tr>\n",
       "      <th>17322</th>\n",
       "      <td>99</td>\n",
       "      <td>3879299</td>\n",
       "      <td>Ñeri Fortress 2 | UGC 6v6 Match | By: BL</td>\n",
       "      <td>cp_sunshine</td>\n",
       "      <td>2025-06-21 05:32:22</td>\n",
       "      <td>51</td>\n",
       "      <td>12.0</td>\n",
       "    </tr>\n",
       "    <tr>\n",
       "      <th>17330</th>\n",
       "      <td>111</td>\n",
       "      <td>3879287</td>\n",
       "      <td>Ñeri Fortress 2 | UGC 6v6 Match | By: va</td>\n",
       "      <td>cp_sultry_b8a</td>\n",
       "      <td>2025-06-21 04:45:53</td>\n",
       "      <td>41</td>\n",
       "      <td>12.0</td>\n",
       "    </tr>\n",
       "    <tr>\n",
       "      <th>17336</th>\n",
       "      <td>122</td>\n",
       "      <td>3879276</td>\n",
       "      <td>Ñeri Fortress 2 | UGC 6v6 Match | By: Di</td>\n",
       "      <td>cp_snakewater_final1</td>\n",
       "      <td>2025-06-21 04:05:59</td>\n",
       "      <td>37</td>\n",
       "      <td>12.0</td>\n",
       "    </tr>\n",
       "    <tr>\n",
       "      <th>17707</th>\n",
       "      <td>712</td>\n",
       "      <td>3878682</td>\n",
       "      <td>Ñeri Fortress 2 | UGC 6v6 Match | By: BL</td>\n",
       "      <td>cp_gullywash_f9</td>\n",
       "      <td>2025-06-20 05:18:44</td>\n",
       "      <td>40</td>\n",
       "      <td>12.0</td>\n",
       "    </tr>\n",
       "    <tr>\n",
       "      <th>19036</th>\n",
       "      <td>555</td>\n",
       "      <td>3876836</td>\n",
       "      <td>Ñeri Fortress 2 | UGC 6v6 Match | By: BL</td>\n",
       "      <td>cp_snakewater_final1</td>\n",
       "      <td>2025-06-17 05:18:13</td>\n",
       "      <td>42</td>\n",
       "      <td>12.0</td>\n",
       "    </tr>\n",
       "    <tr>\n",
       "      <th>...</th>\n",
       "      <td>...</td>\n",
       "      <td>...</td>\n",
       "      <td>...</td>\n",
       "      <td>...</td>\n",
       "      <td>...</td>\n",
       "      <td>...</td>\n",
       "      <td>...</td>\n",
       "    </tr>\n",
       "    <tr>\n",
       "      <th>1368803</th>\n",
       "      <td>681</td>\n",
       "      <td>1488480</td>\n",
       "      <td>Clan Knightmare: RED vs BLU</td>\n",
       "      <td>cp_snakewater_u8</td>\n",
       "      <td>2016-08-08 03:28:36</td>\n",
       "      <td>264</td>\n",
       "      <td>12.0</td>\n",
       "    </tr>\n",
       "    <tr>\n",
       "      <th>1368807</th>\n",
       "      <td>686</td>\n",
       "      <td>1488475</td>\n",
       "      <td>Clan Knightmare: RED vs BLU</td>\n",
       "      <td>cp_snakewater_u8</td>\n",
       "      <td>2016-08-08 02:55:51</td>\n",
       "      <td>144</td>\n",
       "      <td>12.0</td>\n",
       "    </tr>\n",
       "    <tr>\n",
       "      <th>1375694</th>\n",
       "      <td>904</td>\n",
       "      <td>1474207</td>\n",
       "      <td>serveme.tf - IRELAN vs RED</td>\n",
       "      <td>cp_process_final</td>\n",
       "      <td>2016-07-23 19:45:05</td>\n",
       "      <td>291</td>\n",
       "      <td>12.0</td>\n",
       "    </tr>\n",
       "    <tr>\n",
       "      <th>1382630</th>\n",
       "      <td>134</td>\n",
       "      <td>1459934</td>\n",
       "      <td>[9~V] Clan Server: yrRED vs BLU</td>\n",
       "      <td>cp_process_final</td>\n",
       "      <td>2016-07-07 17:15:16</td>\n",
       "      <td>139</td>\n",
       "      <td>12.0</td>\n",
       "    </tr>\n",
       "    <tr>\n",
       "      <th>1382686</th>\n",
       "      <td>293</td>\n",
       "      <td>1459775</td>\n",
       "      <td>[9~V] Clan Server: RED vs BLU</td>\n",
       "      <td>cp_process_final</td>\n",
       "      <td>2016-07-07 12:59:32</td>\n",
       "      <td>132</td>\n",
       "      <td>13.0</td>\n",
       "    </tr>\n",
       "  </tbody>\n",
       "</table>\n",
       "<p>27153 rows × 7 columns</p>\n",
       "</div>"
      ],
      "text/plain": [
       "         Unnamed: 0       id                                     title  \\\n",
       "17322            99  3879299  Ñeri Fortress 2 | UGC 6v6 Match | By: BL   \n",
       "17330           111  3879287  Ñeri Fortress 2 | UGC 6v6 Match | By: va   \n",
       "17336           122  3879276  Ñeri Fortress 2 | UGC 6v6 Match | By: Di   \n",
       "17707           712  3878682  Ñeri Fortress 2 | UGC 6v6 Match | By: BL   \n",
       "19036           555  3876836  Ñeri Fortress 2 | UGC 6v6 Match | By: BL   \n",
       "...             ...      ...                                       ...   \n",
       "1368803         681  1488480               Clan Knightmare: RED vs BLU   \n",
       "1368807         686  1488475               Clan Knightmare: RED vs BLU   \n",
       "1375694         904  1474207                serveme.tf - IRELAN vs RED   \n",
       "1382630         134  1459934           [9~V] Clan Server: yrRED vs BLU   \n",
       "1382686         293  1459775             [9~V] Clan Server: RED vs BLU   \n",
       "\n",
       "                          map                 date  views  players  \n",
       "17322             cp_sunshine  2025-06-21 05:32:22     51     12.0  \n",
       "17330           cp_sultry_b8a  2025-06-21 04:45:53     41     12.0  \n",
       "17336    cp_snakewater_final1  2025-06-21 04:05:59     37     12.0  \n",
       "17707         cp_gullywash_f9  2025-06-20 05:18:44     40     12.0  \n",
       "19036    cp_snakewater_final1  2025-06-17 05:18:13     42     12.0  \n",
       "...                       ...                  ...    ...      ...  \n",
       "1368803      cp_snakewater_u8  2016-08-08 03:28:36    264     12.0  \n",
       "1368807      cp_snakewater_u8  2016-08-08 02:55:51    144     12.0  \n",
       "1375694      cp_process_final  2016-07-23 19:45:05    291     12.0  \n",
       "1382630      cp_process_final  2016-07-07 17:15:16    139     12.0  \n",
       "1382686      cp_process_final  2016-07-07 12:59:32    132     13.0  \n",
       "\n",
       "[27153 rows x 7 columns]"
      ]
     },
     "execution_count": 41,
     "metadata": {},
     "output_type": "execute_result"
    }
   ],
   "source": [
    "big_df.drop_duplicates()"
   ]
  },
  {
   "cell_type": "code",
   "execution_count": 42,
   "id": "ad186775",
   "metadata": {},
   "outputs": [
    {
     "data": {
      "application/vnd.microsoft.datawrangler.viewer.v0+json": {
       "columns": [
        {
         "name": "index",
         "rawType": "int64",
         "type": "integer"
        },
        {
         "name": "Unnamed: 0",
         "rawType": "int64",
         "type": "integer"
        },
        {
         "name": "id",
         "rawType": "int64",
         "type": "integer"
        },
        {
         "name": "title",
         "rawType": "object",
         "type": "string"
        },
        {
         "name": "map",
         "rawType": "object",
         "type": "unknown"
        },
        {
         "name": "date",
         "rawType": "object",
         "type": "string"
        },
        {
         "name": "views",
         "rawType": "int64",
         "type": "integer"
        },
        {
         "name": "players",
         "rawType": "float64",
         "type": "float"
        }
       ],
       "ref": "20b10f97-a90a-4171-ab3c-45765dce4c73",
       "rows": [
        [
         "17322",
         "99",
         "3879299",
         "Ñeri Fortress 2 | UGC 6v6 Match | By: BL",
         "cp_sunshine",
         "2025-06-21 05:32:22",
         "51",
         "12.0"
        ],
        [
         "17330",
         "111",
         "3879287",
         "Ñeri Fortress 2 | UGC 6v6 Match | By: va",
         "cp_sultry_b8a",
         "2025-06-21 04:45:53",
         "41",
         "12.0"
        ],
        [
         "17336",
         "122",
         "3879276",
         "Ñeri Fortress 2 | UGC 6v6 Match | By: Di",
         "cp_snakewater_final1",
         "2025-06-21 04:05:59",
         "37",
         "12.0"
        ],
        [
         "17707",
         "712",
         "3878682",
         "Ñeri Fortress 2 | UGC 6v6 Match | By: BL",
         "cp_gullywash_f9",
         "2025-06-20 05:18:44",
         "40",
         "12.0"
        ],
        [
         "19036",
         "555",
         "3876836",
         "Ñeri Fortress 2 | UGC 6v6 Match | By: BL",
         "cp_snakewater_final1",
         "2025-06-17 05:18:13",
         "42",
         "12.0"
        ],
        [
         "20379",
         "893",
         "3874496",
         "Ñeri Fortress 2 | UGC 6v6 Match | By: BL",
         "cp_sunshine",
         "2025-06-14 00:41:09",
         "67",
         "12.0"
        ],
        [
         "20387",
         "906",
         "3874483",
         "Ñeri Fortress 2 | UGC 6v6 Match | By: BL",
         "koth_bagel_rc10",
         "2025-06-14 00:24:32",
         "53",
         "12.0"
        ],
        [
         "20650",
         "344",
         "3874046",
         "Ñeri Fortress 2 | UGC 6v6 Match | By: BL",
         "cp_process_f12",
         "2025-06-13 03:32:08",
         "61",
         "12.0"
        ],
        [
         "20682",
         "381",
         "3874009",
         "Ñeri Fortress 2 | UGC 6v6 Match | By: BL",
         "cp_snakewater_final1",
         "2025-06-13 02:46:33",
         "65",
         "13.0"
        ],
        [
         "20752",
         "459",
         "3873931",
         "Ñeri Fortress 2 | UGC 6v6 Match | By: BL",
         "cp_process_f12",
         "2025-06-13 01:49:32",
         "38",
         "12.0"
        ],
        [
         "21179",
         "997",
         "3873393",
         "Ñeri Fortress 2 | UGC 6v6 Match | By: ti",
         "koth_bagel_rc10",
         "2025-06-12 02:16:46",
         "103",
         "12.0"
        ],
        [
         "21220",
         "43",
         "3873347",
         "Ñeri Fortress 2 | UGC 6v6 Match | By: T4",
         "cp_sunshine",
         "2025-06-12 01:35:49",
         "85",
         "12.0"
        ],
        [
         "21256",
         "86",
         "3873304",
         "Ñeri Fortress 2 | UGC 6v6 Match | By: BL",
         "cp_sunshine",
         "2025-06-12 00:46:56",
         "44",
         "12.0"
        ],
        [
         "21544",
         "529",
         "3872860",
         "Ñeri Fortress 2 | UGC 6v6 Match | By: wB",
         "cp_sunshine",
         "2025-06-11 05:19:36",
         "45",
         "12.0"
        ],
        [
         "21553",
         "543",
         "3872846",
         "Ñeri Fortress 2 | UGC 6v6 Match | By: BL",
         "cp_process_f12",
         "2025-06-11 04:31:40",
         "56",
         "12.0"
        ],
        [
         "21561",
         "561",
         "3872828",
         "Ñeri Fortress 2 | UGC 6v6 Match | By: BL",
         "cp_process_f12",
         "2025-06-11 03:45:50",
         "55",
         "12.0"
        ],
        [
         "22009",
         "176",
         "3872213",
         "Ñeri Fortress 2 | UGC 6v6 Match | By: BL",
         "cp_metalworks_f5",
         "2025-06-10 06:10:29",
         "58",
         "13.0"
        ],
        [
         "22018",
         "190",
         "3872199",
         "Ñeri Fortress 2 | UGC 6v6 Match | By: BL",
         "cp_process_f12",
         "2025-06-10 05:08:46",
         "41",
         "13.0"
        ],
        [
         "22146",
         "491",
         "3871898",
         "Ñeri Fortress 2 | UGC 6v6 Match | By: BL",
         "koth_product_final",
         "2025-06-10 00:21:30",
         "59",
         "12.0"
        ],
        [
         "22152",
         "501",
         "3871888",
         "Ñeri Fortress 2 | UGC 6v6 Match | By: BL",
         "koth_bagel_rc10",
         "2025-06-09 23:50:29",
         "44",
         "12.0"
        ],
        [
         "22166",
         "519",
         "3871870",
         "Ñeri Fortress 2 | UGC 6v6 Match | By: BL",
         "cp_sunshine",
         "2025-06-09 23:08:32",
         "53",
         "12.0"
        ],
        [
         "22176",
         "535",
         "3871854",
         "Ñeri Fortress 2 | UGC 6v6 Match | By: BL",
         "cp_process_f12",
         "2025-06-09 22:35:24",
         "47",
         "12.0"
        ],
        [
         "22469",
         "958",
         "3871431",
         "Ñeri Fortress 2 | UGC 6v6 Match | By: BL",
         "cp_sunshine",
         "2025-06-09 03:50:06",
         "59",
         "12.0"
        ],
        [
         "22484",
         "975",
         "3871414",
         "Ñeri Fortress 2 | UGC 6v6 Match | By: tc",
         "koth_bagel_rc10",
         "2025-06-09 03:08:47",
         "118",
         "12.0"
        ],
        [
         "22534",
         "113",
         "3871276",
         "Ñeri Fortress 2 | UGC 6v6 Match | By: BL",
         "cp_metalworks_f5",
         "2025-06-09 01:19:24",
         "84",
         "12.0"
        ],
        [
         "22545",
         "149",
         "3871240",
         "Ñeri Fortress 2 | UGC 6v6 Match | By: BL",
         "cp_snakewater_final1",
         "2025-06-09 00:28:14",
         "41",
         "12.0"
        ],
        [
         "22552",
         "162",
         "3871227",
         "Ñeri Fortress 2 | UGC 6v6 Match | By: MI",
         "cp_process_f12",
         "2025-06-08 23:50:49",
         "62",
         "12.0"
        ],
        [
         "22845",
         "608",
         "3870781",
         "Ñeri Fortress 2 | UGC 6v6 Match | By: BL",
         "cp_snakewater_final1",
         "2025-06-08 07:08:16",
         "75",
         "13.0"
        ],
        [
         "22850",
         "614",
         "3870775",
         "Ñeri Fortress 2 | UGC 6v6 Match | By: BL",
         "cp_process_f12",
         "2025-06-08 06:25:03",
         "43",
         "12.0"
        ],
        [
         "22858",
         "625",
         "3870764",
         "Ñeri Fortress 2 | UGC 6v6 Match | By: sa",
         "cp_gullywash_f9",
         "2025-06-08 05:51:23",
         "56",
         "12.0"
        ],
        [
         "22871",
         "640",
         "3870749",
         "Ñeri Fortress 2 | UGC 6v6 Match | By: BL",
         "cp_sunshine",
         "2025-06-08 05:02:37",
         "60",
         "13.0"
        ],
        [
         "22883",
         "654",
         "3870735",
         "Ñeri Fortress 2 | UGC 6v6 Match | By: BL",
         "cp_process_f12",
         "2025-06-08 04:14:15",
         "48",
         "12.0"
        ],
        [
         "22974",
         "900",
         "3870489",
         "Ñeri Fortress 2 | UGC 6v6 Match | By: BL",
         "cp_process_f12",
         "2025-06-07 22:24:16",
         "42",
         "12.0"
        ],
        [
         "23222",
         "298",
         "3870091",
         "Ñeri Fortress 2 | UGC 6v6 Match | By: BL",
         "cp_process_f12",
         "2025-06-07 06:22:28",
         "24",
         "12.0"
        ],
        [
         "23254",
         "348",
         "3870041",
         "Ñeri Fortress 2 | UGC 6v6 Match | By: BL",
         "cp_gullywash_f9",
         "2025-06-07 03:56:09",
         "29",
         "12.0"
        ],
        [
         "23281",
         "385",
         "3870004",
         "Ñeri Fortress 2 | UGC 6v6 Match | By: :x",
         "cp_process_f12",
         "2025-06-07 03:07:55",
         "48",
         "12.0"
        ],
        [
         "23304",
         "416",
         "3869973",
         "Ñeri Fortress 2 | UGC 6v6 Match | By: BB",
         "cp_snakewater_final1",
         "2025-06-07 02:19:45",
         "49",
         "12.0"
        ],
        [
         "23333",
         "468",
         "3869921",
         "Ñeri Fortress 2 | UGC 6v6 Match | By: BL",
         "cp_process_f12",
         "2025-06-07 01:30:57",
         "33",
         "12.0"
        ],
        [
         "23606",
         "915",
         "3869474",
         "Ñeri Fortress 2 | UGC 6v6 Match | By: BL",
         "cp_process_f12",
         "2025-06-06 05:17:26",
         "52",
         "12.0"
        ],
        [
         "23615",
         "928",
         "3869461",
         "Ñeri Fortress 2 | UGC 6v6 Match | By: BL",
         "koth_product_final",
         "2025-06-06 04:23:39",
         "39",
         "12.0"
        ],
        [
         "23619",
         "935",
         "3869454",
         "Ñeri Fortress 2 | UGC 6v6 Match | By: BL",
         "cp_gullywash_f9",
         "2025-06-06 03:54:43",
         "37",
         "12.0"
        ],
        [
         "23629",
         "950",
         "3869439",
         "Ñeri Fortress 2 | UGC 6v6 Match | By: BL",
         "cp_metalworks_f5",
         "2025-06-06 03:25:12",
         "33",
         "13.0"
        ],
        [
         "23657",
         "983",
         "3869405",
         "Ñeri Fortress 2 | UGC 6v6 Match | By: ca",
         "cp_sunshine",
         "2025-06-06 02:40:01",
         "39",
         "12.0"
        ],
        [
         "23734",
         "74",
         "3869314",
         "Ñeri Fortress 2 | UGC 6v6 Match | By: te",
         "cp_snakewater_final1",
         "2025-06-06 01:18:31",
         "51",
         "12.0"
        ],
        [
         "23754",
         "101",
         "3869287",
         "Ñeri Fortress 2 | UGC 6v6 Match | By: Nt",
         "koth_bagel_rc10",
         "2025-06-06 00:17:53",
         "41",
         "12.0"
        ],
        [
         "23757",
         "112",
         "3869276",
         "Ñeri Fortress 2 | UGC 6v6 Match | By: TO",
         "cp_process_f12",
         "2025-06-05 23:22:33",
         "50",
         "12.0"
        ],
        [
         "24021",
         "529",
         "3868859",
         "Ñeri Fortress 2 | UGC 6v6 Match | By: BL",
         "cp_sunshine",
         "2025-06-05 04:51:26",
         "50",
         "12.0"
        ],
        [
         "24032",
         "546",
         "3868842",
         "Ñeri Fortress 2 | UGC 6v6 Match | By: BL",
         "cp_process_f12",
         "2025-06-05 04:04:30",
         "41",
         "12.0"
        ],
        [
         "24441",
         "115",
         "3868272",
         "Ñeri Fortress 2 | UGC 6v6 Match | By: BL",
         "cp_gullywash_f9",
         "2025-06-04 04:49:33",
         "40",
         "12.0"
        ],
        [
         "24447",
         "122",
         "3868265",
         "Ñeri Fortress 2 | UGC 6v6 Match | By: BL",
         "cp_snakewater_final1",
         "2025-06-04 03:59:19",
         "53",
         "12.0"
        ]
       ],
       "shape": {
        "columns": 7,
        "rows": 27645
       }
      },
      "text/html": [
       "<div>\n",
       "<style scoped>\n",
       "    .dataframe tbody tr th:only-of-type {\n",
       "        vertical-align: middle;\n",
       "    }\n",
       "\n",
       "    .dataframe tbody tr th {\n",
       "        vertical-align: top;\n",
       "    }\n",
       "\n",
       "    .dataframe thead th {\n",
       "        text-align: right;\n",
       "    }\n",
       "</style>\n",
       "<table border=\"1\" class=\"dataframe\">\n",
       "  <thead>\n",
       "    <tr style=\"text-align: right;\">\n",
       "      <th></th>\n",
       "      <th>Unnamed: 0</th>\n",
       "      <th>id</th>\n",
       "      <th>title</th>\n",
       "      <th>map</th>\n",
       "      <th>date</th>\n",
       "      <th>views</th>\n",
       "      <th>players</th>\n",
       "    </tr>\n",
       "  </thead>\n",
       "  <tbody>\n",
       "    <tr>\n",
       "      <th>17322</th>\n",
       "      <td>99</td>\n",
       "      <td>3879299</td>\n",
       "      <td>Ñeri Fortress 2 | UGC 6v6 Match | By: BL</td>\n",
       "      <td>cp_sunshine</td>\n",
       "      <td>2025-06-21 05:32:22</td>\n",
       "      <td>51</td>\n",
       "      <td>12.0</td>\n",
       "    </tr>\n",
       "    <tr>\n",
       "      <th>17330</th>\n",
       "      <td>111</td>\n",
       "      <td>3879287</td>\n",
       "      <td>Ñeri Fortress 2 | UGC 6v6 Match | By: va</td>\n",
       "      <td>cp_sultry_b8a</td>\n",
       "      <td>2025-06-21 04:45:53</td>\n",
       "      <td>41</td>\n",
       "      <td>12.0</td>\n",
       "    </tr>\n",
       "    <tr>\n",
       "      <th>17336</th>\n",
       "      <td>122</td>\n",
       "      <td>3879276</td>\n",
       "      <td>Ñeri Fortress 2 | UGC 6v6 Match | By: Di</td>\n",
       "      <td>cp_snakewater_final1</td>\n",
       "      <td>2025-06-21 04:05:59</td>\n",
       "      <td>37</td>\n",
       "      <td>12.0</td>\n",
       "    </tr>\n",
       "    <tr>\n",
       "      <th>17707</th>\n",
       "      <td>712</td>\n",
       "      <td>3878682</td>\n",
       "      <td>Ñeri Fortress 2 | UGC 6v6 Match | By: BL</td>\n",
       "      <td>cp_gullywash_f9</td>\n",
       "      <td>2025-06-20 05:18:44</td>\n",
       "      <td>40</td>\n",
       "      <td>12.0</td>\n",
       "    </tr>\n",
       "    <tr>\n",
       "      <th>19036</th>\n",
       "      <td>555</td>\n",
       "      <td>3876836</td>\n",
       "      <td>Ñeri Fortress 2 | UGC 6v6 Match | By: BL</td>\n",
       "      <td>cp_snakewater_final1</td>\n",
       "      <td>2025-06-17 05:18:13</td>\n",
       "      <td>42</td>\n",
       "      <td>12.0</td>\n",
       "    </tr>\n",
       "    <tr>\n",
       "      <th>...</th>\n",
       "      <td>...</td>\n",
       "      <td>...</td>\n",
       "      <td>...</td>\n",
       "      <td>...</td>\n",
       "      <td>...</td>\n",
       "      <td>...</td>\n",
       "      <td>...</td>\n",
       "    </tr>\n",
       "    <tr>\n",
       "      <th>1368803</th>\n",
       "      <td>681</td>\n",
       "      <td>1488480</td>\n",
       "      <td>Clan Knightmare: RED vs BLU</td>\n",
       "      <td>cp_snakewater_u8</td>\n",
       "      <td>2016-08-08 03:28:36</td>\n",
       "      <td>264</td>\n",
       "      <td>12.0</td>\n",
       "    </tr>\n",
       "    <tr>\n",
       "      <th>1368807</th>\n",
       "      <td>686</td>\n",
       "      <td>1488475</td>\n",
       "      <td>Clan Knightmare: RED vs BLU</td>\n",
       "      <td>cp_snakewater_u8</td>\n",
       "      <td>2016-08-08 02:55:51</td>\n",
       "      <td>144</td>\n",
       "      <td>12.0</td>\n",
       "    </tr>\n",
       "    <tr>\n",
       "      <th>1375694</th>\n",
       "      <td>904</td>\n",
       "      <td>1474207</td>\n",
       "      <td>serveme.tf - IRELAN vs RED</td>\n",
       "      <td>cp_process_final</td>\n",
       "      <td>2016-07-23 19:45:05</td>\n",
       "      <td>291</td>\n",
       "      <td>12.0</td>\n",
       "    </tr>\n",
       "    <tr>\n",
       "      <th>1382630</th>\n",
       "      <td>134</td>\n",
       "      <td>1459934</td>\n",
       "      <td>[9~V] Clan Server: yrRED vs BLU</td>\n",
       "      <td>cp_process_final</td>\n",
       "      <td>2016-07-07 17:15:16</td>\n",
       "      <td>139</td>\n",
       "      <td>12.0</td>\n",
       "    </tr>\n",
       "    <tr>\n",
       "      <th>1382686</th>\n",
       "      <td>293</td>\n",
       "      <td>1459775</td>\n",
       "      <td>[9~V] Clan Server: RED vs BLU</td>\n",
       "      <td>cp_process_final</td>\n",
       "      <td>2016-07-07 12:59:32</td>\n",
       "      <td>132</td>\n",
       "      <td>13.0</td>\n",
       "    </tr>\n",
       "  </tbody>\n",
       "</table>\n",
       "<p>27645 rows × 7 columns</p>\n",
       "</div>"
      ],
      "text/plain": [
       "         Unnamed: 0       id                                     title  \\\n",
       "17322            99  3879299  Ñeri Fortress 2 | UGC 6v6 Match | By: BL   \n",
       "17330           111  3879287  Ñeri Fortress 2 | UGC 6v6 Match | By: va   \n",
       "17336           122  3879276  Ñeri Fortress 2 | UGC 6v6 Match | By: Di   \n",
       "17707           712  3878682  Ñeri Fortress 2 | UGC 6v6 Match | By: BL   \n",
       "19036           555  3876836  Ñeri Fortress 2 | UGC 6v6 Match | By: BL   \n",
       "...             ...      ...                                       ...   \n",
       "1368803         681  1488480               Clan Knightmare: RED vs BLU   \n",
       "1368807         686  1488475               Clan Knightmare: RED vs BLU   \n",
       "1375694         904  1474207                serveme.tf - IRELAN vs RED   \n",
       "1382630         134  1459934           [9~V] Clan Server: yrRED vs BLU   \n",
       "1382686         293  1459775             [9~V] Clan Server: RED vs BLU   \n",
       "\n",
       "                          map                 date  views  players  \n",
       "17322             cp_sunshine  2025-06-21 05:32:22     51     12.0  \n",
       "17330           cp_sultry_b8a  2025-06-21 04:45:53     41     12.0  \n",
       "17336    cp_snakewater_final1  2025-06-21 04:05:59     37     12.0  \n",
       "17707         cp_gullywash_f9  2025-06-20 05:18:44     40     12.0  \n",
       "19036    cp_snakewater_final1  2025-06-17 05:18:13     42     12.0  \n",
       "...                       ...                  ...    ...      ...  \n",
       "1368803      cp_snakewater_u8  2016-08-08 03:28:36    264     12.0  \n",
       "1368807      cp_snakewater_u8  2016-08-08 02:55:51    144     12.0  \n",
       "1375694      cp_process_final  2016-07-23 19:45:05    291     12.0  \n",
       "1382630      cp_process_final  2016-07-07 17:15:16    139     12.0  \n",
       "1382686      cp_process_final  2016-07-07 12:59:32    132     13.0  \n",
       "\n",
       "[27645 rows x 7 columns]"
      ]
     },
     "execution_count": 42,
     "metadata": {},
     "output_type": "execute_result"
    }
   ],
   "source": [
    "big.drop_duplicates()"
   ]
  },
  {
   "cell_type": "code",
   "execution_count": 7,
   "id": "e9b79de7",
   "metadata": {},
   "outputs": [
    {
     "data": {
      "application/vnd.microsoft.datawrangler.viewer.v0+json": {
       "columns": [
        {
         "name": "index",
         "rawType": "int64",
         "type": "integer"
        },
        {
         "name": "token",
         "rawType": "object",
         "type": "string"
        },
        {
         "name": "count",
         "rawType": "int64",
         "type": "integer"
        }
       ],
       "ref": "b8f92f3d-a922-4275-9f29-099cfe5718e6",
       "rows": [
        [
         "3",
         "vs",
         "905772"
        ],
        [
         "4",
         "RED",
         "679396"
        ],
        [
         "2",
         "BLU",
         "678513"
        ],
        [
         "280",
         "-",
         "426885"
        ],
        [
         "67",
         "serveme.tf",
         "360442"
        ],
        [
         "69",
         "TF2Center",
         "240576"
        ],
        [
         "70",
         "Lobby",
         "239375"
        ],
        [
         "5",
         "na.serveme.tf",
         "235546"
        ],
        [
         "155935",
         "Qixalite",
         "72501"
        ],
        [
         "181",
         "Bookable:",
         "65779"
        ],
        [
         "265564",
         "PugChamp",
         "56503"
        ],
        [
         "3517",
         "Open",
         "41257"
        ],
        [
         "290",
         "|",
         "37700"
        ],
        [
         "189029",
         "NA",
         "29255"
        ],
        [
         "15671",
         "EU",
         "28726"
        ],
        [
         "560",
         "Server:",
         "25881"
        ],
        [
         "199",
         "au.serveme.tf",
         "23054"
        ],
        [
         "9856",
         "#1:",
         "20360"
        ],
        [
         "155936",
         "Booking:",
         "17896"
        ],
        [
         "825",
         "6v6",
         "17542"
        ],
        [
         "246740",
         "ozfortress.com",
         "16347"
        ],
        [
         "9934",
         "UGC",
         "15608"
        ],
        [
         "11985",
         "Match:",
         "15005"
        ],
        [
         "24356",
         "#2:",
         "12151"
        ],
        [
         "85657",
         "#3:",
         "11589"
        ],
        [
         "397260",
         "Trag:",
         "11518"
        ],
        [
         "1123",
         ":",
         "11206"
        ],
        [
         "180",
         "Matcha",
         "11193"
        ],
        [
         "276162",
         "PURE",
         "10616"
        ],
        [
         "545",
         "v",
         "8980"
        ],
        [
         "64",
         "|:",
         "8896"
        ],
        [
         "11961",
         "br.tf2pickup.org",
         "8858"
        ],
        [
         "2835",
         "@",
         "8516"
        ],
        [
         "91313",
         "PUGs:",
         "8355"
        ],
        [
         "27842",
         "#2",
         "8010"
        ],
        [
         "1087",
         "PUG",
         "7510"
        ],
        [
         "2540",
         "#1",
         "7273"
        ],
        [
         "2383",
         "no",
         "6957"
        ],
        [
         "276163",
         "Mixed",
         "6919"
        ],
        [
         "91707",
         "Rhizome.tf",
         "6814"
        ],
        [
         "3624",
         "tf2pickup.pl",
         "6681"
        ],
        [
         "61",
         "Mix",
         "6430"
        ],
        [
         "4647",
         "2:",
         "6359"
        ],
        [
         "7225",
         "server:",
         "6015"
        ],
        [
         "37270",
         "Nietono",
         "5838"
        ],
        [
         "37271",
         "Shana",
         "5838"
        ],
        [
         "94",
         "tf2pickup.fi",
         "5484"
        ],
        [
         "1873",
         "the",
         "5475"
        ],
        [
         "22631",
         "#3",
         "5370"
        ],
        [
         "52753",
         "DolphiN",
         "5315"
        ]
       ],
       "shape": {
        "columns": 2,
        "rows": 618839
       }
      },
      "text/html": [
       "<div>\n",
       "<style scoped>\n",
       "    .dataframe tbody tr th:only-of-type {\n",
       "        vertical-align: middle;\n",
       "    }\n",
       "\n",
       "    .dataframe tbody tr th {\n",
       "        vertical-align: top;\n",
       "    }\n",
       "\n",
       "    .dataframe thead th {\n",
       "        text-align: right;\n",
       "    }\n",
       "</style>\n",
       "<table border=\"1\" class=\"dataframe\">\n",
       "  <thead>\n",
       "    <tr style=\"text-align: right;\">\n",
       "      <th></th>\n",
       "      <th>token</th>\n",
       "      <th>count</th>\n",
       "    </tr>\n",
       "  </thead>\n",
       "  <tbody>\n",
       "    <tr>\n",
       "      <th>3</th>\n",
       "      <td>vs</td>\n",
       "      <td>905772</td>\n",
       "    </tr>\n",
       "    <tr>\n",
       "      <th>4</th>\n",
       "      <td>RED</td>\n",
       "      <td>679396</td>\n",
       "    </tr>\n",
       "    <tr>\n",
       "      <th>2</th>\n",
       "      <td>BLU</td>\n",
       "      <td>678513</td>\n",
       "    </tr>\n",
       "    <tr>\n",
       "      <th>280</th>\n",
       "      <td>-</td>\n",
       "      <td>426885</td>\n",
       "    </tr>\n",
       "    <tr>\n",
       "      <th>67</th>\n",
       "      <td>serveme.tf</td>\n",
       "      <td>360442</td>\n",
       "    </tr>\n",
       "    <tr>\n",
       "      <th>...</th>\n",
       "      <td>...</td>\n",
       "      <td>...</td>\n",
       "    </tr>\n",
       "    <tr>\n",
       "      <th>618824</th>\n",
       "      <td>#727386</td>\n",
       "      <td>1</td>\n",
       "    </tr>\n",
       "    <tr>\n",
       "      <th>618823</th>\n",
       "      <td>Hamz</td>\n",
       "      <td>1</td>\n",
       "    </tr>\n",
       "    <tr>\n",
       "      <th>618822</th>\n",
       "      <td>+4k!</td>\n",
       "      <td>1</td>\n",
       "    </tr>\n",
       "    <tr>\n",
       "      <th>618821</th>\n",
       "      <td>kien</td>\n",
       "      <td>1</td>\n",
       "    </tr>\n",
       "    <tr>\n",
       "      <th>618818</th>\n",
       "      <td>#727400</td>\n",
       "      <td>1</td>\n",
       "    </tr>\n",
       "  </tbody>\n",
       "</table>\n",
       "<p>618839 rows × 2 columns</p>\n",
       "</div>"
      ],
      "text/plain": [
       "             token   count\n",
       "3               vs  905772\n",
       "4              RED  679396\n",
       "2              BLU  678513\n",
       "280              -  426885\n",
       "67      serveme.tf  360442\n",
       "...            ...     ...\n",
       "618824     #727386       1\n",
       "618823        Hamz       1\n",
       "618822        +4k!       1\n",
       "618821        kien       1\n",
       "618818     #727400       1\n",
       "\n",
       "[618839 rows x 2 columns]"
      ]
     },
     "execution_count": 7,
     "metadata": {},
     "output_type": "execute_result"
    }
   ],
   "source": [
    "df_counts"
   ]
  },
  {
   "cell_type": "code",
   "execution_count": 6,
   "id": "a5f7b647",
   "metadata": {},
   "outputs": [
    {
     "data": {
      "application/vnd.microsoft.datawrangler.viewer.v0+json": {
       "columns": [
        {
         "name": "index",
         "rawType": "int64",
         "type": "integer"
        },
        {
         "name": "Unnamed: 0",
         "rawType": "int64",
         "type": "integer"
        },
        {
         "name": "id",
         "rawType": "int64",
         "type": "integer"
        },
        {
         "name": "title",
         "rawType": "object",
         "type": "string"
        },
        {
         "name": "map",
         "rawType": "object",
         "type": "unknown"
        },
        {
         "name": "date",
         "rawType": "object",
         "type": "string"
        },
        {
         "name": "views",
         "rawType": "int64",
         "type": "integer"
        },
        {
         "name": "players",
         "rawType": "float64",
         "type": "float"
        }
       ],
       "ref": "ea5950e9-3354-47fa-bc49-542b2bc3b043",
       "rows": [
        [
         "1580",
         "743",
         "3905701",
         "\t RGL Invite S9 Upper Round 1 FROYO vs A",
         "cp_sunshine",
         "2025-08-03 19:11:28",
         "120",
         "12.0"
        ],
        [
         "1585",
         "753",
         "3905691",
         "RGL Invite S9 Upper Round 1 FROYO vs ANG",
         "cp_process_f11",
         "2025-08-03 19:06:15",
         "83",
         "12.0"
        ],
        [
         "2476",
         "333",
         "3904109",
         "HLG vs Infinite RGL 6s IM S18 Losers Sem",
         null,
         "2025-08-01 04:02:42",
         "40",
         "12.0"
        ],
        [
         "2478",
         "335",
         "3904107",
         "Cuake vs Mao RGL 6s IM S18 Upper Finals",
         null,
         "2025-08-01 03:55:15",
         "42",
         "12.0"
        ],
        [
         "2811",
         "866",
         "3903576",
         "rgl the crazy war",
         "gran snake gully",
         "2025-07-31 06:09:05",
         "93",
         "12.0"
        ],
        [
         "2859",
         "930",
         "3903512",
         "HLG vs boimb RGL 6s IM s18 Losers R1",
         null,
         "2025-07-31 02:48:23",
         "9",
         "12.0"
        ],
        [
         "5290",
         "236",
         "3899203",
         "RGL Match #32295: WRLD vs cl_",
         "cp_snakewater_final1",
         "2025-07-24 03:59:54",
         "107",
         "12.0"
        ],
        [
         "5300",
         "252",
         "3899187",
         "RGL Match #32295: WRLD vs cl_",
         "cp_process_f12",
         "2025-07-24 03:22:28",
         "107",
         "12.0"
        ],
        [
         "6381",
         "48",
         "3897380",
         "Legacy vs Froyo Winners R1 @RGL LAN",
         null,
         "2025-07-21 01:19:28",
         "478",
         "12.0"
        ],
        [
         "6383",
         "52",
         "3897376",
         "mama's vs GC Winners R1 @RGL LAN",
         null,
         "2025-07-21 01:17:05",
         "170",
         "12.0"
        ],
        [
         "6385",
         "60",
         "3897368",
         "Froyo vs GC Losers R1 @RGL LAN",
         null,
         "2025-07-21 01:10:44",
         "159",
         "12.0"
        ],
        [
         "6386",
         "62",
         "3897366",
         "RGL Lan Losers Finals: Legacy vs Froyo",
         null,
         "2025-07-21 01:06:56",
         "243",
         "12.0"
        ],
        [
         "6387",
         "64",
         "3897364",
         "RGL Lan Winners Finals: mama's vs Legacy",
         null,
         "2025-07-21 01:05:16",
         "224",
         "12.0"
        ],
        [
         "6388",
         "69",
         "3897359",
         "RGL Lan Grand Finals: mama's vs Legacy",
         null,
         "2025-07-21 01:02:00",
         "335",
         "12.0"
        ],
        [
         "6393",
         "83",
         "3897345",
         "RGL.gg Philly LAN 2025: mama vs LEGACY",
         "cp_metalworks_f5",
         "2025-07-21 00:53:02",
         "414",
         "12.0"
        ],
        [
         "6394",
         "86",
         "3897342",
         "RGL.gg Philly LAN 2025: BLU vs RED",
         "cp_snakewater_final1",
         "2025-07-21 01:15:22",
         "64",
         "12.0"
        ],
        [
         "6399",
         "104",
         "3897324",
         "RGL.gg Philly LAN 2025: BLU vs RED",
         "cp_sunshine",
         "2025-07-21 00:19:31",
         "56",
         "12.0"
        ],
        [
         "6404",
         "114",
         "3897314",
         "RGL.gg Philly LAN 2025: BLU vs LEGACY",
         "cp_metalworks_f5",
         "2025-07-21 00:08:23",
         "466",
         "12.0"
        ],
        [
         "6412",
         "125",
         "3897303",
         "RGL.gg Philly LAN 2025: BLU vs sdr",
         "cp_snakewater_final1",
         "2025-07-20 23:23:29",
         "37",
         "12.0"
        ],
        [
         "6416",
         "131",
         "3897297",
         "RGL.gg Philly LAN 2025: BLU vs RED",
         "cp_sultry_b8a",
         "2025-07-20 23:42:41",
         "71",
         "13.0"
        ],
        [
         "6420",
         "136",
         "3897292",
         "RGL.gg Philly LAN 2025: mama vs legacy",
         "cp_gullywash_f9",
         "2025-07-20 23:02:28",
         "391",
         "12.0"
        ],
        [
         "6424",
         "143",
         "3897285",
         "RGL.gg Philly LAN 2025: BLU vs RED",
         "cp_process_f12",
         "2025-07-20 22:39:34",
         "39",
         "12.0"
        ],
        [
         "6430",
         "150",
         "3897278",
         "RGL.gg Philly LAN 2025: BLU vs RED",
         "cp_sultry_b8a",
         "2025-07-20 22:04:25",
         "43",
         "12.0"
        ],
        [
         "6437",
         "159",
         "3897269",
         "Division 1 RGL LAN Grand Finals",
         null,
         "2025-07-20 21:34:14",
         "70",
         "12.0"
        ],
        [
         "6440",
         "163",
         "3897265",
         "RGL.gg Philly LAN 2025: mama vs LEGACY",
         "cp_sunshine",
         "2025-07-20 21:53:03",
         "353",
         "12.0"
        ],
        [
         "6445",
         "169",
         "3897259",
         "RGL.gg Philly LAN 2025: BLU vs RED",
         "cp_sunshine",
         "2025-07-20 21:45:32",
         "51",
         "12.0"
        ],
        [
         "6457",
         "184",
         "3897244",
         "RGL.gg Philly LAN 2025: BLU vs :3",
         "cp_snakewater_final1",
         "2025-07-20 21:20:34",
         "51",
         "12.0"
        ],
        [
         "6471",
         "206",
         "3897222",
         "RGL.gg Philly LAN 2025: mama vs LEGACY",
         "koth_bagel_rc11",
         "2025-07-20 20:46:03",
         "392",
         "12.0"
        ],
        [
         "6476",
         "216",
         "3897212",
         "RGL.gg Philly LAN 2025: BLU vs RED",
         "cp_snakewater_final1",
         "2025-07-20 20:39:08",
         "43",
         "12.0"
        ],
        [
         "6495",
         "245",
         "3897183",
         "RGL.gg Philly LAN 2025: BLU vs RED",
         "cp_process_f12",
         "2025-07-20 20:15:50",
         "22",
         "12.0"
        ],
        [
         "6496",
         "246",
         "3897182",
         "RGL.gg Philly LAN 2025: BLU vs sRED",
         "koth_bagel_rc11",
         "2025-07-20 23:02:00",
         "88",
         "12.0"
        ],
        [
         "6502",
         "254",
         "3897174",
         "RGL.gg Philly LAN 2025: BLU vs RED",
         "koth_bagel_rc11",
         "2025-07-20 20:17:40",
         "102",
         "12.0"
        ],
        [
         "6506",
         "265",
         "3897163",
         "RGL.gg Philly LAN 2025: BLU vs RED",
         "cp_process_f12",
         "2025-07-20 19:49:24",
         "47",
         "12.0"
        ],
        [
         "6513",
         "276",
         "3897152",
         "RGL.gg Philly LAN 2025: BLU vs 4MOM",
         "cp_sunshine",
         "2025-07-20 19:27:00",
         "83",
         "12.0"
        ],
        [
         "6526",
         "307",
         "3897121",
         "RGL Lan Open GF",
         "Snakewater, Sunshine",
         "2025-07-20 18:52:48",
         "72",
         "12.0"
        ],
        [
         "6545",
         "345",
         "3897083",
         "RGL.gg Philly LAN 2025: BLU vs Fire^",
         "cp_sunshine",
         "2025-07-20 18:45:56",
         "81",
         "12.0"
        ],
        [
         "6547",
         "347",
         "3897081",
         "RGL.gg Philly LAN 2025: BLU vs 4MOM",
         "cp_gullywash_f9",
         "2025-07-20 18:38:25",
         "77",
         "12.0"
        ],
        [
         "6555",
         "359",
         "3897069",
         "RGL.gg Philly LAN 2025: BLU vs LEGACY",
         "cp_snakewater_final1",
         "2025-07-20 18:57:06",
         "1138",
         "12.0"
        ],
        [
         "6556",
         "360",
         "3897068",
         "RGL.gg Philly LAN 2025: BLU vs RED",
         "cp_metalworks_f5",
         "2025-07-20 19:13:41",
         "184",
         "12.0"
        ],
        [
         "6560",
         "368",
         "3897060",
         "RGL.gg Philly LAN 2025: BLU vs Fire^",
         "cp_snakewater_final1",
         "2025-07-20 17:55:32",
         "112",
         "12.0"
        ],
        [
         "6566",
         "383",
         "3897045",
         "RGL.gg Philly LAN 2025: BLU vs LEGACY",
         "cp_sunshine",
         "2025-07-20 17:24:17",
         "702",
         "12.0"
        ],
        [
         "6567",
         "384",
         "3897044",
         "RGL.gg Philly LAN 2025: BLU vs RED",
         "cp_sunshine",
         "2025-07-20 17:15:15",
         "64",
         "12.0"
        ],
        [
         "6738",
         "645",
         "3896783",
         "RGL.gg Philly LAN 2025: BLU vs RED",
         "cp_sunshine",
         "2025-07-20 02:30:01",
         "84",
         "12.0"
        ],
        [
         "6748",
         "676",
         "3896752",
         "RGL.gg Philly LAN 2025: BLU vs RED",
         "cp_process_f12",
         "2025-07-20 01:52:34",
         "38",
         "12.0"
        ],
        [
         "6753",
         "697",
         "3896731",
         "RGL.gg Philly LAN 2025: BLU vs RED",
         "cp_process_f12",
         "2025-07-20 01:35:07",
         "81",
         "12.0"
        ],
        [
         "6759",
         "706",
         "3896722",
         "RGL.gg Philly LAN 2025: BLU vs RED",
         "koth_bagel_rc11",
         "2025-07-20 00:46:39",
         "65",
         "12.0"
        ],
        [
         "6760",
         "707",
         "3896721",
         "RGL.gg Philly LAN 2025: 4MOM vs Fire^",
         "cp_metalworks_f5",
         "2025-07-20 00:54:16",
         "60",
         "12.0"
        ],
        [
         "6765",
         "714",
         "3896713",
         "RGL.gg Philly LAN 2025: 4MOM vs Fire^",
         "cp_process_f12",
         "2025-07-20 00:20:36",
         "54",
         "12.0"
        ],
        [
         "6766",
         "715",
         "3896712",
         "RGL.gg Philly LAN 2025: BLU vs RED",
         "cp_sunshine",
         "2025-07-20 00:15:50",
         "42",
         "12.0"
        ],
        [
         "6772",
         "725",
         "3896701",
         "RGL.gg Philly LAN 2025: BLU vs GC",
         "cp_sultry_b8a",
         "2025-07-20 00:48:13",
         "835",
         "12.0"
        ]
       ],
       "shape": {
        "columns": 7,
        "rows": 4663
       }
      },
      "text/html": [
       "<div>\n",
       "<style scoped>\n",
       "    .dataframe tbody tr th:only-of-type {\n",
       "        vertical-align: middle;\n",
       "    }\n",
       "\n",
       "    .dataframe tbody tr th {\n",
       "        vertical-align: top;\n",
       "    }\n",
       "\n",
       "    .dataframe thead th {\n",
       "        text-align: right;\n",
       "    }\n",
       "</style>\n",
       "<table border=\"1\" class=\"dataframe\">\n",
       "  <thead>\n",
       "    <tr style=\"text-align: right;\">\n",
       "      <th></th>\n",
       "      <th>Unnamed: 0</th>\n",
       "      <th>id</th>\n",
       "      <th>title</th>\n",
       "      <th>map</th>\n",
       "      <th>date</th>\n",
       "      <th>views</th>\n",
       "      <th>players</th>\n",
       "    </tr>\n",
       "  </thead>\n",
       "  <tbody>\n",
       "    <tr>\n",
       "      <th>1580</th>\n",
       "      <td>743</td>\n",
       "      <td>3905701</td>\n",
       "      <td>\\t RGL Invite S9 Upper Round 1 FROYO vs A</td>\n",
       "      <td>cp_sunshine</td>\n",
       "      <td>2025-08-03 19:11:28</td>\n",
       "      <td>120</td>\n",
       "      <td>12.0</td>\n",
       "    </tr>\n",
       "    <tr>\n",
       "      <th>1585</th>\n",
       "      <td>753</td>\n",
       "      <td>3905691</td>\n",
       "      <td>RGL Invite S9 Upper Round 1 FROYO vs ANG</td>\n",
       "      <td>cp_process_f11</td>\n",
       "      <td>2025-08-03 19:06:15</td>\n",
       "      <td>83</td>\n",
       "      <td>12.0</td>\n",
       "    </tr>\n",
       "    <tr>\n",
       "      <th>2476</th>\n",
       "      <td>333</td>\n",
       "      <td>3904109</td>\n",
       "      <td>HLG vs Infinite RGL 6s IM S18 Losers Sem</td>\n",
       "      <td>NaN</td>\n",
       "      <td>2025-08-01 04:02:42</td>\n",
       "      <td>40</td>\n",
       "      <td>12.0</td>\n",
       "    </tr>\n",
       "    <tr>\n",
       "      <th>2478</th>\n",
       "      <td>335</td>\n",
       "      <td>3904107</td>\n",
       "      <td>Cuake vs Mao RGL 6s IM S18 Upper Finals</td>\n",
       "      <td>NaN</td>\n",
       "      <td>2025-08-01 03:55:15</td>\n",
       "      <td>42</td>\n",
       "      <td>12.0</td>\n",
       "    </tr>\n",
       "    <tr>\n",
       "      <th>2811</th>\n",
       "      <td>866</td>\n",
       "      <td>3903576</td>\n",
       "      <td>rgl the crazy war</td>\n",
       "      <td>gran snake gully</td>\n",
       "      <td>2025-07-31 06:09:05</td>\n",
       "      <td>93</td>\n",
       "      <td>12.0</td>\n",
       "    </tr>\n",
       "    <tr>\n",
       "      <th>...</th>\n",
       "      <td>...</td>\n",
       "      <td>...</td>\n",
       "      <td>...</td>\n",
       "      <td>...</td>\n",
       "      <td>...</td>\n",
       "      <td>...</td>\n",
       "      <td>...</td>\n",
       "    </tr>\n",
       "    <tr>\n",
       "      <th>1172078</th>\n",
       "      <td>734</td>\n",
       "      <td>1871754</td>\n",
       "      <td>RGL.gg Match Server: G$ vs DORA</td>\n",
       "      <td>koth_ashville_rc1</td>\n",
       "      <td>2017-11-03 02:03:04</td>\n",
       "      <td>161</td>\n",
       "      <td>13.0</td>\n",
       "    </tr>\n",
       "    <tr>\n",
       "      <th>1175988</th>\n",
       "      <td>570</td>\n",
       "      <td>1864908</td>\n",
       "      <td>RGL.gg Match Server: RED vs Gg.$</td>\n",
       "      <td>koth_product_rc8</td>\n",
       "      <td>2017-10-24 00:34:17</td>\n",
       "      <td>184</td>\n",
       "      <td>13.0</td>\n",
       "    </tr>\n",
       "    <tr>\n",
       "      <th>1214062</th>\n",
       "      <td>272</td>\n",
       "      <td>1793084</td>\n",
       "      <td>RGL.gg Match Server: WEINR vs BLU</td>\n",
       "      <td>koth_product_rc8</td>\n",
       "      <td>2017-07-30 07:18:58</td>\n",
       "      <td>169</td>\n",
       "      <td>13.0</td>\n",
       "    </tr>\n",
       "    <tr>\n",
       "      <th>1225194</th>\n",
       "      <td>589</td>\n",
       "      <td>1770729</td>\n",
       "      <td>UGC 6v6 Match: RED vs RGL.GG</td>\n",
       "      <td>cp_badlands</td>\n",
       "      <td>2017-07-06 01:11:36</td>\n",
       "      <td>121</td>\n",
       "      <td>12.0</td>\n",
       "    </tr>\n",
       "    <tr>\n",
       "      <th>1228491</th>\n",
       "      <td>42</td>\n",
       "      <td>1764254</td>\n",
       "      <td>RGL.gg Match Server: seven vs Kevin</td>\n",
       "      <td>koth_product_rc8</td>\n",
       "      <td>2017-06-29 02:19:39</td>\n",
       "      <td>135</td>\n",
       "      <td>13.0</td>\n",
       "    </tr>\n",
       "  </tbody>\n",
       "</table>\n",
       "<p>4663 rows × 7 columns</p>\n",
       "</div>"
      ],
      "text/plain": [
       "         Unnamed: 0       id                                      title  \\\n",
       "1580            743  3905701  \\t RGL Invite S9 Upper Round 1 FROYO vs A   \n",
       "1585            753  3905691   RGL Invite S9 Upper Round 1 FROYO vs ANG   \n",
       "2476            333  3904109   HLG vs Infinite RGL 6s IM S18 Losers Sem   \n",
       "2478            335  3904107    Cuake vs Mao RGL 6s IM S18 Upper Finals   \n",
       "2811            866  3903576                          rgl the crazy war   \n",
       "...             ...      ...                                        ...   \n",
       "1172078         734  1871754            RGL.gg Match Server: G$ vs DORA   \n",
       "1175988         570  1864908           RGL.gg Match Server: RED vs Gg.$   \n",
       "1214062         272  1793084          RGL.gg Match Server: WEINR vs BLU   \n",
       "1225194         589  1770729               UGC 6v6 Match: RED vs RGL.GG   \n",
       "1228491          42  1764254        RGL.gg Match Server: seven vs Kevin   \n",
       "\n",
       "                       map                 date  views  players  \n",
       "1580           cp_sunshine  2025-08-03 19:11:28    120     12.0  \n",
       "1585        cp_process_f11  2025-08-03 19:06:15     83     12.0  \n",
       "2476                   NaN  2025-08-01 04:02:42     40     12.0  \n",
       "2478                   NaN  2025-08-01 03:55:15     42     12.0  \n",
       "2811      gran snake gully  2025-07-31 06:09:05     93     12.0  \n",
       "...                    ...                  ...    ...      ...  \n",
       "1172078  koth_ashville_rc1  2017-11-03 02:03:04    161     13.0  \n",
       "1175988   koth_product_rc8  2017-10-24 00:34:17    184     13.0  \n",
       "1214062   koth_product_rc8  2017-07-30 07:18:58    169     13.0  \n",
       "1225194        cp_badlands  2017-07-06 01:11:36    121     12.0  \n",
       "1228491   koth_product_rc8  2017-06-29 02:19:39    135     13.0  \n",
       "\n",
       "[4663 rows x 7 columns]"
      ]
     },
     "execution_count": 6,
     "metadata": {},
     "output_type": "execute_result"
    }
   ],
   "source": [
    "data[data['title'].str.lower().str.contains(\"rgl\")]"
   ]
  },
  {
   "cell_type": "code",
   "execution_count": 11,
   "id": "2b50d0ad",
   "metadata": {},
   "outputs": [
    {
     "ename": "",
     "evalue": "",
     "output_type": "error",
     "traceback": [
      "\u001b[1;31mCannot execute code, session has been disposed. Please try restarting the Kernel."
     ]
    },
    {
     "ename": "",
     "evalue": "",
     "output_type": "error",
     "traceback": [
      "\u001b[1;31mCannot execute code, session has been disposed. Please try restarting the Kernel. \n",
      "\u001b[1;31mView Jupyter <a href='command:jupyter.viewOutput'>log</a> for further details."
     ]
    }
   ],
   "source": [
    "toks = data['title'].str.lower().sum()"
   ]
  },
  {
   "cell_type": "code",
   "execution_count": null,
   "id": "e8574a60",
   "metadata": {},
   "outputs": [],
   "source": [
    "toks.str.split(\" \")"
   ]
  },
  {
   "cell_type": "code",
   "execution_count": 3,
   "id": "466f0e83",
   "metadata": {},
   "outputs": [
    {
     "data": {
      "text/plain": [
       "True"
      ]
     },
     "execution_count": 3,
     "metadata": {},
     "output_type": "execute_result"
    }
   ],
   "source": [
    "\"\".lower() in \"aspdjaspdoja\""
   ]
  },
  {
   "cell_type": "markdown",
   "id": "f5d36a6e",
   "metadata": {},
   "source": [
    "* Make PIM bindable"
   ]
  },
  {
   "cell_type": "code",
   "execution_count": null,
   "id": "1e6a9dcd",
   "metadata": {},
   "outputs": [],
   "source": [
    "# read in\n",
    "players_wide = model_ready_data['players_wide']\n",
    "PIM = pd.read_csv(\"data/PIM_X.csv\")\n",
    "X = model_ready_data['X']\n",
    "\n",
    "\n",
    "### GET PLAYER CLASS NAMES TO BE STEAMID + SCOUT1 / SOLDIER2 / DEMO\n",
    "# Melt columns together to make a long dataset\n",
    "cols = ['id','team'] + [col for col in players_wide.columns if \"steamid\" in col]\n",
    "player_classes = players_wide[cols].copy()\n",
    "player_class_long = player_classes.melt(id_vars=['id', 'team'], \n",
    "                  var_name='class', \n",
    "                  value_name='steamiplayers_wided')\n",
    "\n",
    "# Make temp columns to transform \n",
    "player_class_long['class_clean'] = player_class_long['class'].str.split(\"_\").str[0]\n",
    "player_class_long['temp'] = player_class_long['class'].str.split(\"_\").str[1]\n",
    "\n",
    "# Fix up class name to be scout1 soldier2 instead of just scout soldier\n",
    "class_list = []\n",
    "for i,name in enumerate(player_class_long['class_clean']):\n",
    "    if name == 'scout' or name == 'soldier':\n",
    "        name += player_class_long.loc[i,'temp']\n",
    "    class_list.append(name)\n",
    "player_class_long['class'] = class_list\n",
    "player_class_long.drop(['class_clean','temp'],axis = 1,inplace = True)\n",
    "\n",
    "\n",
    "### MAKE PIM BINDABLE\n",
    "PIM['id'] = X['id'].values\n",
    "\n",
    "\n",
    "PIM_long = PIM.melt(\n",
    "    id_vars=['id', 'winner'],\n",
    "    var_name='class',\n",
    "    value_name='PIM'\n",
    ")\n",
    "\n",
    "# Make pim_long\n",
    "teams_pim = teams[['id','team','winner']].copy()\n",
    "PIM_long = PIM_long.merge(teams_pim,on = ['id','winner'],how = \"left\")\n",
    "PIM_long = PIM_long.merge(player_class_long,on = ['id','team','class'],how = 'left')\n",
    "PIM_long.rename(columns={\"steamiplayers_wided\":\"steamid\"},inplace = True)\n",
    "\n",
    "PIM_long.to_csv(\"data/PIM_long.csv\",index = False)"
   ]
  },
  {
   "cell_type": "markdown",
   "id": "addc213e",
   "metadata": {},
   "source": [
    "* Clean map name"
   ]
  },
  {
   "cell_type": "code",
   "execution_count": 63,
   "id": "9ade603c",
   "metadata": {},
   "outputs": [
    {
     "data": {
      "text/plain": [
       "Index(['process', 'snakewater', 'sunshine', 'gullywash', 'metalworks',\n",
       "       'product', 'clearcut', 'villa', 'bagel'],\n",
       "      dtype='object', name='map')"
      ]
     },
     "execution_count": 63,
     "metadata": {},
     "output_type": "execute_result"
    }
   ],
   "source": [
    "# Find valid map names\n",
    "info_correct = info[info['id'].isin(model_ready_data['ids'])].copy()\n",
    "maps = info_correct['map'].str.lower().str.split(\"_\")\n",
    "map_counts = pd.Series(maps.str[1].value_counts())\n",
    "\n",
    "valid_maps = map_counts[map_counts > 50]\n",
    "valid_map_names = valid_maps.index\n",
    "\n",
    "valid_map_names"
   ]
  },
  {
   "cell_type": "code",
   "execution_count": 78,
   "id": "869879a1",
   "metadata": {},
   "outputs": [],
   "source": [
    "valid_info = info[info['id'].isin(valid_ids['id'])].copy()\n",
    "\n",
    "map_names = list(valid_info['map'].str.lower().str.split(\"_\").str[1].value_counts().index)\n",
    "\n",
    "#valid_info['map'].str.lower().str.split(\"_\").str[0].value_counts()\n",
    "\n",
    "map_counts = []\n",
    "for map in info['map'].str.lower().values:\n",
    "    i = 0\n",
    "    for map_name in map_names:\n",
    "        if i > 0:\n",
    "            continue\n",
    "        if  type(map) == type(np.nan):\n",
    "            map_counts.append(np.nan)\n",
    "            i +=1\n",
    "        elif map_name in map:\n",
    "            map_counts.append(map_name)\n",
    "            i += 1\n",
    "        \n",
    "\n",
    "\n",
    "\n",
    "# Define a function to find the first match\n",
    "def find_match(text):\n",
    "    if type(text) == type(np.nan):\n",
    "        return np.nan\n",
    "    for keyword in map_names:\n",
    "        if keyword in text.lower():\n",
    "            return keyword\n",
    "    return np.nan  # if no match found\n",
    "\n",
    "# Apply the function row by row\n",
    "info['clean_map_name'] = info['map'].apply(find_match)\n",
    "valid_info['clean_map_name'] = valid_info['map'].apply(find_match)"
   ]
  },
  {
   "cell_type": "markdown",
   "id": "15c073a8",
   "metadata": {},
   "source": [
    "### Player Overview Tables ###"
   ]
  },
  {
   "cell_type": "markdown",
   "id": "c8f68e7d",
   "metadata": {},
   "source": [
    "* Basic Stats Long"
   ]
  },
  {
   "cell_type": "code",
   "execution_count": 57,
   "id": "e1dd2456",
   "metadata": {},
   "outputs": [],
   "source": [
    "normal_cols = ['kills','deaths','assists','dmg','dmg_real','dt','dt_real','hr']\n",
    "pct_cols = ['kill_pct','deaths_pct','assists_pct','dmg_pct','dmg_real_pct','dt_pct','dt_real_pct','hr_pct']\n",
    "\n",
    "both_cols = ['id','team','steamid','name','primary_class']\n",
    "\n",
    "normal_df = players[both_cols + normal_cols].copy()\n",
    "pct_df = players[both_cols + pct_cols].copy()\n",
    "\n",
    "pct_df.columns = normal_df.columns\n",
    "\n",
    "normal_df['coltype'] = \"Raw\"\n",
    "pct_df['coltype'] = \"Pct of Team\"\n",
    "\n",
    "\n",
    "long_player = pd.concat([normal_df,pct_df])\n",
    "\n",
    "long_player = long_player.fillna(0)\n",
    "\n",
    "long_player.to_csv(\"data/long_player_stats.csv\")"
   ]
  },
  {
   "cell_type": "markdown",
   "id": "9e3aeaf3",
   "metadata": {},
   "source": [
    "* Class KDA Long"
   ]
  },
  {
   "cell_type": "code",
   "execution_count": 28,
   "id": "5cebfc1e",
   "metadata": {},
   "outputs": [],
   "source": [
    "class_cols = [col for col in players.columns if \"class_kda\" in col]\n",
    "\n",
    "class_kill = [col for col in class_cols if \"kills\" in col and \"kdapd\" not in col]\n",
    "\n",
    "class_deaths= [col for col in class_cols if \"deaths\" in col and \"kdapd\" not in col]\n",
    "\n",
    "class_assists = [col for col in class_cols if \"assists\" in col and \"kdapd\" not in col]\n",
    "\n",
    "class_kill_pd = [col for col in class_cols if \"kills\" in col and \"kdapd\" in col]\n",
    "\n",
    "class_deaths_pd = [col for col in class_cols if \"deaths\" in col and \"kdapd\" in col]\n",
    "\n",
    "class_assists_pd = [col for col in class_cols if \"assists\" in col and \"kdapd\" in col]\n",
    "\n",
    "keep_cols = ['id','team','steamid','name','primary_class']\n",
    "\n",
    "\n",
    "\n",
    "class_dict = {\n",
    "    \"Kills\" : class_kill,\n",
    "    \"Deaths\" : class_deaths,\n",
    "    \"Assists\" : class_assists,\n",
    "    \"K/D\" : class_kill_pd,\n",
    "    \"A/D\" : class_assists_pd,\n",
    "    \"Death Rate\" : class_deaths_pd\n",
    "}\n",
    "\n",
    "long_class = pd.DataFrame()\n",
    "for key in class_dict.keys():\n",
    "    col_type = key\n",
    "    l = class_dict[key]\n",
    "    df = players[keep_cols + l].copy()\n",
    "    df.columns = keep_cols + [col.split(\"_\")[0] for col in df.columns if col not in keep_cols] \n",
    "    df['col_type'] = col_type\n",
    "    long_class = pd.concat([long_class,df])\n",
    "\n",
    "long_class = long_class.fillna(0)\n",
    "\n",
    "long_class.to_csv(\"data/class_kda_long.csv\")"
   ]
  },
  {
   "cell_type": "markdown",
   "id": "61bf2e27",
   "metadata": {},
   "source": [
    "* Quantile Columns"
   ]
  },
  {
   "cell_type": "code",
   "execution_count": null,
   "id": "b6293ae5",
   "metadata": {},
   "outputs": [],
   "source": [
    "# List out columns\n",
    "quant_cols = [\n",
    "    \"kills\",\n",
    "    \"assists\",\n",
    "    \"dmg\",\n",
    "   'dapm',\n",
    "   'kpd',\n",
    "   'offclass_pct',\n",
    "   'kill_pct',\n",
    "   'deaths_pct',\n",
    "   'dmg_pct',\n",
    "   'dmg_real_pct',\n",
    "   'cpc_pct',\n",
    "   'ka_pct',\n",
    "   'assists_pct',\n",
    "   'dt_pct',\n",
    "   'dt_real_pct',\n",
    "   'hroi',\n",
    "   'assistspd',\n",
    "   'demoman_kills_class_kdapd',\n",
    "   'scout_kills_class_kdapd',\n",
    "   'soldier_kills_class_kdapd',\n",
    "   'medic_kills_class_kdapd',\n",
    "    'demoman_deaths_class_kdapd',\n",
    "   'scout_deaths_class_kdapd',\n",
    "   'soldier_deaths_class_kdapd',\n",
    "    'medic_deaths_class_kdapd',\n",
    "   'dtpm',\n",
    "   'dt_realpm',\n",
    "   'healpm',\n",
    "   'medkits_hppm', \n",
    "   'hrpm', \n",
    "   'deathspm'\n",
    "\n",
    "]\n",
    "\n",
    "# Only grab valid ids to make quanitles on\n",
    "sub_players = players[players['id'].isin(valid_ids['id'])].copy()\n",
    "sub_players = sub_players[['id',\"primary_class\",'steamid']+ quant_cols]\n",
    "\n",
    "# loop through classes and construct the quantile sets\n",
    "ranked_df = pd.DataFrame()\n",
    "for class_name in sub_players['primary_class'].unique():\n",
    "    sub_class = sub_players[sub_players['primary_class'] == class_name].copy()\n",
    "    \n",
    "    binding_df = sub_class[['id',\"primary_class\",'steamid']].copy()\n",
    "    sub_class.drop(['id',\"primary_class\",'steamid'],axis = 1,inplace= True)\n",
    "    \n",
    "    sub_class = sub_class.rank(pct = True)\n",
    "    sub_class = pd.concat([binding_df,sub_class],axis = 1)\n",
    "    \n",
    "    ranked_df = pd.concat([ranked_df,sub_class])\n",
    "    \n",
    "# Rename columns\n",
    "ranked_df.columns = ['id','primary_class','steamid'] + [col + '_quantile' for \n",
    "                                                        col in ranked_df.columns if\n",
    "                                                        col not in ['id','steamid','primary_class']]\n",
    "\n",
    "ranked_df.to_csv(\"data/players_quantile.csv\")\n"
   ]
  }
 ],
 "metadata": {
  "kernelspec": {
   "display_name": "Python 3",
   "language": "python",
   "name": "python3"
  },
  "language_info": {
   "codemirror_mode": {
    "name": "ipython",
    "version": 3
   },
   "file_extension": ".py",
   "mimetype": "text/x-python",
   "name": "python",
   "nbconvert_exporter": "python",
   "pygments_lexer": "ipython3",
   "version": "3.13.3"
  }
 },
 "nbformat": 4,
 "nbformat_minor": 5
}
