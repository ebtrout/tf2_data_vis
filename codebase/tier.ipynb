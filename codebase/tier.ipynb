{
 "cells": [
  {
   "cell_type": "code",
   "execution_count": 1,
   "id": "8fdd984c",
   "metadata": {},
   "outputs": [],
   "source": [
    "import joblib\n",
    "import pandas as pd\n",
    "import numpy as np\n",
    "from tf2_data_vis.player_division.steamid import convert_steamid\n",
    "from tf2_data_vis.get_log_data.batch import join_rgl_info_batch\n",
    "import os\n",
    "\n",
    "\n",
    "players = pd.read_csv(\"../data/players.csv\")\n",
    "\n",
    "player_rounds = pd.read_csv(\"../data/player_rounds.csv\")\n",
    "\n",
    "rounds = pd.read_csv(\"../data/rounds.csv\")\n",
    "\n",
    "\n",
    "valid_ids = pd.read_csv(\"../data/valid_ids.csv\")\n",
    "\n",
    "push_stats = pd.read_csv(\"../data/push_stats.csv\")\n",
    "\n",
    "teams = pd.read_csv(\"../data/teams.csv\")\n",
    "\n",
    "healspread = pd.read_csv(\"../data/healspread.csv\")\n",
    "\n",
    "info = pd.read_csv(\"../data/info.csv\")\n",
    "\n",
    "round_events = pd.read_csv('../data/round_events.csv')\n",
    "\n",
    "koth_rounds = pd.read_csv('../data/koth_rounds.csv')\n",
    "\n",
    "\n",
    "model_ready_data = joblib.load(\"../data/pkls/model_ready_data_dict.pkl\")\n",
    "X = model_ready_data['X']\n",
    "players_wide  = model_ready_data['players_wide']\n",
    "\n",
    "\n",
    "log_ids = joblib.load(\"../data/pkls/log_id/log_id.pkl\")"
   ]
  },
  {
   "cell_type": "code",
   "execution_count": 2,
   "id": "5805e105",
   "metadata": {},
   "outputs": [],
   "source": [
    "# from tf2_data_vis.player_division.request_rgl import request_loop\n",
    "# import os\n",
    "# rgl_info = request_loop(sleep = .5,parent_dir=os.getcwd(),output_dir='data')"
   ]
  },
  {
   "cell_type": "code",
   "execution_count": 3,
   "id": "6a752b1d",
   "metadata": {},
   "outputs": [],
   "source": [
    "rgl = join_rgl_info_batch(parent_dir=os.getcwd(),output_dir='data',batch_type='rgl_info')"
   ]
  },
  {
   "cell_type": "code",
   "execution_count": 4,
   "id": "cd376e1b",
   "metadata": {},
   "outputs": [],
   "source": [
    "rgl_df = pd.concat([pd.Series(rgl['id']),pd.Series(rgl['info'])],axis = 1)\n",
    "rgl_df.columns = ['steamid','info']\n",
    "no_profile = rgl_df[rgl_df['info'] == 'No Profile']\n",
    "profile = rgl_df.drop(no_profile.index)\n",
    "\n",
    "# Grab the first JSON in each tuple\n",
    "profile['rgl_profile'] = profile['info'].apply(lambda x: x[0].json())\n",
    "profile['teams'] = profile['info'].apply(lambda x: x[1].json())"
   ]
  },
  {
   "cell_type": "code",
   "execution_count": 5,
   "id": "dad71b85",
   "metadata": {},
   "outputs": [],
   "source": [
    "team_dfs = profile['teams'].apply(pd.json_normalize)\n",
    "\n",
    "team_dfs = pd.concat([profile['steamid'],team_dfs],axis = 1)"
   ]
  },
  {
   "cell_type": "code",
   "execution_count": 6,
   "id": "9ed7716e",
   "metadata": {},
   "outputs": [],
   "source": [
    "def add_steamid(inner_df, steamid):\n",
    "    inner_df = inner_df.copy()  # avoid modifying original in-place\n",
    "    inner_df['steamid'] = steamid\n",
    "    return inner_df\n",
    "\n",
    "# Apply to the Series\n",
    "team_dfs['teams_id'] = team_dfs.apply(lambda row: add_steamid(row['teams'], row['steamid']), axis=1)\n",
    "\n",
    "team_df_list = team_dfs['teams_id'].to_list()\n",
    "\n",
    "rgl_teams = pd.concat(team_df_list)\n",
    "rgl_teams = rgl_teams[['steamid'] + [col for col in rgl_teams.columns if col != 'steamid']]\n",
    "sixes_teams = rgl_teams[rgl_teams['formatName'] == \"Sixes\"].copy()\n",
    "useful_cols = ['steamid', 'formatId', 'formatName', 'regionId', 'regionName','startedAt','leftAt','divisionId', 'divisionName',\n",
    "       'teamId']\n",
    "sixes_teams = sixes_teams[useful_cols]\n"
   ]
  },
  {
   "cell_type": "code",
   "execution_count": 7,
   "id": "bb2415ef",
   "metadata": {},
   "outputs": [],
   "source": [
    "import re\n",
    "\n",
    "# Make a copy to avoid SettingWithCopyWarning\n",
    "sixes_teams = sixes_teams.copy()\n",
    "sixes_teams['divisionName'] = sixes_teams['divisionName'].str.lower()\n",
    "\n",
    "# Replacement mapping\n",
    "from_list = ['im/am', 'am/nc', 'adv', 'division one']\n",
    "to_list = ['amateur', 'newcomer', 'advanced', 'invite']\n",
    "\n",
    "# Replace using word boundaries\n",
    "for f, t in zip(from_list, to_list):\n",
    "    pattern = r'\\b' + re.escape(f) + r'\\b'  # ensures exact match\n",
    "    sixes_teams['divisionName'] = sixes_teams['divisionName'].str.replace(pattern, t, regex=True)\n"
   ]
  },
  {
   "cell_type": "code",
   "execution_count": 8,
   "id": "0f6a0383",
   "metadata": {},
   "outputs": [],
   "source": [
    "divisions = ['amateur','main','intermediate','advanced','newcomer','invite']\n",
    "\n",
    "sixes_teams = sixes_teams[sixes_teams['divisionName'].isin(divisions)]\n"
   ]
  },
  {
   "cell_type": "code",
   "execution_count": 10,
   "id": "5d852d3a",
   "metadata": {},
   "outputs": [],
   "source": [
    "players['steamid64'] = players['steamid'].apply(convert_steamid)\n",
    "sixes_teams['steamid64'] = sixes_teams['steamid'].copy()\n",
    "sixes_teams['startedAt'] = pd.to_datetime(sixes_teams['startedAt']).dt.tz_localize(None)\n",
    "sixes_teams['leftAt'] = pd.to_datetime(sixes_teams['leftAt']).dt.tz_localize(None)\n",
    "sixes_teams['leftAt'] = sixes_teams['leftAt'].fillna(pd.Timestamp.now())\n",
    "player_teams = players.merge(sixes_teams,on = 'steamid64',how = 'inner')\n",
    "player_teams = player_teams.merge(info[['id','date']],on = 'id')\n",
    "player_teams['date'] = pd.to_datetime(player_teams['date'])\n"
   ]
  },
  {
   "cell_type": "code",
   "execution_count": 11,
   "id": "72688313",
   "metadata": {},
   "outputs": [],
   "source": [
    "player_teams['near_start'] = (player_teams['date'] - player_teams['startedAt']).dt.total_seconds().abs() / (60 * 60 * 24)\n",
    "player_teams['near_left'] = (player_teams['date'] - player_teams['leftAt']).dt.total_seconds().abs() / (60 * 60 * 24)"
   ]
  },
  {
   "cell_type": "code",
   "execution_count": 12,
   "id": "4c6d9536",
   "metadata": {},
   "outputs": [],
   "source": [
    "closest_team = player_teams.groupby(['id','steamid64']).agg(\n",
    "    near_start_idx=('near_start', 'idxmin'),\n",
    "    near_left_idx=('near_left', 'idxmin'),\n",
    "    near_start_min=('near_start', 'min'),\n",
    "    near_left_min=('near_left', 'min')\n",
    ").reset_index()\n"
   ]
  },
  {
   "cell_type": "code",
   "execution_count": 13,
   "id": "b0889dc5",
   "metadata": {},
   "outputs": [],
   "source": [
    "divisions =  player_teams.loc[closest_team['near_start_idx'],'divisionName'].copy()"
   ]
  },
  {
   "cell_type": "code",
   "execution_count": 14,
   "id": "f69950b2",
   "metadata": {},
   "outputs": [],
   "source": [
    "closest_team['division'] = divisions.values"
   ]
  },
  {
   "cell_type": "code",
   "execution_count": 16,
   "id": "bf7547c6",
   "metadata": {},
   "outputs": [],
   "source": [
    "player_divisions = players.merge(closest_team[['id','steamid64','division']],on = ['id','steamid64'],how = 'left')"
   ]
  },
  {
   "cell_type": "code",
   "execution_count": 18,
   "id": "3b48fd30",
   "metadata": {},
   "outputs": [],
   "source": [
    "player_divisions['division'] = player_divisions['division'].fillna('NA')"
   ]
  },
  {
   "cell_type": "code",
   "execution_count": 21,
   "id": "4909bf66",
   "metadata": {},
   "outputs": [],
   "source": [
    "division_weights ={\n",
    "    \"NA\":np.nan,\n",
    "    \"newcomer\":1,\n",
    "    'amateur':1.5,\n",
    "    'intermediate':2,\n",
    "    'main':3,\n",
    "    'advanced':5,\n",
    "    'invite': 10\n",
    "}\n",
    "\n",
    "player_divisions['division_weight'] = player_divisions['division'].map(division_weights)\n"
   ]
  },
  {
   "cell_type": "code",
   "execution_count": 22,
   "id": "a9071d76",
   "metadata": {},
   "outputs": [],
   "source": [
    "team_divisions = player_divisions.groupby(['id','team'])['division_weight'].mean()"
   ]
  },
  {
   "cell_type": "code",
   "execution_count": null,
   "id": "3b7577c5",
   "metadata": {},
   "outputs": [],
   "source": [
    "team_divisions = team_divisions.fillna(1).reset_index()"
   ]
  }
 ],
 "metadata": {
  "kernelspec": {
   "display_name": "Python 3",
   "language": "python",
   "name": "python3"
  },
  "language_info": {
   "codemirror_mode": {
    "name": "ipython",
    "version": 3
   },
   "file_extension": ".py",
   "mimetype": "text/x-python",
   "name": "python",
   "nbconvert_exporter": "python",
   "pygments_lexer": "ipython3",
   "version": "3.13.3"
  }
 },
 "nbformat": 4,
 "nbformat_minor": 5
}
