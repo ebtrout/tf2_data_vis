{
 "cells": [
  {
   "cell_type": "code",
   "execution_count": 39,
   "id": "8fdd984c",
   "metadata": {},
   "outputs": [],
   "source": [
    "import joblib\n",
    "import pandas as pd\n",
    "from better_profanity import profanity\n",
    "import numpy as np\n",
    "\n",
    "players = pd.read_csv(\"../data/players.csv\")\n",
    "\n",
    "player_rounds = pd.read_csv(\"../data/player_rounds.csv\")\n",
    "\n",
    "rounds = pd.read_csv(\"../data/rounds.csv\")\n",
    "\n",
    "\n",
    "valid_ids = pd.read_csv(\"../data/valid_ids.csv\")\n",
    "\n",
    "push_stats = pd.read_csv(\"../data/push_stats.csv\")\n",
    "\n",
    "teams = pd.read_csv(\"../data/teams.csv\")\n",
    "\n",
    "healspread = pd.read_csv(\"../data/healspread.csv\")\n",
    "\n",
    "info = pd.read_csv(\"../data/info.csv\")\n",
    "\n",
    "round_events = pd.read_csv('../data/round_events.csv')\n",
    "\n",
    "model_ready_data = joblib.load(\"../data/pkls/model_ready_data_dict.pkl\")\n",
    "X = model_ready_data['X']"
   ]
  },
  {
   "cell_type": "markdown",
   "id": "c803b66f",
   "metadata": {},
   "source": [
    "* Valid map names"
   ]
  },
  {
   "cell_type": "code",
   "execution_count": 2,
   "id": "fd647b41",
   "metadata": {},
   "outputs": [],
   "source": [
    "# Find valid map names\n",
    "info_correct = info[info['id'].isin(model_ready_data['ids'])].copy()\n",
    "maps = info_correct['map'].str.lower().str.split(\"_\")\n",
    "map_counts = pd.Series(maps.str[1].value_counts())\n",
    "\n",
    "\n",
    "valid_maps = map_counts[map_counts > 50]\n",
    "valid_map_names = valid_maps.index"
   ]
  },
  {
   "cell_type": "code",
   "execution_count": 3,
   "id": "0cf7a0e6",
   "metadata": {},
   "outputs": [],
   "source": [
    "valid_info = info[info['id'].isin(valid_ids['id'])].copy()\n",
    "\n",
    "map_names = list(valid_info['map'].str.lower().str.split(\"_\").str[1].value_counts().index)\n",
    "\n",
    "map_counts = []\n",
    "for map in info['map'].str.lower().values:\n",
    "    i = 0\n",
    "    for map_name in map_names:\n",
    "        if i > 0:\n",
    "            continue\n",
    "        if  type(map) == type(np.nan):\n",
    "            map_counts.append(np.nan)\n",
    "            i +=1\n",
    "        elif map_name in map:\n",
    "            map_counts.append(map_name)\n",
    "            i += 1\n",
    "        \n",
    "\n",
    "# Define a function to find the first match\n",
    "def find_match(text):\n",
    "    if type(text) == type(np.nan):\n",
    "        return np.nan\n",
    "    for keyword in map_names:\n",
    "        if keyword in text.lower():\n",
    "            return keyword\n",
    "    return np.nan  # if no match found\n",
    "\n",
    "# Apply the function row by row\n",
    "info['clean_map_name'] = info['map'].apply(find_match)\n",
    "valid_info['clean_map_name'] = valid_info['map'].apply(find_match)"
   ]
  },
  {
   "cell_type": "markdown",
   "id": "9ef54a19",
   "metadata": {},
   "source": [
    "* Koth stats"
   ]
  },
  {
   "cell_type": "code",
   "execution_count": 4,
   "id": "496b1444",
   "metadata": {},
   "outputs": [],
   "source": [
    "valid_info = info[info['id'].isin(valid_ids['id'].values)]\n",
    "koth = valid_info.copy()\n",
    "koth = valid_info[valid_info['map'].str.split(\"_\").str[0].str.contains(\"koth\")]\n",
    "koth_count = koth['map'].str.lower().str.split(\"_\")\n",
    "koth_count = pd.Series(koth_count.str[1].value_counts())\n",
    "koth_count = koth_count[koth_count > 50]\n",
    "koth_maps = koth_count.index.values\n",
    "koth_matches = info[info['clean_map_name'].isin(koth_maps)].copy()"
   ]
  },
  {
   "cell_type": "code",
   "execution_count": 5,
   "id": "6ffbc217",
   "metadata": {},
   "outputs": [],
   "source": [
    "point_caps = round_events[\n",
    "    (round_events['type'] == 'pointcap') | (round_events['type'] == 'round_win')\n",
    "].copy()\n",
    "\n",
    "match_round_list = []\n",
    "\n",
    "for i,match_id in enumerate(koth_matches['id'].unique()):\n",
    "    #if i % 100 == 0 and i != 0:\n",
    "        #print(f'{i} / {koth_matches['id'].nunique()}')\n",
    "    df = point_caps[point_caps['id'] == match_id].copy()\n",
    "\n",
    "    for round_num in df['round'].unique():\n",
    "        match_round = df[df['round'] == round_num].copy()\n",
    "\n",
    "        # Compute lag_time and time_elapsed per group (team) using shift(-1)\n",
    "        match_round['lag_time'] = match_round.groupby('team')['time'].shift(-1)\n",
    "        match_round['time_elapsed'] = match_round['lag_time'] - match_round['time']\n",
    "        match_round['time_elapsed'] = match_round['time_elapsed'].fillna(0)\n",
    "\n",
    "        # Calculate total cap time per round and team\n",
    "        cap_time_df = match_round.groupby(['round', 'team'])['time_elapsed'].sum().reset_index()\n",
    "        cap_time_df.rename(columns={'time_elapsed': 'cap_time'}, inplace=True)\n",
    "        match_round = match_round.merge(cap_time_df, on=['round', 'team'], how='left')\n",
    "\n",
    "        # Number of caps per round and team\n",
    "        num_caps = match_round[match_round['type'] == 'pointcap'].groupby(['round', 'team']).size().reset_index(name='num_caps')\n",
    "        match_round = match_round.merge(num_caps, on=['round', 'team'], how='left')\n",
    "        match_round['num_caps'] = match_round['num_caps'].fillna(0).astype(int)\n",
    "\n",
    "        # Rolling cap times per team (cumulative sum of time_elapsed per team)\n",
    "        match_round['blue_cap_time'] = match_round.apply(lambda row: row['time_elapsed'] if row['team'] == 'Blue' else 0, axis=1).cumsum()\n",
    "        match_round['red_cap_time'] = match_round.apply(lambda row: row['time_elapsed'] if row['team'] == 'Red' else 0, axis=1).cumsum()\n",
    "\n",
    "        # Winner for the round\n",
    "        winners = match_round.loc[match_round['type'] == 'round_win', 'team']\n",
    "        winner = winners.values[0] if not winners.empty else np.nan\n",
    "        match_round['winner'] = winner\n",
    "\n",
    "        # Roll condition\n",
    "        red_cap_sum = match_round['red_cap_time'].sum()\n",
    "        blue_cap_sum = match_round['blue_cap_time'].sum()\n",
    "        if red_cap_sum == 0 and winner == 'Blue':\n",
    "            match_round['roll'] = 1\n",
    "        elif blue_cap_sum == 0 and winner == 'Red':\n",
    "            match_round['roll'] = 1\n",
    "        else:\n",
    "            match_round['roll'] = 0\n",
    "\n",
    "        # Comeback condition\n",
    "        cond1 = (match_round['winner'] == 'Red') & (match_round['red_cap_time'] == 0) & (match_round['blue_cap_time'] >= 150)\n",
    "        cond2 = (match_round['winner'] == 'Blue') & (match_round['blue_cap_time'] == 0) & (match_round['red_cap_time'] >= 150)\n",
    "        if (cond1 | cond2).any():\n",
    "            match_round['comeback'] = 1\n",
    "        else:\n",
    "          match_round['comeback'] = 0\n",
    "\n",
    "        match_round_list.append(match_round)\n",
    "\n",
    "koth_stats = pd.concat(match_round_list)\n",
    "\n"
   ]
  },
  {
   "cell_type": "markdown",
   "id": "f5d36a6e",
   "metadata": {},
   "source": [
    "* Make PIM bindable"
   ]
  },
  {
   "cell_type": "markdown",
   "id": "addc213e",
   "metadata": {},
   "source": [
    "* Clean map name"
   ]
  },
  {
   "cell_type": "markdown",
   "id": "15c073a8",
   "metadata": {},
   "source": [
    "### Player Overview Tables ###"
   ]
  },
  {
   "cell_type": "markdown",
   "id": "c8f68e7d",
   "metadata": {},
   "source": [
    "* Basic Stats Long"
   ]
  },
  {
   "cell_type": "code",
   "execution_count": 28,
   "id": "e1dd2456",
   "metadata": {},
   "outputs": [],
   "source": [
    "normal_cols = ['kills','deaths','assists','dmg','dmg_real','dt','dt_real','hr']\n",
    "pct_cols = ['kill_pct','deaths_pct','assists_pct','dmg_pct','dmg_real_pct','dt_pct','dt_real_pct','hr_pct']\n",
    "\n",
    "both_cols = ['id','team','steamid','name','primary_class']\n",
    "\n",
    "normal_df = players[both_cols + normal_cols].copy()\n",
    "pct_df = players[both_cols + pct_cols].copy()\n",
    "\n",
    "pct_df.columns = normal_df.columns\n",
    "\n",
    "normal_df['coltype'] = \"Raw\"\n",
    "pct_df['coltype'] = \"Pct of Team\"\n",
    "\n",
    "\n",
    "long_player = pd.concat([normal_df,pct_df])\n",
    "\n",
    "long_player = long_player.fillna(0)\n",
    "\n",
    "long_player.to_csv(\"../data/long_player_stats.csv\")"
   ]
  },
  {
   "cell_type": "markdown",
   "id": "9e3aeaf3",
   "metadata": {},
   "source": [
    "* Class KDA Long"
   ]
  },
  {
   "cell_type": "code",
   "execution_count": 29,
   "id": "5cebfc1e",
   "metadata": {},
   "outputs": [],
   "source": [
    "class_cols = [col for col in players.columns if \"class_kda\" in col]\n",
    "\n",
    "class_kill = [col for col in class_cols if \"kills\" in col and \"kdapd\" not in col]\n",
    "\n",
    "class_deaths= [col for col in class_cols if \"deaths\" in col and \"kdapd\" not in col]\n",
    "\n",
    "class_assists = [col for col in class_cols if \"assists\" in col and \"kdapd\" not in col]\n",
    "\n",
    "class_kill_pd = [col for col in class_cols if \"kills\" in col and \"kdapd\" in col]\n",
    "\n",
    "class_deaths_pd = [col for col in class_cols if \"deaths\" in col and \"kdapd\" in col]\n",
    "\n",
    "class_assists_pd = [col for col in class_cols if \"assists\" in col and \"kdapd\" in col]\n",
    "\n",
    "keep_cols = ['id','team','steamid','name','primary_class']\n",
    "\n",
    "\n",
    "\n",
    "class_dict = {\n",
    "    \"Kills\" : class_kill,\n",
    "    \"Deaths\" : class_deaths,\n",
    "    \"Assists\" : class_assists,\n",
    "    \"K/D\" : class_kill_pd,\n",
    "    \"A/D\" : class_assists_pd,\n",
    "    \"Death Rate\" : class_deaths_pd\n",
    "}\n",
    "\n",
    "long_class = pd.DataFrame()\n",
    "for key in class_dict.keys():\n",
    "    col_type = key\n",
    "    l = class_dict[key]\n",
    "    df = players[keep_cols + l].copy()\n",
    "    df.columns = keep_cols + [col.split(\"_\")[0] for col in df.columns if col not in keep_cols] \n",
    "    df['col_type'] = col_type\n",
    "    long_class = pd.concat([long_class,df])\n",
    "\n",
    "long_class = long_class.fillna(0)\n",
    "\n",
    "long_class.to_csv(\"../data/class_kda_long.csv\")"
   ]
  },
  {
   "cell_type": "code",
   "execution_count": 90,
   "id": "fcbd8414",
   "metadata": {},
   "outputs": [],
   "source": [
    "# Lead changes\n",
    "koth_stats['blue_cap_time_lag'] = koth_stats['blue_cap_time'].shift(1).fillna(0)\n",
    "koth_stats['red_cap_time_lag'] = koth_stats['red_cap_time'].shift(1).fillna(0)\n",
    "\n",
    "\n",
    "koth_stats['leader'] = np.where(\n",
    "    koth_stats['blue_cap_time'] > koth_stats['red_cap_time'], 'Blue',\n",
    "    np.where(koth_stats['blue_cap_time'] < koth_stats['red_cap_time'], 'Red', \"\")\n",
    ")\n",
    "\n",
    "koth_stats['leader_lag'] = np.where(\n",
    "    koth_stats['blue_cap_time_lag'] > koth_stats['red_cap_time_lag'], 'Blue',\n",
    "    np.where(koth_stats['blue_cap_time_lag'] < koth_stats['red_cap_time_lag'], 'Red', \"\")\n",
    ")\n",
    "\n",
    "lead_changes_long = koth_stats[(koth_stats['leader'] != koth_stats['leader_lag'])\n",
    "            & (koth_stats['leader'] != \"\")\n",
    "              & (koth_stats['leader_lag'] != \"\")].copy()\n",
    "\n",
    "lead_changes_long['blue_lead_change'] = np.where(lead_changes_long['leader'] == 'Red',1,0)\n",
    "lead_changes_long['red_lead_change'] = np.where(lead_changes_long['leader'] == 'Blue',1,0)\n",
    "\n",
    "lead_changes = lead_changes_long.groupby(['id','round'])[['blue_lead_change','red_lead_change']].sum().reset_index()\n"
   ]
  },
  {
   "cell_type": "code",
   "execution_count": null,
   "id": "91d0f14e",
   "metadata": {},
   "outputs": [
    {
     "ename": "NameError",
     "evalue": "name 'left' is not defined",
     "output_type": "error",
     "traceback": [
      "\u001b[31m---------------------------------------------------------------------------\u001b[39m",
      "\u001b[31mNameError\u001b[39m                                 Traceback (most recent call last)",
      "\u001b[36mCell\u001b[39m\u001b[36m \u001b[39m\u001b[32mIn[93]\u001b[39m\u001b[32m, line 12\u001b[39m\n\u001b[32m     10\u001b[39m koth_rounds = pd.concat([comeback,roll,num_caps],axis =\u001b[32m1\u001b[39m)\n\u001b[32m     11\u001b[39m koth_rounds = koth_rounds.merge(rounds[[\u001b[33m'\u001b[39m\u001b[33mid\u001b[39m\u001b[33m'\u001b[39m,\u001b[33m'\u001b[39m\u001b[33mround\u001b[39m\u001b[33m'\u001b[39m,\u001b[33m'\u001b[39m\u001b[33mfirstcap\u001b[39m\u001b[33m'\u001b[39m,\u001b[33m'\u001b[39m\u001b[33mlength\u001b[39m\u001b[33m'\u001b[39m,\u001b[33m'\u001b[39m\u001b[33mwinner\u001b[39m\u001b[33m'\u001b[39m]],on = [\u001b[33m'\u001b[39m\u001b[33mid\u001b[39m\u001b[33m'\u001b[39m,\u001b[33m'\u001b[39m\u001b[33mround\u001b[39m\u001b[33m'\u001b[39m])\n\u001b[32m---> \u001b[39m\u001b[32m12\u001b[39m koth_rounds = koth_rounds.merge(lead_changes,on = [\u001b[33m'\u001b[39m\u001b[33mid\u001b[39m\u001b[33m'\u001b[39m,\u001b[33m'\u001b[39m\u001b[33mround\u001b[39m\u001b[33m'\u001b[39m],how = \u001b[43mleft\u001b[49m)\n",
      "\u001b[31mNameError\u001b[39m: name 'left' is not defined"
     ]
    }
   ],
   "source": [
    "koth_group = koth_stats.groupby(['id','round'])\n",
    "\n",
    "comeback = koth_group.first()['comeback'].reset_index()\n",
    "\n",
    "roll = koth_group.first()['roll'].reset_index().drop(['id','round'],axis = 1)\n",
    "\n",
    "num_caps = koth_group.first()['num_caps'].reset_index().drop(['id','round'],axis = 1)\n",
    "\n",
    "\n",
    "koth_rounds = pd.concat([comeback,roll,num_caps],axis =1)\n",
    "koth_rounds = koth_rounds.merge(rounds[['id','round','firstcap','length','winner']],on = ['id','round'])\n",
    "koth_rounds = koth_rounds.merge(lead_changes,on = ['id','round'],how = 'left')"
   ]
  },
  {
   "cell_type": "code",
   "execution_count": 92,
   "id": "a8804f60",
   "metadata": {},
   "outputs": [
    {
     "data": {
      "application/vnd.microsoft.datawrangler.viewer.v0+json": {
       "columns": [
        {
         "name": "index",
         "rawType": "int64",
         "type": "integer"
        },
        {
         "name": "id",
         "rawType": "int64",
         "type": "integer"
        },
        {
         "name": "round",
         "rawType": "int64",
         "type": "integer"
        },
        {
         "name": "comeback",
         "rawType": "int64",
         "type": "integer"
        },
        {
         "name": "roll",
         "rawType": "int64",
         "type": "integer"
        },
        {
         "name": "num_caps",
         "rawType": "int64",
         "type": "integer"
        },
        {
         "name": "firstcap",
         "rawType": "object",
         "type": "string"
        },
        {
         "name": "length",
         "rawType": "int64",
         "type": "integer"
        },
        {
         "name": "winner",
         "rawType": "object",
         "type": "string"
        },
        {
         "name": "blue_lead_change",
         "rawType": "int64",
         "type": "integer"
        },
        {
         "name": "red_lead_change",
         "rawType": "int64",
         "type": "integer"
        }
       ],
       "ref": "857f38f1-35da-4698-8336-c6d498a191b4",
       "rows": [
        [
         "0",
         "1460897",
         "1",
         "0",
         "0",
         "4",
         "Red",
         "363",
         "Red",
         "3",
         "2"
        ],
        [
         "1",
         "1460897",
         "2",
         "0",
         "0",
         "3",
         "Red",
         "361",
         "Red",
         "1",
         "1"
        ],
        [
         "2",
         "1460897",
         "3",
         "0",
         "1",
         "2",
         "Blue",
         "267",
         "Blue",
         "0",
         "1"
        ],
        [
         "3",
         "1466571",
         "0",
         "0",
         "1",
         "2",
         "Blue",
         "229",
         "Blue",
         "0",
         "1"
        ],
        [
         "4",
         "1466571",
         "2",
         "0",
         "0",
         "3",
         "Red",
         "296",
         "Blue",
         "1",
         "1"
        ],
        [
         "5",
         "1467241",
         "1",
         "0",
         "0",
         "3",
         "Red",
         "263",
         "Red",
         "1",
         "1"
        ],
        [
         "6",
         "1472420",
         "0",
         "1",
         "0",
         "2",
         "Blue",
         "302",
         "Red",
         "1",
         "1"
        ],
        [
         "7",
         "1472420",
         "2",
         "0",
         "0",
         "4",
         "Blue",
         "371",
         "Blue",
         "2",
         "3"
        ],
        [
         "8",
         "1472420",
         "3",
         "1",
         "0",
         "2",
         "Blue",
         "286",
         "Red",
         "1",
         "0"
        ],
        [
         "9",
         "1475259",
         "0",
         "0",
         "1",
         "1",
         "Red",
         "225",
         "Red",
         "1",
         "0"
        ],
        [
         "10",
         "1475259",
         "1",
         "0",
         "0",
         "3",
         "Blue",
         "337",
         "Red",
         "1",
         "1"
        ],
        [
         "11",
         "1477674",
         "0",
         "0",
         "0",
         "3",
         "Blue",
         "340",
         "Blue",
         "1",
         "1"
        ],
        [
         "12",
         "1477674",
         "2",
         "0",
         "0",
         "2",
         "Blue",
         "368",
         "Red",
         "1",
         "0"
        ],
        [
         "13",
         "1477674",
         "3",
         "0",
         "0",
         "5",
         "Blue",
         "360",
         "Blue",
         "2",
         "3"
        ],
        [
         "14",
         "1477674",
         "4",
         "0",
         "1",
         "2",
         "Red",
         "367",
         "Red",
         "1",
         "0"
        ],
        [
         "15",
         "1477674",
         "5",
         "0",
         "1",
         "2",
         "Blue",
         "105",
         "Blue",
         "0",
         "1"
        ],
        [
         "16",
         "1479403",
         "0",
         "0",
         "0",
         "3",
         "Blue",
         "324",
         "Blue",
         "1",
         "1"
        ],
        [
         "17",
         "1479403",
         "1",
         "0",
         "0",
         "3",
         "Blue",
         "253",
         "Blue",
         "1",
         "1"
        ],
        [
         "18",
         "1479403",
         "2",
         "0",
         "0",
         "2",
         "Red",
         "387",
         "Blue",
         "1",
         "1"
        ],
        [
         "19",
         "1481128",
         "2",
         "0",
         "0",
         "5",
         "Red",
         "401",
         "Blue",
         "2",
         "2"
        ],
        [
         "20",
         "1481128",
         "3",
         "1",
         "0",
         "2",
         "Blue",
         "545",
         "Red",
         "1",
         "1"
        ],
        [
         "21",
         "1481128",
         "4",
         "0",
         "0",
         "4",
         "Red",
         "387",
         "Red",
         "2",
         "2"
        ],
        [
         "22",
         "1484066",
         "0",
         "1",
         "0",
         "3",
         "Blue",
         "412",
         "Red",
         "2",
         "2"
        ],
        [
         "23",
         "1484066",
         "1",
         "0",
         "0",
         "5",
         "Red",
         "412",
         "Blue",
         "0",
         "1"
        ],
        [
         "24",
         "1484066",
         "2",
         "0",
         "0",
         "4",
         "Blue",
         "401",
         "Blue",
         "1",
         "1"
        ],
        [
         "25",
         "1484066",
         "3",
         "0",
         "0",
         "4",
         "Red",
         "401",
         "Red",
         "1",
         "0"
        ],
        [
         "26",
         "1484922",
         "0",
         "0",
         "0",
         "4",
         "Red",
         "336",
         "Red",
         "1",
         "1"
        ],
        [
         "27",
         "1484922",
         "2",
         "0",
         "0",
         "3",
         "Blue",
         "297",
         "Red",
         "1",
         "1"
        ],
        [
         "28",
         "1485795",
         "2",
         "0",
         "0",
         "3",
         "Red",
         "311",
         "Red",
         "2",
         "1"
        ],
        [
         "29",
         "1485811",
         "0",
         "1",
         "0",
         "2",
         "Red",
         "364",
         "Blue",
         "1",
         "0"
        ],
        [
         "30",
         "1485811",
         "1",
         "0",
         "0",
         "3",
         "Blue",
         "437",
         "Blue",
         "1",
         "2"
        ],
        [
         "31",
         "1485811",
         "2",
         "0",
         "0",
         "3",
         "Red",
         "405",
         "Red",
         "1",
         "0"
        ],
        [
         "32",
         "1485811",
         "3",
         "0",
         "0",
         "3",
         "Blue",
         "409",
         "Red",
         "2",
         "2"
        ],
        [
         "33",
         "1485811",
         "4",
         "0",
         "0",
         "2",
         "Red",
         "473",
         "Blue",
         "0",
         "1"
        ],
        [
         "34",
         "1486556",
         "0",
         "0",
         "1",
         "1",
         "Blue",
         "333",
         "Blue",
         "0",
         "1"
        ],
        [
         "35",
         "1486562",
         "0",
         "0",
         "0",
         "3",
         "Red",
         "366",
         "Red",
         "1",
         "0"
        ],
        [
         "36",
         "1486562",
         "2",
         "0",
         "1",
         "2",
         "Blue",
         "291",
         "Blue",
         "0",
         "1"
        ],
        [
         "37",
         "1486562",
         "3",
         "0",
         "1",
         "1",
         "Red",
         "217",
         "Red",
         "1",
         "0"
        ],
        [
         "38",
         "1486604",
         "0",
         "0",
         "0",
         "3",
         "Blue",
         "281",
         "Blue",
         "1",
         "2"
        ],
        [
         "39",
         "1487484",
         "0",
         "1",
         "0",
         "2",
         "Red",
         "353",
         "Blue",
         "0",
         "1"
        ],
        [
         "40",
         "1487484",
         "2",
         "1",
         "0",
         "3",
         "Blue",
         "433",
         "Red",
         "1",
         "1"
        ],
        [
         "41",
         "1487484",
         "3",
         "0",
         "0",
         "4",
         "Red",
         "569",
         "Blue",
         "2",
         "1"
        ],
        [
         "42",
         "1487508",
         "0",
         "0",
         "0",
         "2",
         "Blue",
         "288",
         "Red",
         "1",
         "0"
        ],
        [
         "43",
         "1487508",
         "1",
         "0",
         "0",
         "2",
         "Red",
         "438",
         "Blue",
         "0",
         "1"
        ],
        [
         "44",
         "1487508",
         "2",
         "0",
         "0",
         "4",
         "Blue",
         "464",
         "Blue",
         "2",
         "2"
        ],
        [
         "45",
         "1487508",
         "3",
         "0",
         "0",
         "4",
         "Red",
         "411",
         "Red",
         "1",
         "0"
        ],
        [
         "46",
         "1488326",
         "0",
         "0",
         "0",
         "4",
         "Blue",
         "365",
         "Blue",
         "0",
         "1"
        ],
        [
         "47",
         "1488326",
         "3",
         "0",
         "0",
         "3",
         "Blue",
         "357",
         "Blue",
         "1",
         "1"
        ],
        [
         "48",
         "1488353",
         "1",
         "0",
         "0",
         "4",
         "Blue",
         "401",
         "Blue",
         "1",
         "1"
        ],
        [
         "49",
         "1488353",
         "2",
         "0",
         "1",
         "2",
         "Red",
         "273",
         "Red",
         "1",
         "0"
        ]
       ],
       "shape": {
        "columns": 10,
        "rows": 7511
       }
      },
      "text/html": [
       "<div>\n",
       "<style scoped>\n",
       "    .dataframe tbody tr th:only-of-type {\n",
       "        vertical-align: middle;\n",
       "    }\n",
       "\n",
       "    .dataframe tbody tr th {\n",
       "        vertical-align: top;\n",
       "    }\n",
       "\n",
       "    .dataframe thead th {\n",
       "        text-align: right;\n",
       "    }\n",
       "</style>\n",
       "<table border=\"1\" class=\"dataframe\">\n",
       "  <thead>\n",
       "    <tr style=\"text-align: right;\">\n",
       "      <th></th>\n",
       "      <th>id</th>\n",
       "      <th>round</th>\n",
       "      <th>comeback</th>\n",
       "      <th>roll</th>\n",
       "      <th>num_caps</th>\n",
       "      <th>firstcap</th>\n",
       "      <th>length</th>\n",
       "      <th>winner</th>\n",
       "      <th>blue_lead_change</th>\n",
       "      <th>red_lead_change</th>\n",
       "    </tr>\n",
       "  </thead>\n",
       "  <tbody>\n",
       "    <tr>\n",
       "      <th>0</th>\n",
       "      <td>1460897</td>\n",
       "      <td>1</td>\n",
       "      <td>0</td>\n",
       "      <td>0</td>\n",
       "      <td>4</td>\n",
       "      <td>Red</td>\n",
       "      <td>363</td>\n",
       "      <td>Red</td>\n",
       "      <td>3</td>\n",
       "      <td>2</td>\n",
       "    </tr>\n",
       "    <tr>\n",
       "      <th>1</th>\n",
       "      <td>1460897</td>\n",
       "      <td>2</td>\n",
       "      <td>0</td>\n",
       "      <td>0</td>\n",
       "      <td>3</td>\n",
       "      <td>Red</td>\n",
       "      <td>361</td>\n",
       "      <td>Red</td>\n",
       "      <td>1</td>\n",
       "      <td>1</td>\n",
       "    </tr>\n",
       "    <tr>\n",
       "      <th>2</th>\n",
       "      <td>1460897</td>\n",
       "      <td>3</td>\n",
       "      <td>0</td>\n",
       "      <td>1</td>\n",
       "      <td>2</td>\n",
       "      <td>Blue</td>\n",
       "      <td>267</td>\n",
       "      <td>Blue</td>\n",
       "      <td>0</td>\n",
       "      <td>1</td>\n",
       "    </tr>\n",
       "    <tr>\n",
       "      <th>3</th>\n",
       "      <td>1466571</td>\n",
       "      <td>0</td>\n",
       "      <td>0</td>\n",
       "      <td>1</td>\n",
       "      <td>2</td>\n",
       "      <td>Blue</td>\n",
       "      <td>229</td>\n",
       "      <td>Blue</td>\n",
       "      <td>0</td>\n",
       "      <td>1</td>\n",
       "    </tr>\n",
       "    <tr>\n",
       "      <th>4</th>\n",
       "      <td>1466571</td>\n",
       "      <td>2</td>\n",
       "      <td>0</td>\n",
       "      <td>0</td>\n",
       "      <td>3</td>\n",
       "      <td>Red</td>\n",
       "      <td>296</td>\n",
       "      <td>Blue</td>\n",
       "      <td>1</td>\n",
       "      <td>1</td>\n",
       "    </tr>\n",
       "    <tr>\n",
       "      <th>...</th>\n",
       "      <td>...</td>\n",
       "      <td>...</td>\n",
       "      <td>...</td>\n",
       "      <td>...</td>\n",
       "      <td>...</td>\n",
       "      <td>...</td>\n",
       "      <td>...</td>\n",
       "      <td>...</td>\n",
       "      <td>...</td>\n",
       "      <td>...</td>\n",
       "    </tr>\n",
       "    <tr>\n",
       "      <th>7506</th>\n",
       "      <td>3897182</td>\n",
       "      <td>1</td>\n",
       "      <td>0</td>\n",
       "      <td>0</td>\n",
       "      <td>3</td>\n",
       "      <td>Red</td>\n",
       "      <td>440</td>\n",
       "      <td>Blue</td>\n",
       "      <td>2</td>\n",
       "      <td>2</td>\n",
       "    </tr>\n",
       "    <tr>\n",
       "      <th>7507</th>\n",
       "      <td>3897182</td>\n",
       "      <td>2</td>\n",
       "      <td>0</td>\n",
       "      <td>0</td>\n",
       "      <td>4</td>\n",
       "      <td>Blue</td>\n",
       "      <td>271</td>\n",
       "      <td>Blue</td>\n",
       "      <td>1</td>\n",
       "      <td>1</td>\n",
       "    </tr>\n",
       "    <tr>\n",
       "      <th>7508</th>\n",
       "      <td>3897222</td>\n",
       "      <td>0</td>\n",
       "      <td>0</td>\n",
       "      <td>0</td>\n",
       "      <td>3</td>\n",
       "      <td>Blue</td>\n",
       "      <td>363</td>\n",
       "      <td>Blue</td>\n",
       "      <td>1</td>\n",
       "      <td>1</td>\n",
       "    </tr>\n",
       "    <tr>\n",
       "      <th>7509</th>\n",
       "      <td>3897222</td>\n",
       "      <td>2</td>\n",
       "      <td>0</td>\n",
       "      <td>0</td>\n",
       "      <td>4</td>\n",
       "      <td>Red</td>\n",
       "      <td>321</td>\n",
       "      <td>Red</td>\n",
       "      <td>2</td>\n",
       "      <td>1</td>\n",
       "    </tr>\n",
       "    <tr>\n",
       "      <th>7510</th>\n",
       "      <td>3897222</td>\n",
       "      <td>3</td>\n",
       "      <td>0</td>\n",
       "      <td>0</td>\n",
       "      <td>3</td>\n",
       "      <td>Blue</td>\n",
       "      <td>278</td>\n",
       "      <td>Blue</td>\n",
       "      <td>0</td>\n",
       "      <td>1</td>\n",
       "    </tr>\n",
       "  </tbody>\n",
       "</table>\n",
       "<p>7511 rows × 10 columns</p>\n",
       "</div>"
      ],
      "text/plain": [
       "           id  round  comeback  roll  num_caps firstcap  length winner  \\\n",
       "0     1460897      1         0     0         4      Red     363    Red   \n",
       "1     1460897      2         0     0         3      Red     361    Red   \n",
       "2     1460897      3         0     1         2     Blue     267   Blue   \n",
       "3     1466571      0         0     1         2     Blue     229   Blue   \n",
       "4     1466571      2         0     0         3      Red     296   Blue   \n",
       "...       ...    ...       ...   ...       ...      ...     ...    ...   \n",
       "7506  3897182      1         0     0         3      Red     440   Blue   \n",
       "7507  3897182      2         0     0         4     Blue     271   Blue   \n",
       "7508  3897222      0         0     0         3     Blue     363   Blue   \n",
       "7509  3897222      2         0     0         4      Red     321    Red   \n",
       "7510  3897222      3         0     0         3     Blue     278   Blue   \n",
       "\n",
       "      blue_lead_change  red_lead_change  \n",
       "0                    3                2  \n",
       "1                    1                1  \n",
       "2                    0                1  \n",
       "3                    0                1  \n",
       "4                    1                1  \n",
       "...                ...              ...  \n",
       "7506                 2                2  \n",
       "7507                 1                1  \n",
       "7508                 1                1  \n",
       "7509                 2                1  \n",
       "7510                 0                1  \n",
       "\n",
       "[7511 rows x 10 columns]"
      ]
     },
     "execution_count": 92,
     "metadata": {},
     "output_type": "execute_result"
    }
   ],
   "source": [
    "koth_rounds"
   ]
  },
  {
   "cell_type": "code",
   "execution_count": 11,
   "id": "18eed9e5",
   "metadata": {},
   "outputs": [
    {
     "data": {
      "application/vnd.microsoft.datawrangler.viewer.v0+json": {
       "columns": [
        {
         "name": "('id', 'winner')",
         "rawType": "object",
         "type": "unknown"
        },
        {
         "name": "total_time",
         "rawType": "float64",
         "type": "float"
        }
       ],
       "ref": "20a875b4-0e10-4910-a215-bf1a9d4701a6",
       "rows": [
        [
         "(np.int64(1460897), 'Blue')",
         "152.0"
        ],
        [
         "(np.int64(1460897), 'Red')",
         "110.0"
        ],
        [
         "(np.int64(1466571), 'Blue')",
         "44.0"
        ],
        [
         "(np.int64(1467241), 'Red')",
         "0.0"
        ],
        [
         "(np.int64(1472420), 'Blue')",
         "54.0"
        ],
        [
         "(np.int64(1472420), 'Red')",
         "191.0"
        ],
        [
         "(np.int64(1475259), 'Red')",
         "74.0"
        ],
        [
         "(np.int64(1477674), 'Blue')",
         "52.0"
        ],
        [
         "(np.int64(1477674), 'Red')",
         "66.0"
        ],
        [
         "(np.int64(1479403), 'Blue')",
         "100.0"
        ],
        [
         "(np.int64(1481128), 'Blue')",
         "112.0"
        ],
        [
         "(np.int64(1481128), 'Red')",
         "90.0"
        ],
        [
         "(np.int64(1484066), 'Blue')",
         "105.0"
        ],
        [
         "(np.int64(1484066), 'Red')",
         "137.0"
        ],
        [
         "(np.int64(1484922), 'Red')",
         "70.0"
        ],
        [
         "(np.int64(1485795), 'Blue')",
         "196.0"
        ],
        [
         "(np.int64(1485795), 'Red')",
         "83.0"
        ],
        [
         "(np.int64(1485811), 'Blue')",
         "94.0"
        ],
        [
         "(np.int64(1485811), 'Red')",
         "106.0"
        ],
        [
         "(np.int64(1486556), 'Blue')",
         "182.0"
        ],
        [
         "(np.int64(1486562), 'Blue')",
         "243.0"
        ],
        [
         "(np.int64(1486562), 'Red')",
         "125.0"
        ],
        [
         "(np.int64(1486573), 'Blue')",
         "139.0"
        ],
        [
         "(np.int64(1486604), 'Blue')",
         "85.0"
        ],
        [
         "(np.int64(1487455), 'Red')",
         "189.0"
        ],
        [
         "(np.int64(1487484), 'Blue')",
         "110.0"
        ],
        [
         "(np.int64(1487484), 'Red')",
         "198.0"
        ],
        [
         "(np.int64(1487508), 'Blue')",
         "50.0"
        ],
        [
         "(np.int64(1487508), 'Red')",
         "120.0"
        ],
        [
         "(np.int64(1488326), 'Blue')",
         "110.0"
        ],
        [
         "(np.int64(1488353), 'Blue')",
         "110.0"
        ],
        [
         "(np.int64(1488353), 'Red')",
         "194.0"
        ],
        [
         "(np.int64(1488381), 'Blue')",
         "159.0"
        ],
        [
         "(np.int64(1488393), 'Blue')",
         "124.0"
        ],
        [
         "(np.int64(1488393), 'Red')",
         "125.0"
        ],
        [
         "(np.int64(1488471), 'Blue')",
         "128.0"
        ],
        [
         "(np.int64(1489257), 'Red')",
         "54.0"
        ],
        [
         "(np.int64(1489302), 'Blue')",
         "166.0"
        ],
        [
         "(np.int64(1489302), 'Red')",
         "66.0"
        ],
        [
         "(np.int64(1489328), 'Blue')",
         "52.0"
        ],
        [
         "(np.int64(1489330), 'Blue')",
         "146.0"
        ],
        [
         "(np.int64(1489330), 'Red')",
         "173.0"
        ],
        [
         "(np.int64(1489353), 'Blue')",
         "100.0"
        ],
        [
         "(np.int64(1489353), 'Red')",
         "174.0"
        ],
        [
         "(np.int64(1489390), 'Blue')",
         "101.0"
        ],
        [
         "(np.int64(1490175), 'Blue')",
         "75.0"
        ],
        [
         "(np.int64(1490175), 'Red')",
         "235.0"
        ],
        [
         "(np.int64(1490206), 'Blue')",
         "68.0"
        ],
        [
         "(np.int64(1490242), 'Blue')",
         "190.0"
        ],
        [
         "(np.int64(1490244), 'Blue')",
         "82.0"
        ]
       ],
       "shape": {
        "columns": 1,
        "rows": 4497
       }
      },
      "text/plain": [
       "id       winner\n",
       "1460897  Blue      152.0\n",
       "         Red       110.0\n",
       "1466571  Blue       44.0\n",
       "1467241  Red         0.0\n",
       "1472420  Blue       54.0\n",
       "                   ...  \n",
       "3897174  Blue       55.0\n",
       "         Red        48.0\n",
       "3897182  Blue       68.0\n",
       "3897222  Blue      105.0\n",
       "         Red        61.0\n",
       "Name: total_time, Length: 4497, dtype: float64"
      ]
     },
     "execution_count": 11,
     "metadata": {},
     "output_type": "execute_result"
    }
   ],
   "source": [
    "# Shortest / Long Win\n",
    "koth_stats['total_time'] = koth_stats['blue_cap_time'] + koth_stats['red_cap_time']\n",
    "koth_stats.groupby(['id','winner'])['total_time'].min()"
   ]
  },
  {
   "cell_type": "markdown",
   "id": "61bf2e27",
   "metadata": {},
   "source": [
    "* Quantile Columns"
   ]
  },
  {
   "cell_type": "code",
   "execution_count": 30,
   "id": "b6293ae5",
   "metadata": {},
   "outputs": [],
   "source": [
    "# List out columns\n",
    "quant_cols = [\n",
    "    \"kills\",\n",
    "    \"assists\",\n",
    "    \"dmg\",\n",
    "   'dapm',\n",
    "   'kpd',\n",
    "   'offclass_pct',\n",
    "   'kill_pct',\n",
    "   'deaths_pct',\n",
    "   'dmg_pct',\n",
    "   'dmg_real_pct',\n",
    "   'cpc_pct',\n",
    "   'ka_pct',\n",
    "   'assists_pct',\n",
    "   'dt_pct',\n",
    "   'dt_real_pct',\n",
    "   'hroi',\n",
    "   'assistspd',\n",
    "   'demoman_kills_class_kdapd',\n",
    "   'scout_kills_class_kdapd',\n",
    "   'soldier_kills_class_kdapd',\n",
    "   'medic_kills_class_kdapd',\n",
    "    'demoman_deaths_class_kdapd',\n",
    "   'scout_deaths_class_kdapd',\n",
    "   'soldier_deaths_class_kdapd',\n",
    "    'medic_deaths_class_kdapd',\n",
    "   'dtpm',\n",
    "   'dt_realpm',\n",
    "   'healpm',\n",
    "   'medkits_hppm', \n",
    "   'hrpm', \n",
    "   'deathspm'\n",
    "\n",
    "]\n",
    "\n",
    "# Only grab valid ids to make quanitles on\n",
    "sub_players = players[players['id'].isin(valid_ids['id'])].copy()\n",
    "sub_players = sub_players[['id',\"primary_class\",'steamid']+ quant_cols]\n",
    "\n",
    "# loop through classes and construct the quantile sets\n",
    "ranked_df = pd.DataFrame()\n",
    "for class_name in sub_players['primary_class'].unique():\n",
    "    sub_class = sub_players[sub_players['primary_class'] == class_name].copy()\n",
    "    \n",
    "    binding_df = sub_class[['id',\"primary_class\",'steamid']].copy()\n",
    "    sub_class.drop(['id',\"primary_class\",'steamid'],axis = 1,inplace= True)\n",
    "    \n",
    "    sub_class = sub_class.rank(pct = True)\n",
    "    sub_class = pd.concat([binding_df,sub_class],axis = 1)\n",
    "    \n",
    "    ranked_df = pd.concat([ranked_df,sub_class])\n",
    "    \n",
    "# Rename columns\n",
    "ranked_df.columns = ['id','primary_class','steamid'] + [col + '_quantile' for \n",
    "                                                        col in ranked_df.columns if\n",
    "                                                        col not in ['id','steamid','primary_class']]\n",
    "\n",
    "ranked_df.to_csv(\"../data/players_quantile.csv\")\n"
   ]
  }
 ],
 "metadata": {
  "kernelspec": {
   "display_name": "Python 3",
   "language": "python",
   "name": "python3"
  },
  "language_info": {
   "codemirror_mode": {
    "name": "ipython",
    "version": 3
   },
   "file_extension": ".py",
   "mimetype": "text/x-python",
   "name": "python",
   "nbconvert_exporter": "python",
   "pygments_lexer": "ipython3",
   "version": "3.13.3"
  }
 },
 "nbformat": 4,
 "nbformat_minor": 5
}
